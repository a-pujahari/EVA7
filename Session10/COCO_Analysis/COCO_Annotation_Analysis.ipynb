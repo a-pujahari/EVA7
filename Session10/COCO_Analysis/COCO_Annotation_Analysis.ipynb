{
  "nbformat": 4,
  "nbformat_minor": 0,
  "metadata": {
    "colab": {
      "name": "COCO_Annotation_Analysis.ipynb",
      "provenance": [],
      "authorship_tag": "ABX9TyOObONrvzerf6idz+35kxSE",
      "include_colab_link": true
    },
    "kernelspec": {
      "name": "python3",
      "display_name": "Python 3"
    },
    "language_info": {
      "name": "python"
    }
  },
  "cells": [
    {
      "cell_type": "markdown",
      "metadata": {
        "id": "view-in-github",
        "colab_type": "text"
      },
      "source": [
        "<a href=\"https://colab.research.google.com/github/a-pujahari/EVA7/blob/main/Session10/COCO_Analysis/COCO_Annotation_Analysis.ipynb\" target=\"_parent\"><img src=\"https://colab.research.google.com/assets/colab-badge.svg\" alt=\"Open In Colab\"/></a>"
      ]
    },
    {
      "cell_type": "markdown",
      "source": [
        "# COCO Annotation Analysis\n",
        "\n",
        "COCO stands for Common Objects in COntext - microsoft's dataset for object detection. The dataset's popularity has made the annotation format used extremely popular and a go-to choice for object detection tasks.\n",
        "\n"
      ],
      "metadata": {
        "id": "RzhT9meIM7di"
      }
    },
    {
      "cell_type": "markdown",
      "source": [
        "## Import Libraries"
      ],
      "metadata": {
        "id": "VI57sVxCUASO"
      }
    },
    {
      "cell_type": "code",
      "source": [
        "import numpy as np\n",
        "import pandas as pd\n",
        "import json\n",
        "from matplotlib import pyplot as plt\n",
        "from sklearn.cluster import KMeans\n"
      ],
      "metadata": {
        "id": "F92VnhGRM_6G"
      },
      "execution_count": 1,
      "outputs": []
    },
    {
      "cell_type": "markdown",
      "source": [
        "## Download COCO Dataset"
      ],
      "metadata": {
        "id": "67UP3VUEXqtr"
      }
    },
    {
      "cell_type": "code",
      "source": [
        "!wget http://images.cocodataset.org/annotations/annotations_trainval2017.zip\n",
        "!unzip 'annotations_trainval2017.zip'"
      ],
      "metadata": {
        "colab": {
          "base_uri": "https://localhost:8080/"
        },
        "id": "erTteOoaXp3Y",
        "outputId": "33cf6414-61f1-4f47-b43c-26ce60304ffe"
      },
      "execution_count": 2,
      "outputs": [
        {
          "output_type": "stream",
          "name": "stdout",
          "text": [
            "--2021-12-13 15:17:46--  http://images.cocodataset.org/annotations/annotations_trainval2017.zip\n",
            "Resolving images.cocodataset.org (images.cocodataset.org)... 52.217.69.60\n",
            "Connecting to images.cocodataset.org (images.cocodataset.org)|52.217.69.60|:80... connected.\n",
            "HTTP request sent, awaiting response... 200 OK\n",
            "Length: 252907541 (241M) [application/zip]\n",
            "Saving to: ‘annotations_trainval2017.zip’\n",
            "\n",
            "annotations_trainva 100%[===================>] 241.19M  96.2MB/s    in 2.5s    \n",
            "\n",
            "2021-12-13 15:17:49 (96.2 MB/s) - ‘annotations_trainval2017.zip’ saved [252907541/252907541]\n",
            "\n",
            "Archive:  annotations_trainval2017.zip\n",
            "  inflating: annotations/instances_train2017.json  \n",
            "  inflating: annotations/instances_val2017.json  \n",
            "  inflating: annotations/captions_train2017.json  \n",
            "  inflating: annotations/captions_val2017.json  \n",
            "  inflating: annotations/person_keypoints_train2017.json  \n",
            "  inflating: annotations/person_keypoints_val2017.json  \n"
          ]
        }
      ]
    },
    {
      "cell_type": "markdown",
      "source": [
        "## Read and Open COCO JSON File"
      ],
      "metadata": {
        "id": "b9mzLAO8XxHl"
      }
    },
    {
      "cell_type": "code",
      "source": [
        "filestream = open('/content/annotations/instances_train2017.json')\n",
        "annotation_data = json.load(filestream)\n",
        "print(annotation_data.keys())"
      ],
      "metadata": {
        "colab": {
          "base_uri": "https://localhost:8080/"
        },
        "id": "Bz-wahVQUN7U",
        "outputId": "9ab315d6-97c0-4b2c-a9ef-e4d679a4e052"
      },
      "execution_count": 3,
      "outputs": [
        {
          "output_type": "stream",
          "name": "stdout",
          "text": [
            "dict_keys(['info', 'licenses', 'images', 'annotations', 'categories'])\n"
          ]
        }
      ]
    },
    {
      "cell_type": "code",
      "source": [
        "print(annotation_data['annotations'][2])"
      ],
      "metadata": {
        "colab": {
          "base_uri": "https://localhost:8080/"
        },
        "id": "7S2ZQ7dEd6RU",
        "outputId": "491fbd38-e5e7-49db-f7cc-ce920b1ae23c"
      },
      "execution_count": 30,
      "outputs": [
        {
          "output_type": "stream",
          "name": "stdout",
          "text": [
            "{'segmentation': [[274.58, 405.68, 298.32, 405.68, 302.45, 402.58, 333.42, 404.65, 356.13, 397.42, 386.06, 386.06, 398.45, 367.48, 399.48, 356.13, 392.26, 347.87, 382.97, 350.97, 339.61, 357.16, 283.87, 365.42, 269.42, 367.48, 243.61, 362.32, 239.48, 368.52, 241.55, 374.71, 253.94, 381.94, 267.35, 385.03, 271.48, 394.32, 271.48, 399.48, 272.52, 400.52, 281.81, 404.65]], 'area': 5607.661349999996, 'iscrowd': 0, 'image_id': 200365, 'bbox': [239.48, 347.87, 160.0, 57.81], 'category_id': 58, 'id': 603}\n"
          ]
        }
      ]
    },
    {
      "cell_type": "code",
      "source": [
        "annotation_data['annotations'][0]"
      ],
      "metadata": {
        "colab": {
          "base_uri": "https://localhost:8080/"
        },
        "id": "pObLvuxZdC8y",
        "outputId": "7132a4e8-51d9-4a55-d9bd-30debd067532"
      },
      "execution_count": 20,
      "outputs": [
        {
          "output_type": "execute_result",
          "data": {
            "text/plain": [
              "{'area': 2765.1486500000005,\n",
              " 'bbox': [199.84, 200.46, 77.71, 70.88],\n",
              " 'category_id': 58,\n",
              " 'id': 156,\n",
              " 'image_id': 558840,\n",
              " 'iscrowd': 0,\n",
              " 'segmentation': [[239.97,\n",
              "   260.24,\n",
              "   222.04,\n",
              "   270.49,\n",
              "   199.84,\n",
              "   253.41,\n",
              "   213.5,\n",
              "   227.79,\n",
              "   259.62,\n",
              "   200.46,\n",
              "   274.13,\n",
              "   202.17,\n",
              "   277.55,\n",
              "   210.71,\n",
              "   249.37,\n",
              "   253.41,\n",
              "   237.41,\n",
              "   264.51,\n",
              "   242.54,\n",
              "   261.95,\n",
              "   228.87,\n",
              "   271.34]]}"
            ]
          },
          "metadata": {},
          "execution_count": 20
        }
      ]
    },
    {
      "cell_type": "code",
      "source": [
        "print(\"Total number of images in the dataset is: \" + str(len(annotation_data['images'])))\n",
        "print(\"Total number of annotated boxes in the dataset is: \" + str(len(annotation_data['annotations'])))\n",
        "print(\"Total number of categories/classes in the dataset is: \" + str(len(annotation_data['categories'])))\n"
      ],
      "metadata": {
        "colab": {
          "base_uri": "https://localhost:8080/"
        },
        "id": "MGFJqMe9Y5LU",
        "outputId": "8946e5df-2366-4afa-dedf-c48810d249c2"
      },
      "execution_count": 11,
      "outputs": [
        {
          "output_type": "stream",
          "name": "stdout",
          "text": [
            "Total number of images in the dataset is: 118287\n",
            "Total number of annotated boxes in the dataset is: 860001\n",
            "Total number of categories/classes in the dataset is: 80\n"
          ]
        }
      ]
    },
    {
      "cell_type": "markdown",
      "source": [
        "## Class-wise Average Area Distribution"
      ],
      "metadata": {
        "id": "P-aRo7a7cldy"
      }
    },
    {
      "cell_type": "code",
      "source": [
        "category_map = {}\n",
        "for cat in annotation_data['categories']:\n",
        "  cat_id = cat['id']\n",
        "  cat_name = cat['name']\n",
        "\n",
        "  category_map[cat_id] = cat_name\n",
        "  "
      ],
      "metadata": {
        "id": "xurNIWKSfxPe"
      },
      "execution_count": 37,
      "outputs": []
    },
    {
      "cell_type": "code",
      "source": [
        "bbox_areas = {}\n",
        "\n",
        "for ann in annotation_data['annotations']:\n",
        "    area = ann['area']\n",
        "    cat_id = ann['category_id']\n",
        "    cat_name = category_map[cat_id]\n",
        "    if area <= 0.0:\n",
        "        continue\n",
        "    \n",
        "    if cat_name in bbox_areas.keys():\n",
        "        bbox_areas[cat_name].append(area)\n",
        "    else:\n",
        "        bbox_areas[cat_name] = [area]\n",
        "\n",
        "\n",
        "bbox_avg_areas = []\n",
        "\n",
        "for cat in bbox_areas.keys():\n",
        "    areas = bbox_areas[cat]\n",
        "    avg_area = int(sum(areas)/len(areas))\n",
        "    \n",
        "    bbox_avg_areas.append((cat,avg_area))\n",
        "\n",
        "bbox_avg_areas = sorted(bbox_avg_areas, key = lambda x: x[1])"
      ],
      "metadata": {
        "id": "dyZXC7subDBn"
      },
      "execution_count": 38,
      "outputs": []
    },
    {
      "cell_type": "code",
      "source": [
        "top = min(10, len(bbox_avg_areas))\n",
        "\n",
        "plt.figure(figsize=(10,10))\n",
        "\n",
        "y = [item[1] for item in bbox_avg_areas[-top:]]\n",
        "x = [item[0] for item in bbox_avg_areas[-top:]]\n",
        "\n",
        "y2 = [item[1] for item in bbox_avg_areas[:top]]\n",
        "x2 = [item[0] for item in bbox_avg_areas[:top]]\n",
        "\n",
        "plt.subplot(211)\n",
        "plt.bar(np.arange(len(y)),y, width=0.5,tick_label=x,color='blue')\n",
        "plt.xlim(-0.5,len(y))\n",
        "plt.xticks(rotation=90) \n",
        "plt.ylabel('Average bounding box area in pixel squared')\n",
        "plt.title('Top '+str(top)+' Classes with highest avg bounding box size')\n",
        "plt.tight_layout()\n",
        "\n",
        "\n",
        "plt.subplot(212)\n",
        "plt.bar(np.arange(len(y2)),y2, width=0.5,tick_label=x2,color='blue')\n",
        "plt.xlim(-0.5,len(y2))\n",
        "plt.xlabel('Category')\n",
        "plt.xticks(rotation=90) \n",
        "plt.ylabel('Average bounding box area in pixel squared')\n",
        "plt.title('Top '+str(top)+' Classes with lowest avg bounding box size')\n",
        "plt.show()"
      ],
      "metadata": {
        "colab": {
          "base_uri": "https://localhost:8080/",
          "height": 823
        },
        "id": "x2fesg_3c4yI",
        "outputId": "274a09fc-5ca5-457b-c2db-3e83f1b7fefc"
      },
      "execution_count": 75,
      "outputs": [
        {
          "output_type": "display_data",
          "data": {
            "image/png": "[encoded data removed]",
            "text/plain": [
              "<Figure size 720x720 with 2 Axes>"
            ]
          },
          "metadata": {
            "needs_background": "light"
          }
        }
      ]
    },
    {
      "cell_type": "markdown",
      "source": [
        "## Category Wise Distribution"
      ],
      "metadata": {
        "id": "-47yM5xWiyY0"
      }
    },
    {
      "cell_type": "code",
      "source": [
        "# Class distribution\n",
        "class2nboxes = {} \n",
        "\n",
        "for ann in annotation_data['annotations']:\n",
        "    cat_id = ann['category_id']\n",
        "    cat_name = category_map[cat_id]\n",
        "    \n",
        "    if cat_name in class2nboxes.keys():\n",
        "        class2nboxes[cat_name] += 1\n",
        "    else:\n",
        "        class2nboxes[cat_name] = 1\n",
        "\n",
        "sorted_c2nb = [(k,v)for k, v in sorted(class2nboxes.items(), reverse=True, key=lambda item: item[1])]\n",
        "\n",
        "# top 20 classes\n",
        "top = min(len(sorted_c2nb),20)\n",
        "\n",
        "# to plot\n",
        "y = [i[1] for i in sorted_c2nb[:top]]\n",
        "x = [i[0] for i in sorted_c2nb[:top]]\n",
        "\n",
        "plt.figure(figsize=(10,5))\n",
        "plt.bar(np.arange(len(y)),y, width=0.5,tick_label=x,color='blue')\n",
        "plt.xticks(rotation=90) \n",
        "plt.xlim(-0.5,len(y))\n",
        "plt.xlabel('Category')\n",
        "plt.ylabel('Number of boxes')\n",
        "plt.title('Class distribution (decreasing order)')\n",
        "plt.show()"
      ],
      "metadata": {
        "colab": {
          "base_uri": "https://localhost:8080/",
          "height": 399
        },
        "id": "pZClDAmjiz40",
        "outputId": "a2861677-5812-4104-e01a-cfe54793a008"
      },
      "execution_count": 74,
      "outputs": [
        {
          "output_type": "display_data",
          "data": {
            "image/png": "[encoded data removed]",
            "text/plain": [
              "<Figure size 720x360 with 1 Axes>"
            ]
          },
          "metadata": {
            "needs_background": "light"
          }
        }
      ]
    },
    {
      "cell_type": "markdown",
      "source": [
        "## K-Means Clustering - Data Prep\n",
        "\n",
        "### Create dataframes from Image and Annotation Data"
      ],
      "metadata": {
        "id": "UaotkKz_kbbt"
      }
    },
    {
      "cell_type": "code",
      "source": [
        "images_df = pd.DataFrame(annotation_data['images'], columns = annotation_data['images'][0].keys())\n",
        "annotations_df = pd.DataFrame(annotation_data['annotations'], columns = annotation_data['annotations'][0].keys())"
      ],
      "metadata": {
        "id": "NIJR5GZUi0Yn"
      },
      "execution_count": 42,
      "outputs": []
    },
    {
      "cell_type": "code",
      "source": [
        "annotation_map_df = pd.concat([images_df, annotations_df], 1)[['file_name', 'width', 'height', 'bbox']]\n",
        "box_df = pd.DataFrame(annotation_map_df['bbox'].values.tolist(), columns =['x', 'y', 'box_width', 'box_height'])\n",
        "annotation_map_df = pd.concat([annotation_map_df, box_df], 1)\n",
        "annotation_map_df = annotation_map_df.drop('bbox', axis =1)"
      ],
      "metadata": {
        "id": "cV26R82Dk05J"
      },
      "execution_count": 44,
      "outputs": []
    },
    {
      "cell_type": "code",
      "source": [
        "annotation_map_df"
      ],
      "metadata": {
        "colab": {
          "base_uri": "https://localhost:8080/",
          "height": 424
        },
        "id": "LmWJqV6jk1-K",
        "outputId": "b52f0904-85e6-4ea3-e5c9-6bd78cb209fb"
      },
      "execution_count": 45,
      "outputs": [
        {
          "output_type": "execute_result",
          "data": {
            "text/html": [
              "<div>\n",
              "<style scoped>\n",
              "    .dataframe tbody tr th:only-of-type {\n",
              "        vertical-align: middle;\n",
              "    }\n",
              "\n",
              "    .dataframe tbody tr th {\n",
              "        vertical-align: top;\n",
              "    }\n",
              "\n",
              "    .dataframe thead th {\n",
              "        text-align: right;\n",
              "    }\n",
              "</style>\n",
              "<table border=\"1\" class=\"dataframe\">\n",
              "  <thead>\n",
              "    <tr style=\"text-align: right;\">\n",
              "      <th></th>\n",
              "      <th>file_name</th>\n",
              "      <th>width</th>\n",
              "      <th>height</th>\n",
              "      <th>x</th>\n",
              "      <th>y</th>\n",
              "      <th>box_width</th>\n",
              "      <th>box_height</th>\n",
              "    </tr>\n",
              "  </thead>\n",
              "  <tbody>\n",
              "    <tr>\n",
              "      <th>0</th>\n",
              "      <td>000000391895.jpg</td>\n",
              "      <td>640.0</td>\n",
              "      <td>360.0</td>\n",
              "      <td>199.84</td>\n",
              "      <td>200.46</td>\n",
              "      <td>77.71</td>\n",
              "      <td>70.88</td>\n",
              "    </tr>\n",
              "    <tr>\n",
              "      <th>1</th>\n",
              "      <td>000000522418.jpg</td>\n",
              "      <td>640.0</td>\n",
              "      <td>480.0</td>\n",
              "      <td>234.22</td>\n",
              "      <td>317.11</td>\n",
              "      <td>149.39</td>\n",
              "      <td>38.55</td>\n",
              "    </tr>\n",
              "    <tr>\n",
              "      <th>2</th>\n",
              "      <td>000000184613.jpg</td>\n",
              "      <td>500.0</td>\n",
              "      <td>336.0</td>\n",
              "      <td>239.48</td>\n",
              "      <td>347.87</td>\n",
              "      <td>160.00</td>\n",
              "      <td>57.81</td>\n",
              "    </tr>\n",
              "    <tr>\n",
              "      <th>3</th>\n",
              "      <td>000000318219.jpg</td>\n",
              "      <td>556.0</td>\n",
              "      <td>640.0</td>\n",
              "      <td>296.65</td>\n",
              "      <td>388.33</td>\n",
              "      <td>1.03</td>\n",
              "      <td>0.00</td>\n",
              "    </tr>\n",
              "    <tr>\n",
              "      <th>4</th>\n",
              "      <td>000000554625.jpg</td>\n",
              "      <td>426.0</td>\n",
              "      <td>640.0</td>\n",
              "      <td>251.87</td>\n",
              "      <td>333.42</td>\n",
              "      <td>125.94</td>\n",
              "      <td>22.71</td>\n",
              "    </tr>\n",
              "    <tr>\n",
              "      <th>...</th>\n",
              "      <td>...</td>\n",
              "      <td>...</td>\n",
              "      <td>...</td>\n",
              "      <td>...</td>\n",
              "      <td>...</td>\n",
              "      <td>...</td>\n",
              "      <td>...</td>\n",
              "    </tr>\n",
              "    <tr>\n",
              "      <th>859996</th>\n",
              "      <td>NaN</td>\n",
              "      <td>NaN</td>\n",
              "      <td>NaN</td>\n",
              "      <td>40.00</td>\n",
              "      <td>104.00</td>\n",
              "      <td>394.00</td>\n",
              "      <td>43.00</td>\n",
              "    </tr>\n",
              "    <tr>\n",
              "      <th>859997</th>\n",
              "      <td>NaN</td>\n",
              "      <td>NaN</td>\n",
              "      <td>NaN</td>\n",
              "      <td>137.00</td>\n",
              "      <td>195.00</td>\n",
              "      <td>140.00</td>\n",
              "      <td>138.00</td>\n",
              "    </tr>\n",
              "    <tr>\n",
              "      <th>859998</th>\n",
              "      <td>NaN</td>\n",
              "      <td>NaN</td>\n",
              "      <td>NaN</td>\n",
              "      <td>476.00</td>\n",
              "      <td>200.00</td>\n",
              "      <td>153.00</td>\n",
              "      <td>85.00</td>\n",
              "    </tr>\n",
              "    <tr>\n",
              "      <th>859999</th>\n",
              "      <td>NaN</td>\n",
              "      <td>NaN</td>\n",
              "      <td>NaN</td>\n",
              "      <td>275.00</td>\n",
              "      <td>207.00</td>\n",
              "      <td>153.00</td>\n",
              "      <td>148.00</td>\n",
              "    </tr>\n",
              "    <tr>\n",
              "      <th>860000</th>\n",
              "      <td>NaN</td>\n",
              "      <td>NaN</td>\n",
              "      <td>NaN</td>\n",
              "      <td>227.00</td>\n",
              "      <td>260.00</td>\n",
              "      <td>397.00</td>\n",
              "      <td>82.00</td>\n",
              "    </tr>\n",
              "  </tbody>\n",
              "</table>\n",
              "<p>860001 rows × 7 columns</p>\n",
              "</div>"
            ],
            "text/plain": [
              "               file_name  width  height       x       y  box_width  box_height\n",
              "0       000000391895.jpg  640.0   360.0  199.84  200.46      77.71       70.88\n",
              "1       000000522418.jpg  640.0   480.0  234.22  317.11     149.39       38.55\n",
              "2       000000184613.jpg  500.0   336.0  239.48  347.87     160.00       57.81\n",
              "3       000000318219.jpg  556.0   640.0  296.65  388.33       1.03        0.00\n",
              "4       000000554625.jpg  426.0   640.0  251.87  333.42     125.94       22.71\n",
              "...                  ...    ...     ...     ...     ...        ...         ...\n",
              "859996               NaN    NaN     NaN   40.00  104.00     394.00       43.00\n",
              "859997               NaN    NaN     NaN  137.00  195.00     140.00      138.00\n",
              "859998               NaN    NaN     NaN  476.00  200.00     153.00       85.00\n",
              "859999               NaN    NaN     NaN  275.00  207.00     153.00      148.00\n",
              "860000               NaN    NaN     NaN  227.00  260.00     397.00       82.00\n",
              "\n",
              "[860001 rows x 7 columns]"
            ]
          },
          "metadata": {},
          "execution_count": 45
        }
      ]
    },
    {
      "cell_type": "markdown",
      "source": [
        "### Clean Up Data Frame"
      ],
      "metadata": {
        "id": "cm3cj7ZXnOCq"
      }
    },
    {
      "cell_type": "code",
      "source": [
        "annotation_map_df = annotation_map_df.dropna() \n",
        "annotation_map_df.isnull().any()"
      ],
      "metadata": {
        "colab": {
          "base_uri": "https://localhost:8080/"
        },
        "id": "-PgOARfknFdD",
        "outputId": "9d636e6b-950b-4644-dd3a-ff012706a404"
      },
      "execution_count": 46,
      "outputs": [
        {
          "output_type": "execute_result",
          "data": {
            "text/plain": [
              "file_name     False\n",
              "width         False\n",
              "height        False\n",
              "x             False\n",
              "y             False\n",
              "box_width     False\n",
              "box_height    False\n",
              "dtype: bool"
            ]
          },
          "metadata": {},
          "execution_count": 46
        }
      ]
    },
    {
      "cell_type": "markdown",
      "source": [
        "### Covert to numpy array"
      ],
      "metadata": {
        "id": "DYe-rPkzob3O"
      }
    },
    {
      "cell_type": "code",
      "source": [
        "size_array = annotation_map_df[[\"box_width\", \"box_height\"]].to_numpy()"
      ],
      "metadata": {
        "id": "V3LtvKTdnX5e"
      },
      "execution_count": 47,
      "outputs": []
    },
    {
      "cell_type": "markdown",
      "source": [
        "### Scale Data"
      ],
      "metadata": {
        "id": "6NVyQt8Lohfc"
      }
    },
    {
      "cell_type": "code",
      "source": [
        "from sklearn.preprocessing import MinMaxScaler\n",
        "\n",
        "scaler = MinMaxScaler()\n",
        "\n",
        "scaled_size = scaler.fit_transform(size_array)\n",
        "scaled_size"
      ],
      "metadata": {
        "colab": {
          "base_uri": "https://localhost:8080/"
        },
        "id": "7ChVD8BVogZw",
        "outputId": "057b59b5-4c48-4530-9dd9-2e03b156876a"
      },
      "execution_count": 50,
      "outputs": [
        {
          "output_type": "execute_result",
          "data": {
            "text/plain": [
              "array([[0.12048739, 0.11075   ],\n",
              "       [0.23260652, 0.06023437],\n",
              "       [0.24920228, 0.09032813],\n",
              "       ...,\n",
              "       [0.03810298, 0.03459375],\n",
              "       [0.01079272, 0.01135937],\n",
              "       [0.01049553, 0.01235938]])"
            ]
          },
          "metadata": {},
          "execution_count": 50
        }
      ]
    },
    {
      "cell_type": "markdown",
      "source": [
        "### Using the Elbow method to find ideal cluster size"
      ],
      "metadata": {
        "id": "MZ1AzK__q8X9"
      }
    },
    {
      "cell_type": "code",
      "source": [
        "# Using the elbow method to find the optimal number of clusters\n",
        "from sklearn.cluster import KMeans\n",
        "wcss = []\n",
        "for i in range(1, 11):\n",
        "    kmeans = KMeans(n_clusters = i, init = 'k-means++', random_state = 42)\n",
        "    kmeans.fit(scaled_size)\n",
        "    wcss.append(kmeans.inertia_)\n",
        "plt.plot(range(1, 11), wcss)\n",
        "plt.title('The Elbow Method')\n",
        "plt.xlabel('Number of clusters')\n",
        "plt.ylabel('WCSS')\n",
        "plt.show()\n",
        "\n"
      ],
      "metadata": {
        "colab": {
          "base_uri": "https://localhost:8080/",
          "height": 295
        },
        "id": "DtSuOUmoowlX",
        "outputId": "9f510057-301b-4daf-fe2e-171c828997c5"
      },
      "execution_count": 51,
      "outputs": [
        {
          "output_type": "display_data",
          "data": {
            "image/png": "[encoded data removed]",
            "text/plain": [
              "<Figure size 432x288 with 1 Axes>"
            ]
          },
          "metadata": {
            "needs_background": "light"
          }
        }
      ]
    },
    {
      "cell_type": "code",
      "source": [
        "# Training the K-Means model on the dataset - Elbow method suggests ideal number of clusters is 2/3\n",
        "kmeans = KMeans(n_clusters = 3, init = 'k-means++', random_state = 42)\n",
        "y_kmeans = kmeans.fit_predict(scaled_size)\n",
        "\n",
        "# Visualising the clusters\n",
        "plt.scatter(scaled_size[y_kmeans == 0, 0], scaled_size[y_kmeans == 0, 1], s = 100, c = 'red', label = 'Cluster 1')\n",
        "plt.scatter(scaled_size[y_kmeans == 1, 0], scaled_size[y_kmeans == 1, 1], s = 100, c = 'blue', label = 'Cluster 2')\n",
        "plt.scatter(scaled_size[y_kmeans == 2, 0], scaled_size[y_kmeans == 2, 1], s = 100, c = 'green', label = 'Cluster 3')\n",
        "# plt.scatter(scaled_size[y_kmeans == 3, 0], scaled_size[y_kmeans == 3, 1], s = 100, c = 'cyan', label = 'Cluster 4')\n",
        "# plt.scatter(scaled_size[y_kmeans == 4, 0], scaled_size[y_kmeans == 4, 1], s = 100, c = 'magenta', label = 'Cluster 5')\n",
        "plt.scatter(kmeans.cluster_centers_[:, 0], kmeans.cluster_centers_[:, 1], s = 300, c = 'yellow', label = 'Centroids')\n",
        "plt.title('Clusters of BBoxes')\n",
        "plt.xlabel('Width')\n",
        "plt.ylabel('Height')\n",
        "plt.legend()\n",
        "plt.show()"
      ],
      "metadata": {
        "colab": {
          "base_uri": "https://localhost:8080/",
          "height": 295
        },
        "id": "yBOQOWdrqoQ0",
        "outputId": "849f98b3-f3be-4aa9-955d-209c6e6f1254"
      },
      "execution_count": 55,
      "outputs": [
        {
          "output_type": "display_data",
          "data": {
            "image/png": "[encoded data removed]",
            "text/plain": [
              "<Figure size 432x288 with 1 Axes>"
            ]
          },
          "metadata": {
            "needs_background": "light"
          }
        }
      ]
    },
    {
      "cell_type": "markdown",
      "source": [
        "## Visualize Anchor Boxes"
      ],
      "metadata": {
        "id": "J_yP7_WjsSi4"
      }
    },
    {
      "cell_type": "code",
      "source": [
        "from matplotlib.collections import PatchCollection\n",
        "from matplotlib.patches import Rectangle\n",
        "\n",
        "def plot_anchor_boxes(cluster_centers):\n",
        "    \n",
        "    xdata = np.array([0.5]*len(cluster_centers))\n",
        "    ydata = np.array([0.5]*len(cluster_centers))\n",
        "\n",
        "    xerror = np.array([list(np.exp(cluster_centers[:, 0])/2)]*2)\n",
        "    yerror = np.array([list(np.exp(cluster_centers[:, 1])/2)]*2)\n",
        "\n",
        "    errorboxes = []\n",
        "\n",
        "    for x, y, xe, ye in zip(xdata, ydata, xerror.T, yerror.T):\n",
        "        rect = Rectangle((x - xe[0], y - ye[0]), xe.sum(), ye.sum())\n",
        "        errorboxes.append(rect)\n",
        "\n",
        "    pc = PatchCollection(errorboxes, facecolor='None', alpha=1, edgecolor='r')\n",
        "    fig, ax = plt.subplots(1)\n",
        "\n",
        "    ax.add_collection(pc)\n",
        "    plt.title(f'Anchor Boxes for k = {len(cluster_centers)}')\n",
        "    artists = plt.errorbar(xdata, ydata, xerr=xerror, yerr=yerror, fmt='None', ecolor='None')"
      ],
      "metadata": {
        "id": "8HVeKjHWrEfq"
      },
      "execution_count": 62,
      "outputs": []
    },
    {
      "cell_type": "markdown",
      "source": [
        "### Anchor Boxes for K = 3"
      ],
      "metadata": {
        "id": "sGUeJV_jxn2P"
      }
    },
    {
      "cell_type": "code",
      "source": [
        "print(\"Anchor Box sizes for k = 3\")\n",
        "scaler.inverse_transform(kmeans.cluster_centers_)"
      ],
      "metadata": {
        "colab": {
          "base_uri": "https://localhost:8080/"
        },
        "id": "ycJCO9a9t6dy",
        "outputId": "146c166b-a3a2-4ee9-c265-f5751d34bc5e"
      },
      "execution_count": 65,
      "outputs": [
        {
          "output_type": "stream",
          "name": "stdout",
          "text": [
            "Anchor Box sizes for k = 3\n"
          ]
        },
        {
          "output_type": "execute_result",
          "data": {
            "text/plain": [
              "array([[420.63273697, 342.77386242],\n",
              "       [ 40.12158212,  45.9242354 ],\n",
              "       [162.22108573, 200.33519492]])"
            ]
          },
          "metadata": {},
          "execution_count": 65
        }
      ]
    },
    {
      "cell_type": "code",
      "source": [
        "plot_anchor_boxes(kmeans.cluster_centers_)"
      ],
      "metadata": {
        "colab": {
          "base_uri": "https://localhost:8080/",
          "height": 281
        },
        "id": "--y2cGBGt_pl",
        "outputId": "297a1f0a-e36a-41c3-a03a-ab0446995432"
      },
      "execution_count": 64,
      "outputs": [
        {
          "output_type": "display_data",
          "data": {
            "image/png": "[encoded data removed]",
            "text/plain": [
              "<Figure size 432x288 with 1 Axes>"
            ]
          },
          "metadata": {
            "needs_background": "light"
          }
        }
      ]
    },
    {
      "cell_type": "markdown",
      "source": [
        "### Anchor Boxes for K = 4"
      ],
      "metadata": {
        "id": "gnVWFxhxxrOk"
      }
    },
    {
      "cell_type": "code",
      "source": [
        "kmeans_4 = KMeans(n_clusters = 4, init = 'k-means++', random_state = 42)\n",
        "y_kmeans_4 = kmeans_4.fit_predict(scaled_size)\n",
        "\n",
        "print(\"Anchor Box sizes for k = 4\")\n",
        "scaler.inverse_transform(kmeans_4.cluster_centers_)"
      ],
      "metadata": {
        "colab": {
          "base_uri": "https://localhost:8080/"
        },
        "id": "yiNUkLkSuT1j",
        "outputId": "c2f63b11-a8dd-4f25-f51c-5cee79176ace"
      },
      "execution_count": 66,
      "outputs": [
        {
          "output_type": "stream",
          "name": "stdout",
          "text": [
            "Anchor Box sizes for k = 4\n"
          ]
        },
        {
          "output_type": "execute_result",
          "data": {
            "text/plain": [
              "array([[ 34.27854891,  40.39933991],\n",
              "       [477.2604025 , 304.7007009 ],\n",
              "       [138.50565154, 147.21014923],\n",
              "       [223.09239973, 352.64520942]])"
            ]
          },
          "metadata": {},
          "execution_count": 66
        }
      ]
    },
    {
      "cell_type": "code",
      "source": [
        "plot_anchor_boxes(kmeans_4.cluster_centers_)"
      ],
      "metadata": {
        "colab": {
          "base_uri": "https://localhost:8080/",
          "height": 281
        },
        "id": "oFgUQfNYyCj7",
        "outputId": "8d0d2424-f4b0-416d-f45f-90f20d702e8d"
      },
      "execution_count": 67,
      "outputs": [
        {
          "output_type": "display_data",
          "data": {
            "image/png": "[encoded data removed]",
            "text/plain": [
              "<Figure size 432x288 with 1 Axes>"
            ]
          },
          "metadata": {
            "needs_background": "light"
          }
        }
      ]
    },
    {
      "cell_type": "markdown",
      "source": [
        "### Anchor Boxes for K = 5"
      ],
      "metadata": {
        "id": "Ww3JuA9ayIEa"
      }
    },
    {
      "cell_type": "code",
      "source": [
        "kmeans_5 = KMeans(n_clusters = 5, init = 'k-means++', random_state = 42)\n",
        "y_kmeans_5 = kmeans_5.fit_predict(scaled_size)\n",
        "\n",
        "print(\"Anchor Box sizes for k = 5\")\n",
        "scaler.inverse_transform(kmeans_5.cluster_centers_)"
      ],
      "metadata": {
        "colab": {
          "base_uri": "https://localhost:8080/"
        },
        "id": "f9_oIILxyGIM",
        "outputId": "ec6c39fb-ca9a-4dd2-8e04-a10ef48723a3"
      },
      "execution_count": 70,
      "outputs": [
        {
          "output_type": "stream",
          "name": "stdout",
          "text": [
            "Anchor Box sizes for k = 5\n"
          ]
        },
        {
          "output_type": "execute_result",
          "data": {
            "text/plain": [
              "array([[ 31.46690942,  36.07103242],\n",
              "       [497.09549117, 360.93543234],\n",
              "       [196.21753732, 355.47847698],\n",
              "       [298.63960473, 174.26306106],\n",
              "       [105.85647764, 133.41405479]])"
            ]
          },
          "metadata": {},
          "execution_count": 70
        }
      ]
    },
    {
      "cell_type": "code",
      "source": [
        "plot_anchor_boxes(kmeans_5.cluster_centers_)"
      ],
      "metadata": {
        "colab": {
          "base_uri": "https://localhost:8080/",
          "height": 281
        },
        "id": "VFopO_jQyUEl",
        "outputId": "51ee4147-56cf-4e7b-ee26-865cac650f77"
      },
      "execution_count": 71,
      "outputs": [
        {
          "output_type": "display_data",
          "data": {
            "image/png": "[encoded data removed]",
            "text/plain": [
              "<Figure size 432x288 with 1 Axes>"
            ]
          },
          "metadata": {
            "needs_background": "light"
          }
        }
      ]
    },
    {
      "cell_type": "code",
      "source": [
        ""
      ],
      "metadata": {
        "id": "qRbrUVrqyag4"
      },
      "execution_count": null,
      "outputs": []
    },
    {
      "cell_type": "markdown",
      "source": [
        "### Anchor Boxes for K = 6"
      ],
      "metadata": {
        "id": "d6BOWCti1QOM"
      }
    },
    {
      "cell_type": "code",
      "source": [
        "kmeans_6 = KMeans(n_clusters = 6, init = 'k-means++', random_state = 42)\n",
        "y_kmeans_6 = kmeans_6.fit_predict(scaled_size)\n",
        "\n",
        "print(\"Anchor Box sizes for k = 6\")\n",
        "scaler.inverse_transform(kmeans_6.cluster_centers_)"
      ],
      "metadata": {
        "colab": {
          "base_uri": "https://localhost:8080/"
        },
        "outputId": "c835c5d5-2230-49dc-8f00-5f7343bed58d",
        "id": "TjRnXQ2x1QON"
      },
      "execution_count": 72,
      "outputs": [
        {
          "output_type": "stream",
          "name": "stdout",
          "text": [
            "Anchor Box sizes for k = 6\n"
          ]
        },
        {
          "output_type": "execute_result",
          "data": {
            "text/plain": [
              "array([[ 27.98809681,  33.0186375 ],\n",
              "       [526.86385673, 314.08632069],\n",
              "       [136.91996906, 263.36900875],\n",
              "       [286.9179663 , 171.53709248],\n",
              "       [299.71864806, 437.78176292],\n",
              "       [ 95.5648596 , 106.88031943]])"
            ]
          },
          "metadata": {},
          "execution_count": 72
        }
      ]
    },
    {
      "cell_type": "code",
      "source": [
        "plot_anchor_boxes(kmeans_6.cluster_centers_)"
      ],
      "metadata": {
        "colab": {
          "base_uri": "https://localhost:8080/",
          "height": 281
        },
        "outputId": "cbbd505b-3079-4af2-e63f-34d9cae76a00",
        "id": "zJr6KluX1QON"
      },
      "execution_count": 73,
      "outputs": [
        {
          "output_type": "display_data",
          "data": {
            "image/png": "[encoded data removed]",
            "text/plain": [
              "<Figure size 432x288 with 1 Axes>"
            ]
          },
          "metadata": {
            "needs_background": "light"
          }
        }
      ]
    },
    {
      "cell_type": "code",
      "source": [
        ""
      ],
      "metadata": {
        "id": "WtAObRxR1Ya6"
      },
      "execution_count": null,
      "outputs": []
    }
  ]
}