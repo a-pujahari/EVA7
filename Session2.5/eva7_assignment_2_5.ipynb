{
  "nbformat": 4,
  "nbformat_minor": 0,
  "metadata": {
    "kernelspec": {
      "language": "python",
      "display_name": "Python 3",
      "name": "python3"
    },
    "language_info": {
      "pygments_lexer": "ipython3",
      "nbconvert_exporter": "python",
      "version": "3.6.4",
      "file_extension": ".py",
      "codemirror_mode": {
        "name": "ipython",
        "version": 3
      },
      "name": "python",
      "mimetype": "text/x-python"
    },
    "colab": {
      "name": "eva7-assignment-2-5.ipynb",
      "provenance": [],
      "include_colab_link": true
    },
    "accelerator": "GPU",
    "widgets": {
      "application/vnd.jupyter.widget-state+json": {
        "e4c03c61222644bda38245a361a70c0d": {
          "model_module": "@jupyter-widgets/controls",
          "model_name": "HBoxModel",
          "model_module_version": "1.5.0",
          "state": {
            "_view_name": "HBoxView",
            "_dom_classes": [],
            "_model_name": "HBoxModel",
            "_view_module": "@jupyter-widgets/controls",
            "_model_module_version": "1.5.0",
            "_view_count": null,
            "_view_module_version": "1.5.0",
            "box_style": "",
            "layout": "IPY_MODEL_fbf02e65d8ce43f89cce409669877f34",
            "_model_module": "@jupyter-widgets/controls",
            "children": [
              "IPY_MODEL_e7419951679946eaa84d314bf2745349",
              "IPY_MODEL_a3726c93b6584523982acbf296d3683b",
              "IPY_MODEL_a1ba7c639eef4000adff5be9c144830e"
            ]
          }
        },
        "fbf02e65d8ce43f89cce409669877f34": {
          "model_module": "@jupyter-widgets/base",
          "model_name": "LayoutModel",
          "model_module_version": "1.2.0",
          "state": {
            "_view_name": "LayoutView",
            "grid_template_rows": null,
            "right": null,
            "justify_content": null,
            "_view_module": "@jupyter-widgets/base",
            "overflow": null,
            "_model_module_version": "1.2.0",
            "_view_count": null,
            "flex_flow": null,
            "width": null,
            "min_width": null,
            "border": null,
            "align_items": null,
            "bottom": null,
            "_model_module": "@jupyter-widgets/base",
            "top": null,
            "grid_column": null,
            "overflow_y": null,
            "overflow_x": null,
            "grid_auto_flow": null,
            "grid_area": null,
            "grid_template_columns": null,
            "flex": null,
            "_model_name": "LayoutModel",
            "justify_items": null,
            "grid_row": null,
            "max_height": null,
            "align_content": null,
            "visibility": null,
            "align_self": null,
            "height": null,
            "min_height": null,
            "padding": null,
            "grid_auto_rows": null,
            "grid_gap": null,
            "max_width": null,
            "order": null,
            "_view_module_version": "1.2.0",
            "grid_template_areas": null,
            "object_position": null,
            "object_fit": null,
            "grid_auto_columns": null,
            "margin": null,
            "display": null,
            "left": null
          }
        },
        "e7419951679946eaa84d314bf2745349": {
          "model_module": "@jupyter-widgets/controls",
          "model_name": "HTMLModel",
          "model_module_version": "1.5.0",
          "state": {
            "_view_name": "HTMLView",
            "style": "IPY_MODEL_1759b5651907496cb049cca1b900f0d8",
            "_dom_classes": [],
            "description": "",
            "_model_name": "HTMLModel",
            "placeholder": "​",
            "_view_module": "@jupyter-widgets/controls",
            "_model_module_version": "1.5.0",
            "value": "",
            "_view_count": null,
            "_view_module_version": "1.5.0",
            "description_tooltip": null,
            "_model_module": "@jupyter-widgets/controls",
            "layout": "IPY_MODEL_2d5d0dd4875246c6a778e11cb7040d80"
          }
        },
        "a3726c93b6584523982acbf296d3683b": {
          "model_module": "@jupyter-widgets/controls",
          "model_name": "FloatProgressModel",
          "model_module_version": "1.5.0",
          "state": {
            "_view_name": "ProgressView",
            "style": "IPY_MODEL_d3d742f406064115b69f5ab25ef9e922",
            "_dom_classes": [],
            "description": "",
            "_model_name": "FloatProgressModel",
            "bar_style": "success",
            "max": 9912422,
            "_view_module": "@jupyter-widgets/controls",
            "_model_module_version": "1.5.0",
            "value": 9912422,
            "_view_count": null,
            "_view_module_version": "1.5.0",
            "orientation": "horizontal",
            "min": 0,
            "description_tooltip": null,
            "_model_module": "@jupyter-widgets/controls",
            "layout": "IPY_MODEL_95688e0c84a84fc3a21373f175c5ad17"
          }
        },
        "a1ba7c639eef4000adff5be9c144830e": {
          "model_module": "@jupyter-widgets/controls",
          "model_name": "HTMLModel",
          "model_module_version": "1.5.0",
          "state": {
            "_view_name": "HTMLView",
            "style": "IPY_MODEL_7105cf4b76f6413faf2def5ea218ddff",
            "_dom_classes": [],
            "description": "",
            "_model_name": "HTMLModel",
            "placeholder": "​",
            "_view_module": "@jupyter-widgets/controls",
            "_model_module_version": "1.5.0",
            "value": " 9913344/? [00:00&lt;00:00, 50231827.33it/s]",
            "_view_count": null,
            "_view_module_version": "1.5.0",
            "description_tooltip": null,
            "_model_module": "@jupyter-widgets/controls",
            "layout": "IPY_MODEL_1d57240d7f3443f0924fc46cc07df55c"
          }
        },
        "1759b5651907496cb049cca1b900f0d8": {
          "model_module": "@jupyter-widgets/controls",
          "model_name": "DescriptionStyleModel",
          "model_module_version": "1.5.0",
          "state": {
            "_view_name": "StyleView",
            "_model_name": "DescriptionStyleModel",
            "description_width": "",
            "_view_module": "@jupyter-widgets/base",
            "_model_module_version": "1.5.0",
            "_view_count": null,
            "_view_module_version": "1.2.0",
            "_model_module": "@jupyter-widgets/controls"
          }
        },
        "2d5d0dd4875246c6a778e11cb7040d80": {
          "model_module": "@jupyter-widgets/base",
          "model_name": "LayoutModel",
          "model_module_version": "1.2.0",
          "state": {
            "_view_name": "LayoutView",
            "grid_template_rows": null,
            "right": null,
            "justify_content": null,
            "_view_module": "@jupyter-widgets/base",
            "overflow": null,
            "_model_module_version": "1.2.0",
            "_view_count": null,
            "flex_flow": null,
            "width": null,
            "min_width": null,
            "border": null,
            "align_items": null,
            "bottom": null,
            "_model_module": "@jupyter-widgets/base",
            "top": null,
            "grid_column": null,
            "overflow_y": null,
            "overflow_x": null,
            "grid_auto_flow": null,
            "grid_area": null,
            "grid_template_columns": null,
            "flex": null,
            "_model_name": "LayoutModel",
            "justify_items": null,
            "grid_row": null,
            "max_height": null,
            "align_content": null,
            "visibility": null,
            "align_self": null,
            "height": null,
            "min_height": null,
            "padding": null,
            "grid_auto_rows": null,
            "grid_gap": null,
            "max_width": null,
            "order": null,
            "_view_module_version": "1.2.0",
            "grid_template_areas": null,
            "object_position": null,
            "object_fit": null,
            "grid_auto_columns": null,
            "margin": null,
            "display": null,
            "left": null
          }
        },
        "d3d742f406064115b69f5ab25ef9e922": {
          "model_module": "@jupyter-widgets/controls",
          "model_name": "ProgressStyleModel",
          "model_module_version": "1.5.0",
          "state": {
            "_view_name": "StyleView",
            "_model_name": "ProgressStyleModel",
            "description_width": "",
            "_view_module": "@jupyter-widgets/base",
            "_model_module_version": "1.5.0",
            "_view_count": null,
            "_view_module_version": "1.2.0",
            "bar_color": null,
            "_model_module": "@jupyter-widgets/controls"
          }
        },
        "95688e0c84a84fc3a21373f175c5ad17": {
          "model_module": "@jupyter-widgets/base",
          "model_name": "LayoutModel",
          "model_module_version": "1.2.0",
          "state": {
            "_view_name": "LayoutView",
            "grid_template_rows": null,
            "right": null,
            "justify_content": null,
            "_view_module": "@jupyter-widgets/base",
            "overflow": null,
            "_model_module_version": "1.2.0",
            "_view_count": null,
            "flex_flow": null,
            "width": null,
            "min_width": null,
            "border": null,
            "align_items": null,
            "bottom": null,
            "_model_module": "@jupyter-widgets/base",
            "top": null,
            "grid_column": null,
            "overflow_y": null,
            "overflow_x": null,
            "grid_auto_flow": null,
            "grid_area": null,
            "grid_template_columns": null,
            "flex": null,
            "_model_name": "LayoutModel",
            "justify_items": null,
            "grid_row": null,
            "max_height": null,
            "align_content": null,
            "visibility": null,
            "align_self": null,
            "height": null,
            "min_height": null,
            "padding": null,
            "grid_auto_rows": null,
            "grid_gap": null,
            "max_width": null,
            "order": null,
            "_view_module_version": "1.2.0",
            "grid_template_areas": null,
            "object_position": null,
            "object_fit": null,
            "grid_auto_columns": null,
            "margin": null,
            "display": null,
            "left": null
          }
        },
        "7105cf4b76f6413faf2def5ea218ddff": {
          "model_module": "@jupyter-widgets/controls",
          "model_name": "DescriptionStyleModel",
          "model_module_version": "1.5.0",
          "state": {
            "_view_name": "StyleView",
            "_model_name": "DescriptionStyleModel",
            "description_width": "",
            "_view_module": "@jupyter-widgets/base",
            "_model_module_version": "1.5.0",
            "_view_count": null,
            "_view_module_version": "1.2.0",
            "_model_module": "@jupyter-widgets/controls"
          }
        },
        "1d57240d7f3443f0924fc46cc07df55c": {
          "model_module": "@jupyter-widgets/base",
          "model_name": "LayoutModel",
          "model_module_version": "1.2.0",
          "state": {
            "_view_name": "LayoutView",
            "grid_template_rows": null,
            "right": null,
            "justify_content": null,
            "_view_module": "@jupyter-widgets/base",
            "overflow": null,
            "_model_module_version": "1.2.0",
            "_view_count": null,
            "flex_flow": null,
            "width": null,
            "min_width": null,
            "border": null,
            "align_items": null,
            "bottom": null,
            "_model_module": "@jupyter-widgets/base",
            "top": null,
            "grid_column": null,
            "overflow_y": null,
            "overflow_x": null,
            "grid_auto_flow": null,
            "grid_area": null,
            "grid_template_columns": null,
            "flex": null,
            "_model_name": "LayoutModel",
            "justify_items": null,
            "grid_row": null,
            "max_height": null,
            "align_content": null,
            "visibility": null,
            "align_self": null,
            "height": null,
            "min_height": null,
            "padding": null,
            "grid_auto_rows": null,
            "grid_gap": null,
            "max_width": null,
            "order": null,
            "_view_module_version": "1.2.0",
            "grid_template_areas": null,
            "object_position": null,
            "object_fit": null,
            "grid_auto_columns": null,
            "margin": null,
            "display": null,
            "left": null
          }
        }
      }
    }
  },
  "cells": [
    {
      "cell_type": "markdown",
      "metadata": {
        "id": "view-in-github",
        "colab_type": "text"
      },
      "source": [
        "<a href=\"https://colab.research.google.com/github/a-pujahari/EVA7/blob/main/Session2.5/eva7_assignment_2_5.ipynb\" target=\"_parent\"><img src=\"https://colab.research.google.com/assets/colab-badge.svg\" alt=\"Open In Colab\"/></a>"
      ]
    },
    {
      "cell_type": "markdown",
      "metadata": {
        "id": "exCycMSGRBbE"
      },
      "source": [
        ""
      ]
    },
    {
      "cell_type": "markdown",
      "metadata": {
        "execution": {
          "iopub.status.busy": "2021-10-12T09:22:20.576972Z",
          "iopub.execute_input": "2021-10-12T09:22:20.578712Z",
          "iopub.status.idle": "2021-10-12T09:22:20.59746Z",
          "shell.execute_reply.started": "2021-10-12T09:22:20.57863Z",
          "shell.execute_reply": "2021-10-12T09:22:20.596659Z"
        },
        "id": "ULSHZCKiRBbH"
      },
      "source": [
        "# EVA 7 - Assignment 2.5 - Python 101 + Pytorch 101\n",
        "\n",
        "## Create a NN to add random number to number detected from MNIST image"
      ]
    },
    {
      "cell_type": "markdown",
      "metadata": {
        "id": "CLJn9gYVRBbI"
      },
      "source": [
        "### Import Dependencies"
      ]
    },
    {
      "cell_type": "code",
      "metadata": {
        "execution": {
          "iopub.status.busy": "2021-10-13T10:09:47.325056Z",
          "iopub.execute_input": "2021-10-13T10:09:47.325428Z",
          "iopub.status.idle": "2021-10-13T10:09:56.003996Z",
          "shell.execute_reply.started": "2021-10-13T10:09:47.325347Z",
          "shell.execute_reply": "2021-10-13T10:09:56.003177Z"
        },
        "trusted": true,
        "colab": {
          "base_uri": "https://localhost:8080/"
        },
        "id": "Nbx6UhT3RBbJ",
        "outputId": "b97df701-220e-4a7b-d85c-6271165b2790"
      },
      "source": [
        "!pip install torchsummary"
      ],
      "execution_count": 1,
      "outputs": [
        {
          "output_type": "stream",
          "name": "stdout",
          "text": [
            "Requirement already satisfied: torchsummary in /usr/local/lib/python3.7/dist-packages (1.5.1)\n"
          ]
        }
      ]
    },
    {
      "cell_type": "code",
      "metadata": {
        "execution": {
          "iopub.status.busy": "2021-10-13T10:09:56.007604Z",
          "iopub.execute_input": "2021-10-13T10:09:56.007832Z",
          "iopub.status.idle": "2021-10-13T10:10:00.372235Z",
          "shell.execute_reply.started": "2021-10-13T10:09:56.007803Z",
          "shell.execute_reply": "2021-10-13T10:10:00.371329Z"
        },
        "trusted": true,
        "id": "ZEKMigXoRBbK"
      },
      "source": [
        "import torch\n",
        "import torch.nn as nn\n",
        "import torch.nn.functional as F\n",
        "import torch.optim as optim\n",
        "import torchvision\n",
        "import torchvision.transforms as transforms\n",
        "from torch.utils.data import Dataset, TensorDataset\n",
        "from torch.utils.data import DataLoader\n",
        "from torchsummary import summary\n",
        "\n",
        "import matplotlib.pyplot as plt\n",
        "import numpy as np"
      ],
      "execution_count": 2,
      "outputs": []
    },
    {
      "cell_type": "markdown",
      "metadata": {
        "id": "nwN9qN3cRBbK"
      },
      "source": [
        "### Check for CUDA - Always use GPU if available"
      ]
    },
    {
      "cell_type": "code",
      "metadata": {
        "execution": {
          "iopub.status.busy": "2021-10-13T10:10:00.376003Z",
          "iopub.execute_input": "2021-10-13T10:10:00.376305Z",
          "iopub.status.idle": "2021-10-13T10:10:00.435477Z",
          "shell.execute_reply.started": "2021-10-13T10:10:00.376266Z",
          "shell.execute_reply": "2021-10-13T10:10:00.434696Z"
        },
        "trusted": true,
        "colab": {
          "base_uri": "https://localhost:8080/"
        },
        "id": "S39x_xxzRBbL",
        "outputId": "735f88a2-da49-4e19-8c48-63d5b727c98a"
      },
      "source": [
        "# check if cuda is available\n",
        "use_cuda = torch.cuda.is_available()\n",
        "device = torch.device(\"cuda\" if use_cuda else \"cpu\")\n",
        "print(device)"
      ],
      "execution_count": 3,
      "outputs": [
        {
          "output_type": "stream",
          "name": "stdout",
          "text": [
            "cuda\n"
          ]
        }
      ]
    },
    {
      "cell_type": "markdown",
      "metadata": {
        "id": "guc201wxRBbM"
      },
      "source": [
        "### Import MNIST Dataset, Add Random numbers & Sums to create Test and Train Datasets"
      ]
    },
    {
      "cell_type": "code",
      "metadata": {
        "execution": {
          "iopub.status.busy": "2021-10-13T10:10:00.439323Z",
          "iopub.execute_input": "2021-10-13T10:10:00.439583Z",
          "iopub.status.idle": "2021-10-13T10:10:01.789648Z",
          "shell.execute_reply.started": "2021-10-13T10:10:00.439547Z",
          "shell.execute_reply": "2021-10-13T10:10:01.788875Z"
        },
        "trusted": true,
        "colab": {
          "base_uri": "https://localhost:8080/",
          "height": 467,
          "referenced_widgets": [
            "e4c03c61222644bda38245a361a70c0d",
            "fbf02e65d8ce43f89cce409669877f34",
            "e7419951679946eaa84d314bf2745349",
            "a3726c93b6584523982acbf296d3683b",
            "a1ba7c639eef4000adff5be9c144830e",
            "1759b5651907496cb049cca1b900f0d8",
            "2d5d0dd4875246c6a778e11cb7040d80",
            "d3d742f406064115b69f5ab25ef9e922",
            "95688e0c84a84fc3a21373f175c5ad17",
            "7105cf4b76f6413faf2def5ea218ddff",
            "1d57240d7f3443f0924fc46cc07df55c"
          ]
        },
        "id": "J-oUyKSnRBbM",
        "outputId": "487480d2-41ec-4e25-811b-162e7aec56f4"
      },
      "source": [
        "torch.manual_seed(1) ## Define seed so generation of random numbers remains same across multiple runs\n",
        "batch_size = 128 ## Define batch size\n",
        "kwargs = {'num_workers': 1, 'pin_memory': True} if use_cuda else {}\n",
        "\n",
        "\n",
        "class RandomMNISTDataset(Dataset):\n",
        "    def __init__(self, MNISTDataset):\n",
        "        self.MNISTDataset = MNISTDataset\n",
        "        \n",
        "    def __getitem__(self, index):\n",
        "        image = self.MNISTDataset[index][0]\n",
        "        label = self.MNISTDataset[index][1]\n",
        "        randNum = torch.randint(0,9, (1,1))\n",
        "        randNum_oneHot = F.one_hot(randNum, num_classes=10).type(torch.float32)\n",
        "        sum = label + randNum\n",
        "        return image, label, randNum_oneHot, sum\n",
        "\n",
        "    def __len__(self):\n",
        "        return len(self.MNISTDataset)\n",
        "\n",
        "mnist_transform = transforms.Compose([transforms.ToTensor(),transforms.Normalize((0.1307,), (0.3081,))])\n",
        "MNIST_trainset = torchvision.datasets.MNIST('/tmp', train=True, download=True, transform=mnist_transform)\n",
        "MNIST_testset = torchvision.datasets.MNIST('/tmp', train=False, download=True, transform=mnist_transform)\n",
        "\n",
        "train_dataset = RandomMNISTDataset(MNIST_trainset)\n",
        "test_dataset = RandomMNISTDataset(MNIST_testset)\n",
        "\n",
        "train_loader = DataLoader(train_dataset, batch_size=batch_size, shuffle=True)\n",
        "test_loader = DataLoader(test_dataset, batch_size=batch_size)"
      ],
      "execution_count": 4,
      "outputs": [
        {
          "output_type": "stream",
          "name": "stdout",
          "text": [
            "Downloading http://yann.lecun.com/exdb/mnist/train-images-idx3-ubyte.gz\n",
            "Downloading http://yann.lecun.com/exdb/mnist/train-images-idx3-ubyte.gz to /tmp/MNIST/raw/train-images-idx3-ubyte.gz\n"
          ]
        },
        {
          "output_type": "display_data",
          "data": {
            "application/vnd.jupyter.widget-view+json": {
              "model_id": "e4c03c61222644bda38245a361a70c0d",
              "version_minor": 0,
              "version_major": 2
            },
            "text/plain": [
              "  0%|          | 0/9912422 [00:00<?, ?it/s]"
            ]
          },
          "metadata": {}
        },
        {
          "output_type": "stream",
          "name": "stdout",
          "text": [
            "Extracting /tmp/MNIST/raw/train-images-idx3-ubyte.gz to /tmp/MNIST/raw\n",
            "\n",
            "Downloading http://yann.lecun.com/exdb/mnist/train-labels-idx1-ubyte.gz\n",
            "Downloading http://yann.lecun.com/exdb/mnist/train-labels-idx1-ubyte.gz to /tmp/MNIST/raw/train-labels-idx1-ubyte.gz\n"
          ]
        },
        {
          "output_type": "display_data",
          "data": {
            "application/vnd.jupyter.widget-view+json": {
              "model_id": "39557eec9d574798a650ebf02109042b",
              "version_minor": 0,
              "version_major": 2
            },
            "text/plain": [
              "  0%|          | 0/28881 [00:00<?, ?it/s]"
            ]
          },
          "metadata": {}
        },
        {
          "output_type": "stream",
          "name": "stdout",
          "text": [
            "Extracting /tmp/MNIST/raw/train-labels-idx1-ubyte.gz to /tmp/MNIST/raw\n",
            "\n",
            "Downloading http://yann.lecun.com/exdb/mnist/t10k-images-idx3-ubyte.gz\n",
            "Downloading http://yann.lecun.com/exdb/mnist/t10k-images-idx3-ubyte.gz to /tmp/MNIST/raw/t10k-images-idx3-ubyte.gz\n"
          ]
        },
        {
          "output_type": "display_data",
          "data": {
            "application/vnd.jupyter.widget-view+json": {
              "model_id": "de352162831643f0a09b3a83e23554fe",
              "version_minor": 0,
              "version_major": 2
            },
            "text/plain": [
              "  0%|          | 0/1648877 [00:00<?, ?it/s]"
            ]
          },
          "metadata": {}
        },
        {
          "output_type": "stream",
          "name": "stdout",
          "text": [
            "Extracting /tmp/MNIST/raw/t10k-images-idx3-ubyte.gz to /tmp/MNIST/raw\n",
            "\n",
            "Downloading http://yann.lecun.com/exdb/mnist/t10k-labels-idx1-ubyte.gz\n",
            "Downloading http://yann.lecun.com/exdb/mnist/t10k-labels-idx1-ubyte.gz to /tmp/MNIST/raw/t10k-labels-idx1-ubyte.gz\n"
          ]
        },
        {
          "output_type": "display_data",
          "data": {
            "application/vnd.jupyter.widget-view+json": {
              "model_id": "e9549bb3158943f3b9f9d36f7cf23adf",
              "version_minor": 0,
              "version_major": 2
            },
            "text/plain": [
              "  0%|          | 0/4542 [00:00<?, ?it/s]"
            ]
          },
          "metadata": {}
        },
        {
          "output_type": "stream",
          "name": "stdout",
          "text": [
            "Extracting /tmp/MNIST/raw/t10k-labels-idx1-ubyte.gz to /tmp/MNIST/raw\n",
            "\n"
          ]
        },
        {
          "output_type": "stream",
          "name": "stderr",
          "text": [
            "/usr/local/lib/python3.7/dist-packages/torchvision/datasets/mnist.py:498: UserWarning: The given NumPy array is not writeable, and PyTorch does not support non-writeable tensors. This means you can write to the underlying (supposedly non-writeable) NumPy array using the tensor. You may want to copy the array to protect its data or make it writeable before converting it to a tensor. This type of warning will be suppressed for the rest of this program. (Triggered internally at  /pytorch/torch/csrc/utils/tensor_numpy.cpp:180.)\n",
            "  return torch.from_numpy(parsed.astype(m[2], copy=False)).view(*s)\n"
          ]
        }
      ]
    },
    {
      "cell_type": "markdown",
      "metadata": {
        "id": "S_nwu-uiRBbO"
      },
      "source": [
        "#### Batch Shape"
      ]
    },
    {
      "cell_type": "code",
      "metadata": {
        "execution": {
          "iopub.status.busy": "2021-10-13T10:10:01.790926Z",
          "iopub.execute_input": "2021-10-13T10:10:01.791746Z",
          "iopub.status.idle": "2021-10-13T10:10:01.899845Z",
          "shell.execute_reply.started": "2021-10-13T10:10:01.791697Z",
          "shell.execute_reply": "2021-10-13T10:10:01.899163Z"
        },
        "trusted": true,
        "colab": {
          "base_uri": "https://localhost:8080/"
        },
        "id": "Q90P_RJIRBbP",
        "outputId": "3e4a5b0b-c021-4879-ebc8-b0f851f76d69"
      },
      "source": [
        "batch = next(iter(train_loader))\n",
        "\n",
        "images, labels, randNum, sums = batch\n",
        "\n",
        "images.shape, labels.shape"
      ],
      "execution_count": 5,
      "outputs": [
        {
          "output_type": "execute_result",
          "data": {
            "text/plain": [
              "(torch.Size([128, 1, 28, 28]), torch.Size([128]))"
            ]
          },
          "metadata": {},
          "execution_count": 5
        }
      ]
    },
    {
      "cell_type": "code",
      "metadata": {
        "execution": {
          "iopub.status.busy": "2021-10-13T10:10:01.901168Z",
          "iopub.execute_input": "2021-10-13T10:10:01.90142Z",
          "iopub.status.idle": "2021-10-13T10:10:01.9214Z",
          "shell.execute_reply.started": "2021-10-13T10:10:01.901387Z",
          "shell.execute_reply": "2021-10-13T10:10:01.920511Z"
        },
        "trusted": true,
        "colab": {
          "base_uri": "https://localhost:8080/"
        },
        "id": "enRk-8wZRBbP",
        "outputId": "20aaae92-0e6f-40fd-faec-70c27a673073"
      },
      "source": [
        "randNum[0], sums[0]"
      ],
      "execution_count": 6,
      "outputs": [
        {
          "output_type": "execute_result",
          "data": {
            "text/plain": [
              "(tensor([[[0., 0., 0., 0., 0., 0., 0., 1., 0., 0.]]]), tensor([[11]]))"
            ]
          },
          "metadata": {},
          "execution_count": 6
        }
      ]
    },
    {
      "cell_type": "code",
      "metadata": {
        "execution": {
          "iopub.status.busy": "2021-10-13T10:10:01.922919Z",
          "iopub.execute_input": "2021-10-13T10:10:01.923195Z",
          "iopub.status.idle": "2021-10-13T10:10:01.930868Z",
          "shell.execute_reply.started": "2021-10-13T10:10:01.92316Z",
          "shell.execute_reply": "2021-10-13T10:10:01.929939Z"
        },
        "trusted": true,
        "colab": {
          "base_uri": "https://localhost:8080/"
        },
        "id": "a-BOjkzbRBbQ",
        "outputId": "b0ea8542-1a72-4021-fede-2e060aac8d98"
      },
      "source": [
        "sums.squeeze()"
      ],
      "execution_count": 7,
      "outputs": [
        {
          "output_type": "execute_result",
          "data": {
            "text/plain": [
              "tensor([11,  9, 10, 11, 15,  1,  2, 10,  2, 16, 11,  6,  7, 15,  3, 12,  9,  8,\n",
              "        14, 15, 14,  6, 16, 12, 14,  4,  9,  4, 12, 13,  7, 11, 16, 12,  2,  5,\n",
              "        11, 12,  9, 12,  5,  7,  6, 13,  5, 10,  3,  6,  5,  7,  2, 13, 12, 17,\n",
              "        11,  3, 11,  9,  7,  8,  9,  8, 16, 10,  3, 10,  9,  5,  7, 16, 16,  5,\n",
              "         9,  4, 10, 11,  3,  2,  8,  6,  8,  8, 16,  9, 14,  7,  7,  6,  4,  9,\n",
              "         8,  8,  1,  2,  7, 14, 10, 14, 12, 14,  6, 11, 10, 12, 11, 14,  2, 11,\n",
              "        16, 13,  9, 16, 14,  3,  6,  7,  5,  8,  5,  4, 11,  7,  8, 14,  1,  6,\n",
              "         6, 11])"
            ]
          },
          "metadata": {},
          "execution_count": 7
        }
      ]
    },
    {
      "cell_type": "markdown",
      "metadata": {
        "id": "ky5-_H2ERBbQ"
      },
      "source": [
        "#### Visualize Batch"
      ]
    },
    {
      "cell_type": "code",
      "metadata": {
        "execution": {
          "iopub.status.busy": "2021-10-13T10:10:01.932577Z",
          "iopub.execute_input": "2021-10-13T10:10:01.932839Z",
          "iopub.status.idle": "2021-10-13T10:10:02.241743Z",
          "shell.execute_reply.started": "2021-10-13T10:10:01.932801Z",
          "shell.execute_reply": "2021-10-13T10:10:02.241087Z"
        },
        "trusted": true,
        "colab": {
          "base_uri": "https://localhost:8080/",
          "height": 355
        },
        "id": "uXGZBSozRBbQ",
        "outputId": "f168fbcb-8e33-48e3-baf5-d9ccb9ef8d00"
      },
      "source": [
        "grid = torchvision.utils.make_grid(images[:30], nrow=10)\n",
        "plt.figure(figsize=(15,15))\n",
        "plt.imshow(np.transpose(grid, (1,2,0)))\n",
        "print('labels:', labels[:30])"
      ],
      "execution_count": 8,
      "outputs": [
        {
          "output_type": "stream",
          "name": "stderr",
          "text": [
            "Clipping input data to the valid range for imshow with RGB data ([0..1] for floats or [0..255] for integers).\n"
          ]
        },
        {
          "output_type": "stream",
          "name": "stdout",
          "text": [
            "labels: tensor([4, 8, 8, 6, 7, 1, 0, 7, 1, 8, 7, 6, 4, 9, 1, 5, 3, 2, 6, 8, 8, 6, 9, 4,\n",
            "        6, 0, 4, 2, 6, 7])\n"
          ]
        },
        {
          "output_type": "display_data",
          "data": {
            "image/png": "[encoded data removed]",
            "text/plain": [
              "<Figure size 1080x1080 with 1 Axes>"
            ]
          },
          "metadata": {
            "needs_background": "light"
          }
        }
      ]
    },
    {
      "cell_type": "markdown",
      "metadata": {
        "id": "5oHLLf8HRBbQ"
      },
      "source": [
        "### Define Neural Network"
      ]
    },
    {
      "cell_type": "code",
      "metadata": {
        "execution": {
          "iopub.status.busy": "2021-10-13T10:11:26.177601Z",
          "iopub.execute_input": "2021-10-13T10:11:26.177889Z",
          "iopub.status.idle": "2021-10-13T10:11:26.191552Z",
          "shell.execute_reply.started": "2021-10-13T10:11:26.177857Z",
          "shell.execute_reply": "2021-10-13T10:11:26.190589Z"
        },
        "trusted": true,
        "id": "fznRapjsRBbR"
      },
      "source": [
        "class Net(nn.Module):\n",
        "    def __init__(self):\n",
        "        super(Net, self).__init__()\n",
        "        self.conv1 = nn.Conv2d(in_channels=1, out_channels=6, kernel_size=5) \n",
        "        self.conv2 = nn.Conv2d(in_channels=6, out_channels=12, kernel_size=5)\n",
        "        \n",
        "        self.fc_rand1 = nn.Linear(in_features = 10, out_features = 20)\n",
        "        self.fc1 = nn.Linear(in_features=192+20, out_features=100)\n",
        "        self.fc2 = nn.Linear(in_features=100, out_features=60)\n",
        "        self.out = nn.Linear(in_features=60, out_features=29)\n",
        "    \n",
        "    def forward(self, image, randNum):\n",
        "        ## Input Layer\n",
        "        x = image\n",
        "        \n",
        "        ## Conv layer 1\n",
        "        x = self.conv1(x) ## Input image 28x28x1, Output 24x24x6\n",
        "        x = F.relu(x)\n",
        "        x = F.max_pool2d(x,kernel_size=2,stride=2) ## Input 24x24x6, Output 12x12x6\n",
        "        \n",
        "        ## Conv layer 2\n",
        "        x = self.conv2(x) ## Input 12x12x6, Output 8x8x12\n",
        "        x = F.relu(x)\n",
        "        x = F.max_pool2d(x,kernel_size=2,stride=2) ## Input 8x8x12, Output 4x4x12\n",
        "        \n",
        "        ## Reshape\n",
        "        x = x.reshape(-1, 12*4*4)\n",
        "        \n",
        "        ## Process random number\n",
        "        y = randNum.type(torch.float32)\n",
        "        ## Pass one hot encoded random number through fully connected layer 10>20 neurons\n",
        "        y = self.fc_rand1(y)\n",
        "        y = F.relu(y)\n",
        "        y = y.reshape(-1, 20)\n",
        "        \n",
        "        ## Concatenate MNIST convolution output with Random Number fc output\n",
        "        x1 = torch.cat((x, y), dim = 1)\n",
        "        \n",
        "        ## Fully connected layers\n",
        "        x1 = self.fc1(x1)\n",
        "        x1 = F.relu(x1)\n",
        "        \n",
        "        x1 = self.fc2(x1)\n",
        "        x1 = F.relu(x1)\n",
        "        x1 = self.out(x1)\n",
        "        \n",
        "        #print(x1.shape)\n",
        "        mnist_output = F.softmax(x1[:,0:10])\n",
        "        sum_output = F.softmax(x1[:,10:])\n",
        "        \n",
        "        return mnist_output, sum_output"
      ],
      "execution_count": 9,
      "outputs": []
    },
    {
      "cell_type": "markdown",
      "metadata": {
        "id": "x027flntRBbS"
      },
      "source": [
        "#### Model Summary"
      ]
    },
    {
      "cell_type": "code",
      "metadata": {
        "execution": {
          "iopub.status.busy": "2021-10-13T10:11:29.316586Z",
          "iopub.execute_input": "2021-10-13T10:11:29.316841Z",
          "iopub.status.idle": "2021-10-13T10:11:29.334074Z",
          "shell.execute_reply.started": "2021-10-13T10:11:29.316813Z",
          "shell.execute_reply": "2021-10-13T10:11:29.333365Z"
        },
        "trusted": true,
        "colab": {
          "base_uri": "https://localhost:8080/"
        },
        "id": "VUCd_n10RBbS",
        "outputId": "979a5c57-98ef-4e94-9a59-25b43c6c7f3b"
      },
      "source": [
        "model = Net().to(device)\n",
        "summary(model, [(1,28, 28),(1,1,10)])\n",
        "print(model)"
      ],
      "execution_count": 10,
      "outputs": [
        {
          "output_type": "stream",
          "name": "stdout",
          "text": [
            "----------------------------------------------------------------\n",
            "        Layer (type)               Output Shape         Param #\n",
            "================================================================\n",
            "            Conv2d-1            [-1, 6, 24, 24]             156\n",
            "            Conv2d-2             [-1, 12, 8, 8]           1,812\n",
            "            Linear-3             [-1, 1, 1, 20]             220\n",
            "            Linear-4                  [-1, 100]          21,300\n",
            "            Linear-5                   [-1, 60]           6,060\n",
            "            Linear-6                   [-1, 29]           1,769\n",
            "================================================================\n",
            "Total params: 31,317\n",
            "Trainable params: 31,317\n",
            "Non-trainable params: 0\n",
            "----------------------------------------------------------------\n",
            "Input size (MB): 0.03\n",
            "Forward/backward pass size (MB): 0.03\n",
            "Params size (MB): 0.12\n",
            "Estimated Total Size (MB): 0.18\n",
            "----------------------------------------------------------------\n",
            "Net(\n",
            "  (conv1): Conv2d(1, 6, kernel_size=(5, 5), stride=(1, 1))\n",
            "  (conv2): Conv2d(6, 12, kernel_size=(5, 5), stride=(1, 1))\n",
            "  (fc_rand1): Linear(in_features=10, out_features=20, bias=True)\n",
            "  (fc1): Linear(in_features=212, out_features=100, bias=True)\n",
            "  (fc2): Linear(in_features=100, out_features=60, bias=True)\n",
            "  (out): Linear(in_features=60, out_features=29, bias=True)\n",
            ")\n"
          ]
        },
        {
          "output_type": "stream",
          "name": "stderr",
          "text": [
            "/usr/local/lib/python3.7/dist-packages/torch/nn/functional.py:718: UserWarning: Named tensors and all their associated APIs are an experimental feature and subject to change. Please do not use them for anything important until they are released as stable. (Triggered internally at  /pytorch/c10/core/TensorImpl.h:1156.)\n",
            "  return torch.max_pool2d(input, kernel_size, stride, padding, dilation, ceil_mode)\n",
            "/usr/local/lib/python3.7/dist-packages/ipykernel_launcher.py:48: UserWarning: Implicit dimension choice for softmax has been deprecated. Change the call to include dim=X as an argument.\n",
            "/usr/local/lib/python3.7/dist-packages/ipykernel_launcher.py:49: UserWarning: Implicit dimension choice for softmax has been deprecated. Change the call to include dim=X as an argument.\n"
          ]
        }
      ]
    },
    {
      "cell_type": "code",
      "metadata": {
        "execution": {
          "iopub.status.busy": "2021-10-13T10:10:07.673455Z",
          "iopub.execute_input": "2021-10-13T10:10:07.673656Z",
          "iopub.status.idle": "2021-10-13T10:10:07.683778Z",
          "shell.execute_reply.started": "2021-10-13T10:10:07.673632Z",
          "shell.execute_reply": "2021-10-13T10:10:07.682993Z"
        },
        "trusted": true,
        "colab": {
          "base_uri": "https://localhost:8080/"
        },
        "id": "6YQoz7gGRBbS",
        "outputId": "6f890a42-5e7e-43aa-9fdb-7207a2a053c6"
      },
      "source": [
        "test = torch.randint(0,9,(1,1))\n",
        "print(test[0,0:10])\n",
        "test1 = F.one_hot(test, num_classes =10)\n",
        "print(test1)"
      ],
      "execution_count": 11,
      "outputs": [
        {
          "output_type": "stream",
          "name": "stdout",
          "text": [
            "tensor([5])\n",
            "tensor([[[0, 0, 0, 0, 0, 1, 0, 0, 0, 0]]])\n"
          ]
        }
      ]
    },
    {
      "cell_type": "code",
      "metadata": {
        "execution": {
          "iopub.status.busy": "2021-10-13T10:11:34.156907Z",
          "iopub.execute_input": "2021-10-13T10:11:34.157661Z",
          "iopub.status.idle": "2021-10-13T10:11:34.171226Z",
          "shell.execute_reply.started": "2021-10-13T10:11:34.157624Z",
          "shell.execute_reply": "2021-10-13T10:11:34.170307Z"
        },
        "trusted": true,
        "colab": {
          "base_uri": "https://localhost:8080/"
        },
        "id": "WLuAV3hwRBbS",
        "outputId": "4d93c7a6-0fb3-43f9-da3c-1b640cee5324"
      },
      "source": [
        "images, labels, randNum, sums = images.to(device), labels.to(device), randNum.to(device), sums.to(device)\n",
        "mnist_pred, sum_pred = model(images, randNum)\n",
        "mnist_pred"
      ],
      "execution_count": 12,
      "outputs": [
        {
          "output_type": "stream",
          "name": "stderr",
          "text": [
            "/usr/local/lib/python3.7/dist-packages/ipykernel_launcher.py:48: UserWarning: Implicit dimension choice for softmax has been deprecated. Change the call to include dim=X as an argument.\n",
            "/usr/local/lib/python3.7/dist-packages/ipykernel_launcher.py:49: UserWarning: Implicit dimension choice for softmax has been deprecated. Change the call to include dim=X as an argument.\n"
          ]
        },
        {
          "output_type": "execute_result",
          "data": {
            "text/plain": [
              "tensor([[0.1107, 0.0925, 0.1054,  ..., 0.0869, 0.0989, 0.0980],\n",
              "        [0.1113, 0.0935, 0.1033,  ..., 0.0866, 0.1012, 0.0972],\n",
              "        [0.1119, 0.0926, 0.1038,  ..., 0.0884, 0.0986, 0.1011],\n",
              "        ...,\n",
              "        [0.1146, 0.0943, 0.1053,  ..., 0.0900, 0.0978, 0.0974],\n",
              "        [0.1111, 0.0940, 0.1063,  ..., 0.0861, 0.1009, 0.1001],\n",
              "        [0.1105, 0.0919, 0.1038,  ..., 0.0896, 0.0971, 0.0983]],\n",
              "       device='cuda:0', grad_fn=<SoftmaxBackward>)"
            ]
          },
          "metadata": {},
          "execution_count": 12
        }
      ]
    },
    {
      "cell_type": "code",
      "metadata": {
        "execution": {
          "iopub.status.busy": "2021-10-13T10:11:38.417081Z",
          "iopub.execute_input": "2021-10-13T10:11:38.417829Z",
          "iopub.status.idle": "2021-10-13T10:11:38.423777Z",
          "shell.execute_reply.started": "2021-10-13T10:11:38.417794Z",
          "shell.execute_reply": "2021-10-13T10:11:38.4229Z"
        },
        "trusted": true,
        "colab": {
          "base_uri": "https://localhost:8080/"
        },
        "id": "bK3RvwTaRBbT",
        "outputId": "d9672899-8f3b-4b6e-e8f6-5e1e7da11916"
      },
      "source": [
        "mnist_pred.shape, sum_pred.shape ## Shapes of outputs are defined by batch size"
      ],
      "execution_count": 13,
      "outputs": [
        {
          "output_type": "execute_result",
          "data": {
            "text/plain": [
              "(torch.Size([128, 10]), torch.Size([128, 19]))"
            ]
          },
          "metadata": {},
          "execution_count": 13
        }
      ]
    },
    {
      "cell_type": "code",
      "metadata": {
        "execution": {
          "iopub.status.busy": "2021-10-13T10:11:40.876538Z",
          "iopub.execute_input": "2021-10-13T10:11:40.876808Z",
          "iopub.status.idle": "2021-10-13T10:11:40.88468Z",
          "shell.execute_reply.started": "2021-10-13T10:11:40.876778Z",
          "shell.execute_reply": "2021-10-13T10:11:40.883705Z"
        },
        "trusted": true,
        "colab": {
          "base_uri": "https://localhost:8080/"
        },
        "id": "lEf89h6ZRBbT",
        "outputId": "6f5222e8-2064-4ec8-ef7d-985f4aea591d"
      },
      "source": [
        "mnist_pred[0].sum() ## Each row must sum to 1, considering softmax function has been applied to equate values to probabilities"
      ],
      "execution_count": 14,
      "outputs": [
        {
          "output_type": "execute_result",
          "data": {
            "text/plain": [
              "tensor(1., device='cuda:0', grad_fn=<SumBackward0>)"
            ]
          },
          "metadata": {},
          "execution_count": 14
        }
      ]
    },
    {
      "cell_type": "code",
      "metadata": {
        "execution": {
          "iopub.status.busy": "2021-10-13T10:11:45.511786Z",
          "iopub.execute_input": "2021-10-13T10:11:45.512079Z",
          "iopub.status.idle": "2021-10-13T10:11:45.519299Z",
          "shell.execute_reply.started": "2021-10-13T10:11:45.512048Z",
          "shell.execute_reply": "2021-10-13T10:11:45.518422Z"
        },
        "trusted": true,
        "colab": {
          "base_uri": "https://localhost:8080/"
        },
        "id": "Qq_UhysGRBbT",
        "outputId": "981ac373-bb51-446e-f875-23eac46aa275"
      },
      "source": [
        "def get_num_correct(preds, labels):\n",
        "    return preds.argmax(dim=1).eq(labels).sum().item()\n",
        "\n",
        "correct_mnist = get_num_correct(mnist_pred, labels)\n",
        "print(correct_mnist, \" out of \",  len(labels), \" correct\")"
      ],
      "execution_count": 15,
      "outputs": [
        {
          "output_type": "stream",
          "name": "stdout",
          "text": [
            "11  out of  128  correct\n"
          ]
        }
      ]
    },
    {
      "cell_type": "markdown",
      "metadata": {
        "id": "7-ET6JndRBbT"
      },
      "source": [
        "### Define Train & Test Functions"
      ]
    },
    {
      "cell_type": "code",
      "metadata": {
        "execution": {
          "iopub.status.busy": "2021-10-13T10:11:47.977717Z",
          "iopub.execute_input": "2021-10-13T10:11:47.978182Z",
          "iopub.status.idle": "2021-10-13T10:11:47.987685Z",
          "shell.execute_reply.started": "2021-10-13T10:11:47.978144Z",
          "shell.execute_reply": "2021-10-13T10:11:47.985321Z"
        },
        "trusted": true,
        "colab": {
          "base_uri": "https://localhost:8080/"
        },
        "id": "VKeleOX0RBbU",
        "outputId": "825322c2-c17d-4de2-9124-f68c0d6cf3b6"
      },
      "source": [
        "from tqdm import tqdm\n",
        "torch.set_grad_enabled(True)"
      ],
      "execution_count": 16,
      "outputs": [
        {
          "output_type": "execute_result",
          "data": {
            "text/plain": [
              "<torch.autograd.grad_mode.set_grad_enabled at 0x7fd6afe43d90>"
            ]
          },
          "metadata": {},
          "execution_count": 16
        }
      ]
    },
    {
      "cell_type": "code",
      "metadata": {
        "execution": {
          "iopub.status.busy": "2021-10-13T10:11:50.430123Z",
          "iopub.execute_input": "2021-10-13T10:11:50.430667Z",
          "iopub.status.idle": "2021-10-13T10:11:50.438117Z",
          "shell.execute_reply.started": "2021-10-13T10:11:50.430629Z",
          "shell.execute_reply": "2021-10-13T10:11:50.436979Z"
        },
        "trusted": true,
        "id": "mmUP02CGRBbU"
      },
      "source": [
        "## Define training function\n",
        "def train(model, device, train_loader, optimizer, epoch):\n",
        "    model.train()\n",
        "    pbar = tqdm(train_loader)\n",
        "    for batch_idx, (images, labels, randNum, sums) in enumerate(pbar):\n",
        "        images, labels, randNum, sums = images.to(device), labels.to(device), randNum.to(device), sums.to(device)\n",
        "        ## Zero out all gradients to prevent accumulation\n",
        "        optimizer.zero_grad()\n",
        "        ## Forward pass\n",
        "        mnist_output, sum_output = model(images, randNum)\n",
        "        \n",
        "        ## Calculate loss\n",
        "        MNIST_loss = F.cross_entropy(mnist_output, labels)\n",
        "        sum_loss = F.cross_entropy(sum_output, sums.squeeze())\n",
        "        loss = (MNIST_loss + sum_loss)\n",
        "        \n",
        "        ## Backpropagation\n",
        "        loss.backward()\n",
        "        optimizer.step()\n",
        "        pbar.set_description(desc= f'loss={loss.item()} batch_id={batch_idx}')"
      ],
      "execution_count": 17,
      "outputs": []
    },
    {
      "cell_type": "code",
      "metadata": {
        "execution": {
          "iopub.status.busy": "2021-10-13T10:11:52.731603Z",
          "iopub.execute_input": "2021-10-13T10:11:52.731861Z",
          "iopub.status.idle": "2021-10-13T10:11:52.743777Z",
          "shell.execute_reply.started": "2021-10-13T10:11:52.731833Z",
          "shell.execute_reply": "2021-10-13T10:11:52.742974Z"
        },
        "trusted": true,
        "id": "zDSQnHpyRBbU"
      },
      "source": [
        "## Define testing function\n",
        "def test(model, device, test_loader):\n",
        "    model.eval()\n",
        "    test_loss, mnist_test_loss, sums_test_loss  = 0, 0, 0\n",
        "    correct_mnist, correct_sums = 0, 0\n",
        "    \n",
        "    with torch.no_grad():\n",
        "        for images, labels, randNum, sums in test_loader:\n",
        "            \n",
        "            images, labels, randNum, sums = images.to(device), labels.to(device), randNum.to(device), sums.to(device)\n",
        "            ## Forward pass\n",
        "            mnist_output, sum_output = model(images, randNum)\n",
        "            \n",
        "            ## Calculate loss\n",
        "            mnist_test_loss += F.cross_entropy(mnist_output, labels, reduction='sum').item()  \n",
        "            sums_test_loss += F.cross_entropy(sum_output, sums.squeeze(), reduction='sum').item()\n",
        "            \n",
        "            correct_mnist = get_num_correct(mnist_output, labels)\n",
        "\n",
        "            correct_sums = get_num_correct(sum_output, sums.squeeze())\n",
        "\n",
        "    test_loss = mnist_test_loss + sums_test_loss\n",
        "    test_loss /= len(test_loader.dataset)\n",
        "\n",
        "    print('\\nTest set: Average MNIST loss: {:.4f}, MNIST_Accuracy: {}/{} ({:.0f}%)\\n'.format(\n",
        "        mnist_test_loss, correct_mnist, len(test_loader.dataset),\n",
        "        100. * correct_mnist / len(test_loader.dataset)))\n",
        "    \n",
        "    print('\\nTest set: Average SUM loss: {:.4f}, SUM_Accuracy: {}/{} ({:.0f}%)\\n'.format(\n",
        "        sums_test_loss, correct_sums, len(test_loader.dataset),\n",
        "        100. * correct_sums / len(test_loader.dataset)))"
      ],
      "execution_count": 18,
      "outputs": []
    },
    {
      "cell_type": "markdown",
      "metadata": {
        "id": "aJQVQSY4RBbU"
      },
      "source": [
        "### Train & Test Network"
      ]
    },
    {
      "cell_type": "code",
      "metadata": {
        "execution": {
          "iopub.status.busy": "2021-10-13T10:14:13.243959Z",
          "iopub.execute_input": "2021-10-13T10:14:13.244328Z",
          "iopub.status.idle": "2021-10-13T10:30:17.562576Z",
          "shell.execute_reply.started": "2021-10-13T10:14:13.244293Z",
          "shell.execute_reply": "2021-10-13T10:30:17.561737Z"
        },
        "trusted": true,
        "colab": {
          "base_uri": "https://localhost:8080/"
        },
        "id": "9IQIbyYhRBbU",
        "outputId": "057639d4-9c3c-4ce5-8d5d-ae0297d86dcd"
      },
      "source": [
        "'''\n",
        "Neural network is unable to learn because of random number FC output being added to MNIST convolution ouput and then being\n",
        "passed through a series of fully connected layers. \n",
        "Lack of a discernible pattern with the random numbers generated leads to the sum output being random as well; with the neural\n",
        "network having no specific pattern/characteristics/properties to learn and exploit to create a reliable prediction.\n",
        "'''\n",
        "model = Net().to(device)\n",
        "optimizer = optim.SGD(model.parameters(), lr=0.05, momentum=0.9)\n",
        "tqdm._instances.clear() ## Clear any extraneous tqdm instances to ensure printing on the same line\n",
        "\n",
        "\n",
        "epochs = 30\n",
        "for epoch in range(1, epochs):\n",
        "    train(model, device, train_loader, optimizer, epoch)\n",
        "    test(model, device, test_loader)"
      ],
      "execution_count": 19,
      "outputs": [
        {
          "output_type": "stream",
          "name": "stderr",
          "text": [
            "  0%|          | 0/469 [00:00<?, ?it/s]/usr/local/lib/python3.7/dist-packages/ipykernel_launcher.py:48: UserWarning: Implicit dimension choice for softmax has been deprecated. Change the call to include dim=X as an argument.\n",
            "/usr/local/lib/python3.7/dist-packages/ipykernel_launcher.py:49: UserWarning: Implicit dimension choice for softmax has been deprecated. Change the call to include dim=X as an argument.\n",
            "loss=4.416330814361572 batch_id=468: 100%|██████████| 469/469 [00:38<00:00, 12.05it/s]\n"
          ]
        },
        {
          "output_type": "stream",
          "name": "stdout",
          "text": [
            "\n",
            "Test set: Average MNIST loss: 15163.1910, MNIST_Accuracy: 16/10000 (0%)\n",
            "\n",
            "\n",
            "Test set: Average SUM loss: 29104.2359, SUM_Accuracy: 2/10000 (0%)\n",
            "\n"
          ]
        },
        {
          "output_type": "stream",
          "name": "stderr",
          "text": [
            "loss=4.428135871887207 batch_id=468: 100%|██████████| 469/469 [00:39<00:00, 11.98it/s]\n"
          ]
        },
        {
          "output_type": "stream",
          "name": "stdout",
          "text": [
            "\n",
            "Test set: Average MNIST loss: 14851.3188, MNIST_Accuracy: 16/10000 (0%)\n",
            "\n",
            "\n",
            "Test set: Average SUM loss: 29064.1472, SUM_Accuracy: 2/10000 (0%)\n",
            "\n"
          ]
        },
        {
          "output_type": "stream",
          "name": "stderr",
          "text": [
            "loss=4.405933380126953 batch_id=468: 100%|██████████| 469/469 [00:38<00:00, 12.17it/s]\n"
          ]
        },
        {
          "output_type": "stream",
          "name": "stdout",
          "text": [
            "\n",
            "Test set: Average MNIST loss: 14842.8050, MNIST_Accuracy: 16/10000 (0%)\n",
            "\n",
            "\n",
            "Test set: Average SUM loss: 28963.9359, SUM_Accuracy: 1/10000 (0%)\n",
            "\n"
          ]
        },
        {
          "output_type": "stream",
          "name": "stderr",
          "text": [
            "loss=4.390820503234863 batch_id=468: 100%|██████████| 469/469 [00:38<00:00, 12.08it/s]\n"
          ]
        },
        {
          "output_type": "stream",
          "name": "stdout",
          "text": [
            "\n",
            "Test set: Average MNIST loss: 14788.1913, MNIST_Accuracy: 16/10000 (0%)\n",
            "\n",
            "\n",
            "Test set: Average SUM loss: 28958.6352, SUM_Accuracy: 2/10000 (0%)\n",
            "\n"
          ]
        },
        {
          "output_type": "stream",
          "name": "stderr",
          "text": [
            "loss=4.411187648773193 batch_id=468: 100%|██████████| 469/469 [00:38<00:00, 12.10it/s]\n"
          ]
        },
        {
          "output_type": "stream",
          "name": "stdout",
          "text": [
            "\n",
            "Test set: Average MNIST loss: 14756.3758, MNIST_Accuracy: 16/10000 (0%)\n",
            "\n",
            "\n",
            "Test set: Average SUM loss: 28965.5996, SUM_Accuracy: 1/10000 (0%)\n",
            "\n"
          ]
        },
        {
          "output_type": "stream",
          "name": "stderr",
          "text": [
            "loss=4.356391429901123 batch_id=468: 100%|██████████| 469/469 [00:38<00:00, 12.07it/s]\n"
          ]
        },
        {
          "output_type": "stream",
          "name": "stdout",
          "text": [
            "\n",
            "Test set: Average MNIST loss: 14764.9039, MNIST_Accuracy: 16/10000 (0%)\n",
            "\n",
            "\n",
            "Test set: Average SUM loss: 28958.9466, SUM_Accuracy: 1/10000 (0%)\n",
            "\n"
          ]
        },
        {
          "output_type": "stream",
          "name": "stderr",
          "text": [
            "loss=4.374413013458252 batch_id=468: 100%|██████████| 469/469 [00:38<00:00, 12.05it/s]\n"
          ]
        },
        {
          "output_type": "stream",
          "name": "stdout",
          "text": [
            "\n",
            "Test set: Average MNIST loss: 14759.0173, MNIST_Accuracy: 16/10000 (0%)\n",
            "\n",
            "\n",
            "Test set: Average SUM loss: 28951.6818, SUM_Accuracy: 1/10000 (0%)\n",
            "\n"
          ]
        },
        {
          "output_type": "stream",
          "name": "stderr",
          "text": [
            "loss=4.355350017547607 batch_id=468: 100%|██████████| 469/469 [00:38<00:00, 12.10it/s]\n"
          ]
        },
        {
          "output_type": "stream",
          "name": "stdout",
          "text": [
            "\n",
            "Test set: Average MNIST loss: 14725.5267, MNIST_Accuracy: 16/10000 (0%)\n",
            "\n",
            "\n",
            "Test set: Average SUM loss: 28915.7633, SUM_Accuracy: 1/10000 (0%)\n",
            "\n"
          ]
        },
        {
          "output_type": "stream",
          "name": "stderr",
          "text": [
            "loss=4.2676520347595215 batch_id=468: 100%|██████████| 469/469 [00:38<00:00, 12.04it/s]\n"
          ]
        },
        {
          "output_type": "stream",
          "name": "stdout",
          "text": [
            "\n",
            "Test set: Average MNIST loss: 14808.3860, MNIST_Accuracy: 16/10000 (0%)\n",
            "\n",
            "\n",
            "Test set: Average SUM loss: 27875.4019, SUM_Accuracy: 4/10000 (0%)\n",
            "\n"
          ]
        },
        {
          "output_type": "stream",
          "name": "stderr",
          "text": [
            "loss=4.033755302429199 batch_id=468: 100%|██████████| 469/469 [00:38<00:00, 12.09it/s]\n"
          ]
        },
        {
          "output_type": "stream",
          "name": "stdout",
          "text": [
            "\n",
            "Test set: Average MNIST loss: 14779.9032, MNIST_Accuracy: 16/10000 (0%)\n",
            "\n",
            "\n",
            "Test set: Average SUM loss: 26286.9281, SUM_Accuracy: 7/10000 (0%)\n",
            "\n"
          ]
        },
        {
          "output_type": "stream",
          "name": "stderr",
          "text": [
            "loss=4.0846333503723145 batch_id=468: 100%|██████████| 469/469 [00:38<00:00, 12.14it/s]\n"
          ]
        },
        {
          "output_type": "stream",
          "name": "stdout",
          "text": [
            "\n",
            "Test set: Average MNIST loss: 14807.1184, MNIST_Accuracy: 16/10000 (0%)\n",
            "\n",
            "\n",
            "Test set: Average SUM loss: 25942.2989, SUM_Accuracy: 10/10000 (0%)\n",
            "\n"
          ]
        },
        {
          "output_type": "stream",
          "name": "stderr",
          "text": [
            "loss=4.044963359832764 batch_id=468: 100%|██████████| 469/469 [00:38<00:00, 12.17it/s]\n"
          ]
        },
        {
          "output_type": "stream",
          "name": "stdout",
          "text": [
            "\n",
            "Test set: Average MNIST loss: 14772.8851, MNIST_Accuracy: 16/10000 (0%)\n",
            "\n",
            "\n",
            "Test set: Average SUM loss: 25726.8947, SUM_Accuracy: 7/10000 (0%)\n",
            "\n"
          ]
        },
        {
          "output_type": "stream",
          "name": "stderr",
          "text": [
            "loss=4.058967590332031 batch_id=468: 100%|██████████| 469/469 [00:38<00:00, 12.14it/s]\n"
          ]
        },
        {
          "output_type": "stream",
          "name": "stdout",
          "text": [
            "\n",
            "Test set: Average MNIST loss: 14747.8515, MNIST_Accuracy: 16/10000 (0%)\n",
            "\n",
            "\n",
            "Test set: Average SUM loss: 25749.3713, SUM_Accuracy: 9/10000 (0%)\n",
            "\n"
          ]
        },
        {
          "output_type": "stream",
          "name": "stderr",
          "text": [
            "loss=4.005923748016357 batch_id=468: 100%|██████████| 469/469 [00:38<00:00, 12.25it/s]\n"
          ]
        },
        {
          "output_type": "stream",
          "name": "stdout",
          "text": [
            "\n",
            "Test set: Average MNIST loss: 14748.1152, MNIST_Accuracy: 16/10000 (0%)\n",
            "\n",
            "\n",
            "Test set: Average SUM loss: 25777.6574, SUM_Accuracy: 7/10000 (0%)\n",
            "\n"
          ]
        },
        {
          "output_type": "stream",
          "name": "stderr",
          "text": [
            "loss=4.144825458526611 batch_id=468: 100%|██████████| 469/469 [00:38<00:00, 12.15it/s]\n"
          ]
        },
        {
          "output_type": "stream",
          "name": "stdout",
          "text": [
            "\n",
            "Test set: Average MNIST loss: 14733.4145, MNIST_Accuracy: 16/10000 (0%)\n",
            "\n",
            "\n",
            "Test set: Average SUM loss: 25787.1875, SUM_Accuracy: 11/10000 (0%)\n",
            "\n"
          ]
        },
        {
          "output_type": "stream",
          "name": "stderr",
          "text": [
            "loss=4.09298849105835 batch_id=468: 100%|██████████| 469/469 [00:38<00:00, 12.11it/s]\n"
          ]
        },
        {
          "output_type": "stream",
          "name": "stdout",
          "text": [
            "\n",
            "Test set: Average MNIST loss: 14746.2118, MNIST_Accuracy: 16/10000 (0%)\n",
            "\n",
            "\n",
            "Test set: Average SUM loss: 25741.1682, SUM_Accuracy: 5/10000 (0%)\n",
            "\n"
          ]
        },
        {
          "output_type": "stream",
          "name": "stderr",
          "text": [
            "loss=4.027492046356201 batch_id=468: 100%|██████████| 469/469 [00:38<00:00, 12.11it/s]\n"
          ]
        },
        {
          "output_type": "stream",
          "name": "stdout",
          "text": [
            "\n",
            "Test set: Average MNIST loss: 14721.8665, MNIST_Accuracy: 16/10000 (0%)\n",
            "\n",
            "\n",
            "Test set: Average SUM loss: 25813.8111, SUM_Accuracy: 8/10000 (0%)\n",
            "\n"
          ]
        },
        {
          "output_type": "stream",
          "name": "stderr",
          "text": [
            "loss=4.106172561645508 batch_id=468: 100%|██████████| 469/469 [00:39<00:00, 12.02it/s]\n"
          ]
        },
        {
          "output_type": "stream",
          "name": "stdout",
          "text": [
            "\n",
            "Test set: Average MNIST loss: 14739.0707, MNIST_Accuracy: 16/10000 (0%)\n",
            "\n",
            "\n",
            "Test set: Average SUM loss: 25669.7714, SUM_Accuracy: 7/10000 (0%)\n",
            "\n"
          ]
        },
        {
          "output_type": "stream",
          "name": "stderr",
          "text": [
            "loss=4.033599376678467 batch_id=468: 100%|██████████| 469/469 [00:38<00:00, 12.14it/s]\n"
          ]
        },
        {
          "output_type": "stream",
          "name": "stdout",
          "text": [
            "\n",
            "Test set: Average MNIST loss: 14735.7439, MNIST_Accuracy: 16/10000 (0%)\n",
            "\n",
            "\n",
            "Test set: Average SUM loss: 25712.5564, SUM_Accuracy: 6/10000 (0%)\n",
            "\n"
          ]
        },
        {
          "output_type": "stream",
          "name": "stderr",
          "text": [
            "loss=4.011661529541016 batch_id=468: 100%|██████████| 469/469 [00:38<00:00, 12.04it/s]\n"
          ]
        },
        {
          "output_type": "stream",
          "name": "stdout",
          "text": [
            "\n",
            "Test set: Average MNIST loss: 14732.4002, MNIST_Accuracy: 16/10000 (0%)\n",
            "\n",
            "\n",
            "Test set: Average SUM loss: 25676.8034, SUM_Accuracy: 7/10000 (0%)\n",
            "\n"
          ]
        },
        {
          "output_type": "stream",
          "name": "stderr",
          "text": [
            "loss=4.105088710784912 batch_id=468: 100%|██████████| 469/469 [00:38<00:00, 12.11it/s]\n"
          ]
        },
        {
          "output_type": "stream",
          "name": "stdout",
          "text": [
            "\n",
            "Test set: Average MNIST loss: 14760.0181, MNIST_Accuracy: 16/10000 (0%)\n",
            "\n",
            "\n",
            "Test set: Average SUM loss: 25728.5309, SUM_Accuracy: 9/10000 (0%)\n",
            "\n"
          ]
        },
        {
          "output_type": "stream",
          "name": "stderr",
          "text": [
            "loss=4.074320316314697 batch_id=468: 100%|██████████| 469/469 [00:38<00:00, 12.10it/s]\n"
          ]
        },
        {
          "output_type": "stream",
          "name": "stdout",
          "text": [
            "\n",
            "Test set: Average MNIST loss: 14750.1925, MNIST_Accuracy: 16/10000 (0%)\n",
            "\n",
            "\n",
            "Test set: Average SUM loss: 25754.0281, SUM_Accuracy: 10/10000 (0%)\n",
            "\n"
          ]
        },
        {
          "output_type": "stream",
          "name": "stderr",
          "text": [
            "loss=3.909430742263794 batch_id=468: 100%|██████████| 469/469 [00:38<00:00, 12.16it/s]\n"
          ]
        },
        {
          "output_type": "stream",
          "name": "stdout",
          "text": [
            "\n",
            "Test set: Average MNIST loss: 14714.2195, MNIST_Accuracy: 16/10000 (0%)\n",
            "\n",
            "\n",
            "Test set: Average SUM loss: 25627.4471, SUM_Accuracy: 12/10000 (0%)\n",
            "\n"
          ]
        },
        {
          "output_type": "stream",
          "name": "stderr",
          "text": [
            "loss=4.126588344573975 batch_id=468: 100%|██████████| 469/469 [00:38<00:00, 12.14it/s]\n"
          ]
        },
        {
          "output_type": "stream",
          "name": "stdout",
          "text": [
            "\n",
            "Test set: Average MNIST loss: 14743.1375, MNIST_Accuracy: 16/10000 (0%)\n",
            "\n",
            "\n",
            "Test set: Average SUM loss: 25696.2251, SUM_Accuracy: 6/10000 (0%)\n",
            "\n"
          ]
        },
        {
          "output_type": "stream",
          "name": "stderr",
          "text": [
            "loss=4.071372032165527 batch_id=468: 100%|██████████| 469/469 [00:38<00:00, 12.03it/s]\n"
          ]
        },
        {
          "output_type": "stream",
          "name": "stdout",
          "text": [
            "\n",
            "Test set: Average MNIST loss: 14747.9719, MNIST_Accuracy: 16/10000 (0%)\n",
            "\n",
            "\n",
            "Test set: Average SUM loss: 25649.2948, SUM_Accuracy: 8/10000 (0%)\n",
            "\n"
          ]
        },
        {
          "output_type": "stream",
          "name": "stderr",
          "text": [
            "loss=4.0962443351745605 batch_id=468: 100%|██████████| 469/469 [00:39<00:00, 11.96it/s]\n"
          ]
        },
        {
          "output_type": "stream",
          "name": "stdout",
          "text": [
            "\n",
            "Test set: Average MNIST loss: 14725.8855, MNIST_Accuracy: 16/10000 (0%)\n",
            "\n",
            "\n",
            "Test set: Average SUM loss: 25692.7561, SUM_Accuracy: 10/10000 (0%)\n",
            "\n"
          ]
        },
        {
          "output_type": "stream",
          "name": "stderr",
          "text": [
            "loss=4.081849098205566 batch_id=468: 100%|██████████| 469/469 [00:38<00:00, 12.11it/s]\n"
          ]
        },
        {
          "output_type": "stream",
          "name": "stdout",
          "text": [
            "\n",
            "Test set: Average MNIST loss: 14728.4640, MNIST_Accuracy: 16/10000 (0%)\n",
            "\n",
            "\n",
            "Test set: Average SUM loss: 25754.7220, SUM_Accuracy: 9/10000 (0%)\n",
            "\n"
          ]
        },
        {
          "output_type": "stream",
          "name": "stderr",
          "text": [
            "loss=4.124319553375244 batch_id=468: 100%|██████████| 469/469 [00:38<00:00, 12.14it/s]\n"
          ]
        },
        {
          "output_type": "stream",
          "name": "stdout",
          "text": [
            "\n",
            "Test set: Average MNIST loss: 14739.1799, MNIST_Accuracy: 16/10000 (0%)\n",
            "\n",
            "\n",
            "Test set: Average SUM loss: 25644.7474, SUM_Accuracy: 7/10000 (0%)\n",
            "\n"
          ]
        },
        {
          "output_type": "stream",
          "name": "stderr",
          "text": [
            "loss=3.979915142059326 batch_id=468: 100%|██████████| 469/469 [00:39<00:00, 12.00it/s]\n"
          ]
        },
        {
          "output_type": "stream",
          "name": "stdout",
          "text": [
            "\n",
            "Test set: Average MNIST loss: 14719.3269, MNIST_Accuracy: 16/10000 (0%)\n",
            "\n",
            "\n",
            "Test set: Average SUM loss: 25656.0117, SUM_Accuracy: 5/10000 (0%)\n",
            "\n"
          ]
        }
      ]
    },
    {
      "cell_type": "code",
      "metadata": {
        "id": "zdfFChKQRBbV"
      },
      "source": [
        ""
      ],
      "execution_count": 19,
      "outputs": []
    }
  ]
}