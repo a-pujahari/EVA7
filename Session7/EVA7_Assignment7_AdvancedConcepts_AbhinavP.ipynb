{
  "nbformat": 4,
  "nbformat_minor": 5,
  "metadata": {
    "kernelspec": {
      "display_name": "Python 3",
      "language": "python",
      "name": "python3"
    },
    "language_info": {
      "codemirror_mode": {
        "name": "ipython",
        "version": 3
      },
      "file_extension": ".py",
      "mimetype": "text/x-python",
      "name": "python",
      "nbconvert_exporter": "python",
      "pygments_lexer": "ipython3",
      "version": "3.9.7"
    },
    "colab": {
      "name": "EVA7-Assignment7-AdvancedConcepts-AbhinavP.ipynb",
      "provenance": [],
      "collapsed_sections": [],
      "include_colab_link": true
    },
    "accelerator": "GPU"
  },
  "cells": [
    {
      "cell_type": "markdown",
      "metadata": {
        "id": "view-in-github",
        "colab_type": "text"
      },
      "source": [
        "<a href=\"https://colab.research.google.com/github/a-pujahari/EVA7/blob/main/Session7/EVA7_Assignment7_AdvancedConcepts_AbhinavP.ipynb\" target=\"_parent\"><img src=\"https://colab.research.google.com/assets/colab-badge.svg\" alt=\"Open In Colab\"/></a>"
      ]
    },
    {
      "cell_type": "markdown",
      "metadata": {
        "id": "8d4b3910"
      },
      "source": [
        "# EVA7 - Assignment 7 - Advanced Concepts\n",
        "\n",
        "Submission by Abhinav Pujahari (abhinavpujahari@gmail.com) - Group 9\n",
        "\n",
        "## Goals\n",
        "1. Create a classification NN to train the CIFAR10 dataset to beyond 87% accuracy.\n",
        "2. Network must have less than 100k parameters\n",
        "3. One of the layers must use dilated convolution\n",
        "4. 2 of the layers must use depthwise separable convolution\n",
        "5. GAP must be used and mapped to the number of classes\n",
        "6. Use Albumentation library to apply transformations\n",
        "7. Code must be modular"
      ],
      "id": "8d4b3910"
    },
    {
      "cell_type": "markdown",
      "metadata": {
        "id": "68c474ff"
      },
      "source": [
        "## Import Dependencies"
      ],
      "id": "68c474ff"
    },
    {
      "cell_type": "code",
      "metadata": {
        "colab": {
          "base_uri": "https://localhost:8080/"
        },
        "id": "d0fc9f51",
        "outputId": "29844029-3de7-4ae2-85c4-0ada4d340bf0"
      },
      "source": [
        "!pip install albumentations==0.4.6\n",
        "!pip install torchsummary"
      ],
      "id": "d0fc9f51",
      "execution_count": 1,
      "outputs": [
        {
          "output_type": "stream",
          "name": "stdout",
          "text": [
            "Requirement already satisfied: albumentations==0.4.6 in /usr/local/lib/python3.7/dist-packages (0.4.6)\n",
            "Requirement already satisfied: scipy in /usr/local/lib/python3.7/dist-packages (from albumentations==0.4.6) (1.4.1)\n",
            "Requirement already satisfied: imgaug>=0.4.0 in /usr/local/lib/python3.7/dist-packages (from albumentations==0.4.6) (0.4.0)\n",
            "Requirement already satisfied: PyYAML in /usr/local/lib/python3.7/dist-packages (from albumentations==0.4.6) (3.13)\n",
            "Requirement already satisfied: numpy>=1.11.1 in /usr/local/lib/python3.7/dist-packages (from albumentations==0.4.6) (1.19.5)\n",
            "Requirement already satisfied: opencv-python>=4.1.1 in /usr/local/lib/python3.7/dist-packages (from albumentations==0.4.6) (4.1.2.30)\n",
            "Requirement already satisfied: imageio in /usr/local/lib/python3.7/dist-packages (from imgaug>=0.4.0->albumentations==0.4.6) (2.4.1)\n",
            "Requirement already satisfied: Pillow in /usr/local/lib/python3.7/dist-packages (from imgaug>=0.4.0->albumentations==0.4.6) (7.1.2)\n",
            "Requirement already satisfied: scikit-image>=0.14.2 in /usr/local/lib/python3.7/dist-packages (from imgaug>=0.4.0->albumentations==0.4.6) (0.16.2)\n",
            "Requirement already satisfied: Shapely in /usr/local/lib/python3.7/dist-packages (from imgaug>=0.4.0->albumentations==0.4.6) (1.8.0)\n",
            "Requirement already satisfied: matplotlib in /usr/local/lib/python3.7/dist-packages (from imgaug>=0.4.0->albumentations==0.4.6) (3.2.2)\n",
            "Requirement already satisfied: six in /usr/local/lib/python3.7/dist-packages (from imgaug>=0.4.0->albumentations==0.4.6) (1.15.0)\n",
            "Requirement already satisfied: PyWavelets>=0.4.0 in /usr/local/lib/python3.7/dist-packages (from scikit-image>=0.14.2->imgaug>=0.4.0->albumentations==0.4.6) (1.2.0)\n",
            "Requirement already satisfied: networkx>=2.0 in /usr/local/lib/python3.7/dist-packages (from scikit-image>=0.14.2->imgaug>=0.4.0->albumentations==0.4.6) (2.6.3)\n",
            "Requirement already satisfied: cycler>=0.10 in /usr/local/lib/python3.7/dist-packages (from matplotlib->imgaug>=0.4.0->albumentations==0.4.6) (0.11.0)\n",
            "Requirement already satisfied: kiwisolver>=1.0.1 in /usr/local/lib/python3.7/dist-packages (from matplotlib->imgaug>=0.4.0->albumentations==0.4.6) (1.3.2)\n",
            "Requirement already satisfied: python-dateutil>=2.1 in /usr/local/lib/python3.7/dist-packages (from matplotlib->imgaug>=0.4.0->albumentations==0.4.6) (2.8.2)\n",
            "Requirement already satisfied: pyparsing!=2.0.4,!=2.1.2,!=2.1.6,>=2.0.1 in /usr/local/lib/python3.7/dist-packages (from matplotlib->imgaug>=0.4.0->albumentations==0.4.6) (2.4.7)\n",
            "Requirement already satisfied: torchsummary in /usr/local/lib/python3.7/dist-packages (1.5.1)\n"
          ]
        }
      ]
    },
    {
      "cell_type": "code",
      "metadata": {
        "id": "f3cc8f2e"
      },
      "source": [
        "import torch\n",
        "import torchvision\n",
        "import data_handling as d\n",
        "import model_updated as m\n",
        "import torch.optim as optim\n",
        "from torch.optim.lr_scheduler import StepLR, ExponentialLR, OneCycleLR, LambdaLR, CosineAnnealingLR\n",
        "import torch.nn as nn\n",
        "\n",
        "%matplotlib inline\n",
        "import matplotlib.pyplot as plt\n",
        "import numpy as np"
      ],
      "id": "f3cc8f2e",
      "execution_count": 2,
      "outputs": []
    },
    {
      "cell_type": "markdown",
      "metadata": {
        "id": "61169c78"
      },
      "source": [
        "## GPU Check"
      ],
      "id": "61169c78"
    },
    {
      "cell_type": "code",
      "metadata": {
        "colab": {
          "base_uri": "https://localhost:8080/"
        },
        "id": "3bd9d33d",
        "outputId": "13361498-3b87-4b31-f661-36ce835bcaae"
      },
      "source": [
        "SEED = 1\n",
        "\n",
        "# CUDA?\n",
        "cuda = torch.cuda.is_available()\n",
        "print(\"CUDA Available?\", cuda)\n",
        "\n",
        "# For reproducibility\n",
        "torch.manual_seed(SEED)\n",
        "\n",
        "if cuda:\n",
        "    torch.cuda.manual_seed(SEED)\n"
      ],
      "id": "3bd9d33d",
      "execution_count": 3,
      "outputs": [
        {
          "output_type": "stream",
          "name": "stdout",
          "text": [
            "CUDA Available? True\n"
          ]
        }
      ]
    },
    {
      "cell_type": "markdown",
      "metadata": {
        "id": "f179b8ed"
      },
      "source": [
        "## Data Download, Transformations & Dataset Creation"
      ],
      "id": "f179b8ed"
    },
    {
      "cell_type": "code",
      "metadata": {
        "colab": {
          "base_uri": "https://localhost:8080/"
        },
        "id": "e67a3b19",
        "outputId": "4424af8b-ea57-49de-a460-895f8efd0ac8"
      },
      "source": [
        "## Get Dataset Statistics\n",
        "mean, std = d.return_dataset_statistics()\n",
        "\n",
        "## Define data transformations\n",
        "train_transforms, test_transforms = d.albumentation_augmentation(mean, std)\n",
        "\n",
        "## Download & return transformed datasets\n",
        "trainset, testset = d.return_datasets(train_transforms, test_transforms)\n",
        "\n",
        "## Define data loaders\n",
        "trainloader, testloader = d.return_dataloaders(trainset, testset, cuda)"
      ],
      "id": "e67a3b19",
      "execution_count": 4,
      "outputs": [
        {
          "output_type": "stream",
          "name": "stdout",
          "text": [
            "Files already downloaded and verified\n",
            "Files already downloaded and verified\n",
            "Files already downloaded and verified\n"
          ]
        },
        {
          "output_type": "stream",
          "name": "stderr",
          "text": [
            "/usr/local/lib/python3.7/dist-packages/torch/utils/data/dataloader.py:481: UserWarning: This DataLoader will create 4 worker processes in total. Our suggested max number of worker in current system is 2, which is smaller than what this DataLoader is going to create. Please be aware that excessive worker creation might get DataLoader running slow or even freeze, lower the worker number to avoid potential slowness/freeze if necessary.\n",
            "  cpuset_checked))\n"
          ]
        }
      ]
    },
    {
      "cell_type": "markdown",
      "metadata": {
        "id": "2bea4887"
      },
      "source": [
        "## Visualize Data Examples"
      ],
      "id": "2bea4887"
    },
    {
      "cell_type": "code",
      "metadata": {
        "colab": {
          "base_uri": "https://localhost:8080/",
          "height": 225
        },
        "id": "80b3a925",
        "outputId": "bbe1a108-6c41-43ae-fc16-eca69e0ad547"
      },
      "source": [
        "classes = ('plane', 'car', 'bird', 'cat','deer', 'dog', 'frog', 'horse', 'ship', 'truck')\n",
        "\n",
        "# functions to show an image\n",
        "def imshow(img):\n",
        "    img = img / 2 + 0.5     # unnormalize\n",
        "    npimg = img.numpy()\n",
        "    plt.imshow(np.transpose(npimg, (1, 2, 0)))\n",
        "\n",
        "\n",
        "# get some random training images\n",
        "dataiter = iter(trainloader)\n",
        "images, labels = dataiter.next()\n",
        "\n",
        "# show images\n",
        "imshow(torchvision.utils.make_grid(images[0:16]))\n",
        "# print labels\n",
        "print(' '.join('%5s' % classes[labels[j]] for j in range(16)))"
      ],
      "id": "80b3a925",
      "execution_count": 5,
      "outputs": [
        {
          "output_type": "stream",
          "name": "stderr",
          "text": [
            "/usr/local/lib/python3.7/dist-packages/torch/utils/data/dataloader.py:481: UserWarning: This DataLoader will create 4 worker processes in total. Our suggested max number of worker in current system is 2, which is smaller than what this DataLoader is going to create. Please be aware that excessive worker creation might get DataLoader running slow or even freeze, lower the worker number to avoid potential slowness/freeze if necessary.\n",
            "  cpuset_checked))\n",
            "Clipping input data to the valid range for imshow with RGB data ([0..1] for floats or [0..255] for integers).\n"
          ]
        },
        {
          "output_type": "stream",
          "name": "stdout",
          "text": [
            " ship  bird   cat   dog  bird truck truck plane plane  ship truck  frog  bird  bird   dog  frog\n"
          ]
        },
        {
          "output_type": "display_data",
          "data": {
            "image/png": "[encoded data removed]",
            "text/plain": [
              "<Figure size 432x288 with 1 Axes>"
            ]
          },
          "metadata": {
            "needs_background": "light"
          }
        }
      ]
    },
    {
      "cell_type": "markdown",
      "metadata": {
        "id": "78c4a46c"
      },
      "source": [
        "## Model Summary"
      ],
      "id": "78c4a46c"
    },
    {
      "cell_type": "code",
      "metadata": {
        "colab": {
          "base_uri": "https://localhost:8080/"
        },
        "id": "3abfdd98",
        "outputId": "de9291b2-4fd1-4b6b-bfb7-b58eeea0618a"
      },
      "source": [
        "from torchsummary import summary\n",
        "\n",
        "device = torch.device(\"cuda\" if cuda else \"cpu\")\n",
        "print(device)\n",
        "model = m.Net(0.01).to(device)\n",
        "summary(model, input_size=(3, 32, 32))"
      ],
      "id": "3abfdd98",
      "execution_count": 6,
      "outputs": [
        {
          "output_type": "stream",
          "name": "stdout",
          "text": [
            "cuda\n",
            "----------------------------------------------------------------\n",
            "        Layer (type)               Output Shape         Param #\n",
            "================================================================\n",
            "            Conv2d-1           [-1, 12, 30, 30]             324\n",
            "              ReLU-2           [-1, 12, 30, 30]               0\n",
            "       BatchNorm2d-3           [-1, 12, 30, 30]              24\n",
            "           Dropout-4           [-1, 12, 30, 30]               0\n",
            "            Conv2d-5           [-1, 24, 28, 28]           2,592\n",
            "              ReLU-6           [-1, 24, 28, 28]               0\n",
            "       BatchNorm2d-7           [-1, 24, 28, 28]              48\n",
            "           Dropout-8           [-1, 24, 28, 28]               0\n",
            "            Conv2d-9           [-1, 48, 14, 14]          10,368\n",
            "             ReLU-10           [-1, 48, 14, 14]               0\n",
            "      BatchNorm2d-11           [-1, 48, 14, 14]              96\n",
            "          Dropout-12           [-1, 48, 14, 14]               0\n",
            "           Conv2d-13           [-1, 48, 14, 14]          20,736\n",
            "             ReLU-14           [-1, 48, 14, 14]               0\n",
            "      BatchNorm2d-15           [-1, 48, 14, 14]              96\n",
            "          Dropout-16           [-1, 48, 14, 14]               0\n",
            "           Conv2d-17           [-1, 12, 30, 30]             324\n",
            "             ReLU-18           [-1, 12, 30, 30]               0\n",
            "      BatchNorm2d-19           [-1, 12, 30, 30]              24\n",
            "          Dropout-20           [-1, 12, 30, 30]               0\n",
            "           Conv2d-21           [-1, 24, 28, 28]           2,592\n",
            "             ReLU-22           [-1, 24, 28, 28]               0\n",
            "      BatchNorm2d-23           [-1, 24, 28, 28]              48\n",
            "          Dropout-24           [-1, 24, 28, 28]               0\n",
            "           Conv2d-25           [-1, 48, 14, 14]          10,368\n",
            "             ReLU-26           [-1, 48, 14, 14]               0\n",
            "      BatchNorm2d-27           [-1, 48, 14, 14]              96\n",
            "          Dropout-28           [-1, 48, 14, 14]               0\n",
            "           Conv2d-29           [-1, 48, 14, 14]          20,736\n",
            "             ReLU-30           [-1, 48, 14, 14]               0\n",
            "      BatchNorm2d-31           [-1, 48, 14, 14]              96\n",
            "          Dropout-32           [-1, 48, 14, 14]               0\n",
            "           Conv2d-33           [-1, 96, 12, 12]             864\n",
            "           Conv2d-34           [-1, 60, 12, 12]           5,760\n",
            "             ReLU-35           [-1, 60, 12, 12]               0\n",
            "      BatchNorm2d-36           [-1, 60, 12, 12]             120\n",
            "          Dropout-37           [-1, 60, 12, 12]               0\n",
            "           Conv2d-38           [-1, 30, 10, 10]          16,200\n",
            "             ReLU-39           [-1, 30, 10, 10]               0\n",
            "      BatchNorm2d-40           [-1, 30, 10, 10]              60\n",
            "          Dropout-41           [-1, 30, 10, 10]               0\n",
            "           Conv2d-42             [-1, 10, 8, 8]           2,700\n",
            "             ReLU-43             [-1, 10, 8, 8]               0\n",
            "      BatchNorm2d-44             [-1, 10, 8, 8]              20\n",
            "          Dropout-45             [-1, 10, 8, 8]               0\n",
            "        AvgPool2d-46             [-1, 10, 1, 1]               0\n",
            "================================================================\n",
            "Total params: 94,292\n",
            "Trainable params: 94,292\n",
            "Non-trainable params: 0\n",
            "----------------------------------------------------------------\n",
            "Input size (MB): 0.01\n",
            "Forward/backward pass size (MB): 3.44\n",
            "Params size (MB): 0.36\n",
            "Estimated Total Size (MB): 3.81\n",
            "----------------------------------------------------------------\n"
          ]
        }
      ]
    },
    {
      "cell_type": "markdown",
      "metadata": {
        "id": "3a05ae95"
      },
      "source": [
        "## Model Training"
      ],
      "id": "3a05ae95"
    },
    {
      "cell_type": "code",
      "metadata": {
        "colab": {
          "base_uri": "https://localhost:8080/"
        },
        "id": "148e6934",
        "outputId": "9e09fc65-952c-4132-ea1d-9f10807ab103"
      },
      "source": [
        "import train, test\n",
        "train_acc, train_losses, test_acc, test_losses, lrs = [], [], [], [], []\n",
        "\n",
        "## Define Optimizer\n",
        "optimizer = optim.Adam(model.parameters(), lr = 0.01, weight_decay=1e-5)\n",
        "\n",
        "## Define Scheduler\n",
        "scheduler = OneCycleLR(optimizer, max_lr = 0.015, epochs = 100, steps_per_epoch = len(trainloader))\n",
        "\n",
        "## Define loss function\n",
        "criterion = nn.CrossEntropyLoss()\n",
        "\n",
        "## Define number of epochs and begin training\n",
        "EPOCHS = 100\n",
        "for epoch in range(EPOCHS):\n",
        "    print(\"EPOCH:\", epoch + 1)\n",
        "    train.train(model, device, trainloader, train_acc, train_losses, optimizer, scheduler, criterion, lrs)\n",
        "    test.test(model, device, testloader, test_acc, test_losses, criterion)\n"
      ],
      "id": "148e6934",
      "execution_count": 7,
      "outputs": [
        {
          "output_type": "stream",
          "name": "stdout",
          "text": [
            "EPOCH: 1\n"
          ]
        },
        {
          "output_type": "stream",
          "name": "stderr",
          "text": [
            "\r  0%|          | 0/391 [00:00<?, ?it/s]/usr/local/lib/python3.7/dist-packages/torch/utils/data/dataloader.py:481: UserWarning: This DataLoader will create 4 worker processes in total. Our suggested max number of worker in current system is 2, which is smaller than what this DataLoader is going to create. Please be aware that excessive worker creation might get DataLoader running slow or even freeze, lower the worker number to avoid potential slowness/freeze if necessary.\n",
            "  cpuset_checked))\n",
            "Loss=1.3672443628311157 Batch_id=390 LR=0.00064 Accuracy=41.65: 100%|██████████| 391/391 [00:18<00:00, 20.97it/s]\n"
          ]
        },
        {
          "output_type": "stream",
          "name": "stdout",
          "text": [
            "\n",
            "Test set: Average loss: 0.0102, Accuracy: 5762/10000 (57.62%)\n",
            "\n",
            "EPOCH: 2\n"
          ]
        },
        {
          "output_type": "stream",
          "name": "stderr",
          "text": [
            "Loss=1.3712303638458252 Batch_id=390 LR=0.00076 Accuracy=53.43: 100%|██████████| 391/391 [00:18<00:00, 20.92it/s]\n"
          ]
        },
        {
          "output_type": "stream",
          "name": "stdout",
          "text": [
            "\n",
            "Test set: Average loss: 0.0089, Accuracy: 6275/10000 (62.75%)\n",
            "\n",
            "EPOCH: 3\n"
          ]
        },
        {
          "output_type": "stream",
          "name": "stderr",
          "text": [
            "Loss=1.2004119157791138 Batch_id=390 LR=0.00095 Accuracy=57.95: 100%|██████████| 391/391 [00:18<00:00, 20.82it/s]\n"
          ]
        },
        {
          "output_type": "stream",
          "name": "stdout",
          "text": [
            "\n",
            "Test set: Average loss: 0.0077, Accuracy: 6704/10000 (67.04%)\n",
            "\n",
            "EPOCH: 4\n"
          ]
        },
        {
          "output_type": "stream",
          "name": "stderr",
          "text": [
            "Loss=1.1893805265426636 Batch_id=390 LR=0.00122 Accuracy=61.16: 100%|██████████| 391/391 [00:18<00:00, 20.92it/s]\n"
          ]
        },
        {
          "output_type": "stream",
          "name": "stdout",
          "text": [
            "\n",
            "Test set: Average loss: 0.0072, Accuracy: 6855/10000 (68.55%)\n",
            "\n",
            "EPOCH: 5\n"
          ]
        },
        {
          "output_type": "stream",
          "name": "stderr",
          "text": [
            "Loss=1.123180627822876 Batch_id=390 LR=0.00156 Accuracy=63.19: 100%|██████████| 391/391 [00:18<00:00, 20.82it/s]\n"
          ]
        },
        {
          "output_type": "stream",
          "name": "stdout",
          "text": [
            "\n",
            "Test set: Average loss: 0.0068, Accuracy: 7101/10000 (71.01%)\n",
            "\n",
            "EPOCH: 6\n"
          ]
        },
        {
          "output_type": "stream",
          "name": "stderr",
          "text": [
            "Loss=1.0239121913909912 Batch_id=390 LR=0.00198 Accuracy=64.96: 100%|██████████| 391/391 [00:19<00:00, 20.52it/s]\n"
          ]
        },
        {
          "output_type": "stream",
          "name": "stdout",
          "text": [
            "\n",
            "Test set: Average loss: 0.0064, Accuracy: 7228/10000 (72.28%)\n",
            "\n",
            "EPOCH: 7\n"
          ]
        },
        {
          "output_type": "stream",
          "name": "stderr",
          "text": [
            "Loss=0.830051600933075 Batch_id=390 LR=0.00245 Accuracy=66.16: 100%|██████████| 391/391 [00:19<00:00, 20.27it/s]\n"
          ]
        },
        {
          "output_type": "stream",
          "name": "stdout",
          "text": [
            "\n",
            "Test set: Average loss: 0.0062, Accuracy: 7322/10000 (73.22%)\n",
            "\n",
            "EPOCH: 8\n"
          ]
        },
        {
          "output_type": "stream",
          "name": "stderr",
          "text": [
            "Loss=0.8421778678894043 Batch_id=390 LR=0.00298 Accuracy=67.17: 100%|██████████| 391/391 [00:19<00:00, 20.47it/s]\n"
          ]
        },
        {
          "output_type": "stream",
          "name": "stdout",
          "text": [
            "\n",
            "Test set: Average loss: 0.0057, Accuracy: 7523/10000 (75.23%)\n",
            "\n",
            "EPOCH: 9\n"
          ]
        },
        {
          "output_type": "stream",
          "name": "stderr",
          "text": [
            "Loss=0.8665561676025391 Batch_id=390 LR=0.00357 Accuracy=68.14: 100%|██████████| 391/391 [00:19<00:00, 20.02it/s]\n"
          ]
        },
        {
          "output_type": "stream",
          "name": "stdout",
          "text": [
            "\n",
            "Test set: Average loss: 0.0059, Accuracy: 7378/10000 (73.78%)\n",
            "\n",
            "EPOCH: 10\n"
          ]
        },
        {
          "output_type": "stream",
          "name": "stderr",
          "text": [
            "Loss=1.009823203086853 Batch_id=390 LR=0.00420 Accuracy=68.80: 100%|██████████| 391/391 [00:19<00:00, 20.09it/s]\n"
          ]
        },
        {
          "output_type": "stream",
          "name": "stdout",
          "text": [
            "\n",
            "Test set: Average loss: 0.0055, Accuracy: 7614/10000 (76.14%)\n",
            "\n",
            "EPOCH: 11\n"
          ]
        },
        {
          "output_type": "stream",
          "name": "stderr",
          "text": [
            "Loss=0.8043869733810425 Batch_id=390 LR=0.00487 Accuracy=69.52: 100%|██████████| 391/391 [00:18<00:00, 20.75it/s]\n"
          ]
        },
        {
          "output_type": "stream",
          "name": "stdout",
          "text": [
            "\n",
            "Test set: Average loss: 0.0055, Accuracy: 7540/10000 (75.40%)\n",
            "\n",
            "EPOCH: 12\n"
          ]
        },
        {
          "output_type": "stream",
          "name": "stderr",
          "text": [
            "Loss=0.7688965797424316 Batch_id=390 LR=0.00558 Accuracy=69.86: 100%|██████████| 391/391 [00:19<00:00, 20.52it/s]\n"
          ]
        },
        {
          "output_type": "stream",
          "name": "stdout",
          "text": [
            "\n",
            "Test set: Average loss: 0.0053, Accuracy: 7690/10000 (76.90%)\n",
            "\n",
            "EPOCH: 13\n"
          ]
        },
        {
          "output_type": "stream",
          "name": "stderr",
          "text": [
            "Loss=0.7142507433891296 Batch_id=390 LR=0.00630 Accuracy=70.60: 100%|██████████| 391/391 [00:18<00:00, 20.58it/s]\n"
          ]
        },
        {
          "output_type": "stream",
          "name": "stdout",
          "text": [
            "\n",
            "Test set: Average loss: 0.0053, Accuracy: 7709/10000 (77.09%)\n",
            "\n",
            "EPOCH: 14\n"
          ]
        },
        {
          "output_type": "stream",
          "name": "stderr",
          "text": [
            "Loss=0.9152935743331909 Batch_id=390 LR=0.00705 Accuracy=71.04: 100%|██████████| 391/391 [00:19<00:00, 20.32it/s]\n"
          ]
        },
        {
          "output_type": "stream",
          "name": "stdout",
          "text": [
            "\n",
            "Test set: Average loss: 0.0063, Accuracy: 7364/10000 (73.64%)\n",
            "\n",
            "EPOCH: 15\n"
          ]
        },
        {
          "output_type": "stream",
          "name": "stderr",
          "text": [
            "Loss=0.824735164642334 Batch_id=390 LR=0.00780 Accuracy=71.56: 100%|██████████| 391/391 [00:19<00:00, 20.39it/s]\n"
          ]
        },
        {
          "output_type": "stream",
          "name": "stdout",
          "text": [
            "\n",
            "Test set: Average loss: 0.0053, Accuracy: 7789/10000 (77.89%)\n",
            "\n",
            "EPOCH: 16\n"
          ]
        },
        {
          "output_type": "stream",
          "name": "stderr",
          "text": [
            "Loss=0.835771918296814 Batch_id=390 LR=0.00855 Accuracy=71.54: 100%|██████████| 391/391 [00:19<00:00, 20.21it/s]\n"
          ]
        },
        {
          "output_type": "stream",
          "name": "stdout",
          "text": [
            "\n",
            "Test set: Average loss: 0.0052, Accuracy: 7801/10000 (78.01%)\n",
            "\n",
            "EPOCH: 17\n"
          ]
        },
        {
          "output_type": "stream",
          "name": "stderr",
          "text": [
            "Loss=0.830295205116272 Batch_id=390 LR=0.00930 Accuracy=72.04: 100%|██████████| 391/391 [00:19<00:00, 20.24it/s]\n"
          ]
        },
        {
          "output_type": "stream",
          "name": "stdout",
          "text": [
            "\n",
            "Test set: Average loss: 0.0052, Accuracy: 7795/10000 (77.95%)\n",
            "\n",
            "EPOCH: 18\n"
          ]
        },
        {
          "output_type": "stream",
          "name": "stderr",
          "text": [
            "Loss=0.8351756930351257 Batch_id=390 LR=0.01003 Accuracy=72.37: 100%|██████████| 391/391 [00:19<00:00, 20.52it/s]\n"
          ]
        },
        {
          "output_type": "stream",
          "name": "stdout",
          "text": [
            "\n",
            "Test set: Average loss: 0.0048, Accuracy: 7958/10000 (79.58%)\n",
            "\n",
            "EPOCH: 19\n"
          ]
        },
        {
          "output_type": "stream",
          "name": "stderr",
          "text": [
            "Loss=0.8323174715042114 Batch_id=390 LR=0.01073 Accuracy=72.77: 100%|██████████| 391/391 [00:19<00:00, 20.34it/s]\n"
          ]
        },
        {
          "output_type": "stream",
          "name": "stdout",
          "text": [
            "\n",
            "Test set: Average loss: 0.0052, Accuracy: 7806/10000 (78.06%)\n",
            "\n",
            "EPOCH: 20\n"
          ]
        },
        {
          "output_type": "stream",
          "name": "stderr",
          "text": [
            "Loss=0.9009988903999329 Batch_id=390 LR=0.01140 Accuracy=72.98: 100%|██████████| 391/391 [00:19<00:00, 20.32it/s]\n"
          ]
        },
        {
          "output_type": "stream",
          "name": "stdout",
          "text": [
            "\n",
            "Test set: Average loss: 0.0051, Accuracy: 7790/10000 (77.90%)\n",
            "\n",
            "EPOCH: 21\n"
          ]
        },
        {
          "output_type": "stream",
          "name": "stderr",
          "text": [
            "Loss=0.5461057424545288 Batch_id=390 LR=0.01203 Accuracy=73.11: 100%|██████████| 391/391 [00:19<00:00, 20.56it/s]\n"
          ]
        },
        {
          "output_type": "stream",
          "name": "stdout",
          "text": [
            "\n",
            "Test set: Average loss: 0.0049, Accuracy: 7865/10000 (78.65%)\n",
            "\n",
            "EPOCH: 22\n"
          ]
        },
        {
          "output_type": "stream",
          "name": "stderr",
          "text": [
            "Loss=0.5519801378250122 Batch_id=390 LR=0.01262 Accuracy=73.44: 100%|██████████| 391/391 [00:18<00:00, 21.24it/s]\n"
          ]
        },
        {
          "output_type": "stream",
          "name": "stdout",
          "text": [
            "\n",
            "Test set: Average loss: 0.0063, Accuracy: 7369/10000 (73.69%)\n",
            "\n",
            "EPOCH: 23\n"
          ]
        },
        {
          "output_type": "stream",
          "name": "stderr",
          "text": [
            "Loss=0.7500079870223999 Batch_id=390 LR=0.01315 Accuracy=73.61: 100%|██████████| 391/391 [00:18<00:00, 20.90it/s]\n"
          ]
        },
        {
          "output_type": "stream",
          "name": "stdout",
          "text": [
            "\n",
            "Test set: Average loss: 0.0046, Accuracy: 8039/10000 (80.39%)\n",
            "\n",
            "EPOCH: 24\n"
          ]
        },
        {
          "output_type": "stream",
          "name": "stderr",
          "text": [
            "Loss=1.0014711618423462 Batch_id=390 LR=0.01363 Accuracy=73.97: 100%|██████████| 391/391 [00:18<00:00, 20.71it/s]\n"
          ]
        },
        {
          "output_type": "stream",
          "name": "stdout",
          "text": [
            "\n",
            "Test set: Average loss: 0.0047, Accuracy: 7970/10000 (79.70%)\n",
            "\n",
            "EPOCH: 25\n"
          ]
        },
        {
          "output_type": "stream",
          "name": "stderr",
          "text": [
            "Loss=0.8818396329879761 Batch_id=390 LR=0.01404 Accuracy=73.86: 100%|██████████| 391/391 [00:18<00:00, 20.68it/s]\n"
          ]
        },
        {
          "output_type": "stream",
          "name": "stdout",
          "text": [
            "\n",
            "Test set: Average loss: 0.0049, Accuracy: 7900/10000 (79.00%)\n",
            "\n",
            "EPOCH: 26\n"
          ]
        },
        {
          "output_type": "stream",
          "name": "stderr",
          "text": [
            "Loss=0.7254601716995239 Batch_id=390 LR=0.01438 Accuracy=73.84: 100%|██████████| 391/391 [00:18<00:00, 20.97it/s]\n"
          ]
        },
        {
          "output_type": "stream",
          "name": "stdout",
          "text": [
            "\n",
            "Test set: Average loss: 0.0053, Accuracy: 7697/10000 (76.97%)\n",
            "\n",
            "EPOCH: 27\n"
          ]
        },
        {
          "output_type": "stream",
          "name": "stderr",
          "text": [
            "Loss=0.8401260375976562 Batch_id=390 LR=0.01465 Accuracy=74.46: 100%|██████████| 391/391 [00:18<00:00, 21.24it/s]\n"
          ]
        },
        {
          "output_type": "stream",
          "name": "stdout",
          "text": [
            "\n",
            "Test set: Average loss: 0.0050, Accuracy: 7892/10000 (78.92%)\n",
            "\n",
            "EPOCH: 28\n"
          ]
        },
        {
          "output_type": "stream",
          "name": "stderr",
          "text": [
            "Loss=0.7256633043289185 Batch_id=390 LR=0.01484 Accuracy=74.03: 100%|██████████| 391/391 [00:18<00:00, 21.04it/s]\n"
          ]
        },
        {
          "output_type": "stream",
          "name": "stdout",
          "text": [
            "\n",
            "Test set: Average loss: 0.0049, Accuracy: 7852/10000 (78.52%)\n",
            "\n",
            "EPOCH: 29\n"
          ]
        },
        {
          "output_type": "stream",
          "name": "stderr",
          "text": [
            "Loss=0.6627358198165894 Batch_id=390 LR=0.01496 Accuracy=74.57: 100%|██████████| 391/391 [00:18<00:00, 20.78it/s]\n"
          ]
        },
        {
          "output_type": "stream",
          "name": "stdout",
          "text": [
            "\n",
            "Test set: Average loss: 0.0046, Accuracy: 8046/10000 (80.46%)\n",
            "\n",
            "EPOCH: 30\n"
          ]
        },
        {
          "output_type": "stream",
          "name": "stderr",
          "text": [
            "Loss=1.0378459692001343 Batch_id=390 LR=0.01500 Accuracy=74.79: 100%|██████████| 391/391 [00:19<00:00, 20.53it/s]\n"
          ]
        },
        {
          "output_type": "stream",
          "name": "stdout",
          "text": [
            "\n",
            "Test set: Average loss: 0.0053, Accuracy: 7865/10000 (78.65%)\n",
            "\n",
            "EPOCH: 31\n"
          ]
        },
        {
          "output_type": "stream",
          "name": "stderr",
          "text": [
            "Loss=0.5378631949424744 Batch_id=390 LR=0.01499 Accuracy=74.92: 100%|██████████| 391/391 [00:18<00:00, 21.16it/s]\n"
          ]
        },
        {
          "output_type": "stream",
          "name": "stdout",
          "text": [
            "\n",
            "Test set: Average loss: 0.0045, Accuracy: 8122/10000 (81.22%)\n",
            "\n",
            "EPOCH: 32\n"
          ]
        },
        {
          "output_type": "stream",
          "name": "stderr",
          "text": [
            "Loss=0.48854583501815796 Batch_id=390 LR=0.01497 Accuracy=74.93: 100%|██████████| 391/391 [00:18<00:00, 21.06it/s]\n"
          ]
        },
        {
          "output_type": "stream",
          "name": "stdout",
          "text": [
            "\n",
            "Test set: Average loss: 0.0047, Accuracy: 7956/10000 (79.56%)\n",
            "\n",
            "EPOCH: 33\n"
          ]
        },
        {
          "output_type": "stream",
          "name": "stderr",
          "text": [
            "Loss=0.9253328442573547 Batch_id=390 LR=0.01493 Accuracy=75.35: 100%|██████████| 391/391 [00:18<00:00, 20.61it/s]\n"
          ]
        },
        {
          "output_type": "stream",
          "name": "stdout",
          "text": [
            "\n",
            "Test set: Average loss: 0.0048, Accuracy: 7962/10000 (79.62%)\n",
            "\n",
            "EPOCH: 34\n"
          ]
        },
        {
          "output_type": "stream",
          "name": "stderr",
          "text": [
            "Loss=0.6078500151634216 Batch_id=390 LR=0.01488 Accuracy=74.90: 100%|██████████| 391/391 [00:19<00:00, 20.32it/s]\n"
          ]
        },
        {
          "output_type": "stream",
          "name": "stdout",
          "text": [
            "\n",
            "Test set: Average loss: 0.0050, Accuracy: 7914/10000 (79.14%)\n",
            "\n",
            "EPOCH: 35\n"
          ]
        },
        {
          "output_type": "stream",
          "name": "stderr",
          "text": [
            "Loss=0.5556490421295166 Batch_id=390 LR=0.01481 Accuracy=75.37: 100%|██████████| 391/391 [00:18<00:00, 20.73it/s]\n"
          ]
        },
        {
          "output_type": "stream",
          "name": "stdout",
          "text": [
            "\n",
            "Test set: Average loss: 0.0049, Accuracy: 7888/10000 (78.88%)\n",
            "\n",
            "EPOCH: 36\n"
          ]
        },
        {
          "output_type": "stream",
          "name": "stderr",
          "text": [
            "Loss=0.7820719480514526 Batch_id=390 LR=0.01473 Accuracy=75.61: 100%|██████████| 391/391 [00:18<00:00, 21.00it/s]\n"
          ]
        },
        {
          "output_type": "stream",
          "name": "stdout",
          "text": [
            "\n",
            "Test set: Average loss: 0.0047, Accuracy: 7985/10000 (79.85%)\n",
            "\n",
            "EPOCH: 37\n"
          ]
        },
        {
          "output_type": "stream",
          "name": "stderr",
          "text": [
            "Loss=0.6531270146369934 Batch_id=390 LR=0.01463 Accuracy=75.74: 100%|██████████| 391/391 [00:19<00:00, 20.56it/s]\n"
          ]
        },
        {
          "output_type": "stream",
          "name": "stdout",
          "text": [
            "\n",
            "Test set: Average loss: 0.0046, Accuracy: 8058/10000 (80.58%)\n",
            "\n",
            "EPOCH: 38\n"
          ]
        },
        {
          "output_type": "stream",
          "name": "stderr",
          "text": [
            "Loss=0.7521263360977173 Batch_id=390 LR=0.01452 Accuracy=75.79: 100%|██████████| 391/391 [00:18<00:00, 20.74it/s]\n"
          ]
        },
        {
          "output_type": "stream",
          "name": "stdout",
          "text": [
            "\n",
            "Test set: Average loss: 0.0045, Accuracy: 8055/10000 (80.55%)\n",
            "\n",
            "EPOCH: 39\n"
          ]
        },
        {
          "output_type": "stream",
          "name": "stderr",
          "text": [
            "Loss=0.8557764887809753 Batch_id=390 LR=0.01440 Accuracy=76.00: 100%|██████████| 391/391 [00:18<00:00, 20.96it/s]\n"
          ]
        },
        {
          "output_type": "stream",
          "name": "stdout",
          "text": [
            "\n",
            "Test set: Average loss: 0.0043, Accuracy: 8116/10000 (81.16%)\n",
            "\n",
            "EPOCH: 40\n"
          ]
        },
        {
          "output_type": "stream",
          "name": "stderr",
          "text": [
            "Loss=0.6289740204811096 Batch_id=390 LR=0.01426 Accuracy=75.90: 100%|██████████| 391/391 [00:19<00:00, 20.53it/s]\n"
          ]
        },
        {
          "output_type": "stream",
          "name": "stdout",
          "text": [
            "\n",
            "Test set: Average loss: 0.0050, Accuracy: 7799/10000 (77.99%)\n",
            "\n",
            "EPOCH: 41\n"
          ]
        },
        {
          "output_type": "stream",
          "name": "stderr",
          "text": [
            "Loss=0.7789029479026794 Batch_id=390 LR=0.01410 Accuracy=76.18: 100%|██████████| 391/391 [00:19<00:00, 20.48it/s]\n"
          ]
        },
        {
          "output_type": "stream",
          "name": "stdout",
          "text": [
            "\n",
            "Test set: Average loss: 0.0051, Accuracy: 7855/10000 (78.55%)\n",
            "\n",
            "EPOCH: 42\n"
          ]
        },
        {
          "output_type": "stream",
          "name": "stderr",
          "text": [
            "Loss=0.609676718711853 Batch_id=390 LR=0.01394 Accuracy=76.19: 100%|██████████| 391/391 [00:18<00:00, 20.97it/s]\n"
          ]
        },
        {
          "output_type": "stream",
          "name": "stdout",
          "text": [
            "\n",
            "Test set: Average loss: 0.0041, Accuracy: 8235/10000 (82.35%)\n",
            "\n",
            "EPOCH: 43\n"
          ]
        },
        {
          "output_type": "stream",
          "name": "stderr",
          "text": [
            "Loss=0.7015054821968079 Batch_id=390 LR=0.01376 Accuracy=76.23: 100%|██████████| 391/391 [00:18<00:00, 20.70it/s]\n"
          ]
        },
        {
          "output_type": "stream",
          "name": "stdout",
          "text": [
            "\n",
            "Test set: Average loss: 0.0043, Accuracy: 8112/10000 (81.12%)\n",
            "\n",
            "EPOCH: 44\n"
          ]
        },
        {
          "output_type": "stream",
          "name": "stderr",
          "text": [
            "Loss=0.6240537166595459 Batch_id=390 LR=0.01357 Accuracy=76.02: 100%|██████████| 391/391 [00:18<00:00, 20.85it/s]\n"
          ]
        },
        {
          "output_type": "stream",
          "name": "stdout",
          "text": [
            "\n",
            "Test set: Average loss: 0.0042, Accuracy: 8184/10000 (81.84%)\n",
            "\n",
            "EPOCH: 45\n"
          ]
        },
        {
          "output_type": "stream",
          "name": "stderr",
          "text": [
            "Loss=0.6891566514968872 Batch_id=390 LR=0.01336 Accuracy=76.56: 100%|██████████| 391/391 [00:18<00:00, 20.59it/s]\n"
          ]
        },
        {
          "output_type": "stream",
          "name": "stdout",
          "text": [
            "\n",
            "Test set: Average loss: 0.0041, Accuracy: 8232/10000 (82.32%)\n",
            "\n",
            "EPOCH: 46\n"
          ]
        },
        {
          "output_type": "stream",
          "name": "stderr",
          "text": [
            "Loss=0.6294086575508118 Batch_id=390 LR=0.01315 Accuracy=77.09: 100%|██████████| 391/391 [00:19<00:00, 20.00it/s]\n"
          ]
        },
        {
          "output_type": "stream",
          "name": "stdout",
          "text": [
            "\n",
            "Test set: Average loss: 0.0046, Accuracy: 8110/10000 (81.10%)\n",
            "\n",
            "EPOCH: 47\n"
          ]
        },
        {
          "output_type": "stream",
          "name": "stderr",
          "text": [
            "Loss=0.7018682360649109 Batch_id=390 LR=0.01292 Accuracy=76.98: 100%|██████████| 391/391 [00:19<00:00, 20.09it/s]\n"
          ]
        },
        {
          "output_type": "stream",
          "name": "stdout",
          "text": [
            "\n",
            "Test set: Average loss: 0.0040, Accuracy: 8232/10000 (82.32%)\n",
            "\n",
            "EPOCH: 48\n"
          ]
        },
        {
          "output_type": "stream",
          "name": "stderr",
          "text": [
            "Loss=0.6632432341575623 Batch_id=390 LR=0.01268 Accuracy=77.48: 100%|██████████| 391/391 [00:19<00:00, 20.35it/s]\n"
          ]
        },
        {
          "output_type": "stream",
          "name": "stdout",
          "text": [
            "\n",
            "Test set: Average loss: 0.0038, Accuracy: 8371/10000 (83.71%)\n",
            "\n",
            "EPOCH: 49\n"
          ]
        },
        {
          "output_type": "stream",
          "name": "stderr",
          "text": [
            "Loss=0.4642452597618103 Batch_id=390 LR=0.01243 Accuracy=77.30: 100%|██████████| 391/391 [00:18<00:00, 20.65it/s]\n"
          ]
        },
        {
          "output_type": "stream",
          "name": "stdout",
          "text": [
            "\n",
            "Test set: Average loss: 0.0044, Accuracy: 8164/10000 (81.64%)\n",
            "\n",
            "EPOCH: 50\n"
          ]
        },
        {
          "output_type": "stream",
          "name": "stderr",
          "text": [
            "Loss=0.7756317853927612 Batch_id=390 LR=0.01218 Accuracy=77.44: 100%|██████████| 391/391 [00:19<00:00, 20.24it/s]\n"
          ]
        },
        {
          "output_type": "stream",
          "name": "stdout",
          "text": [
            "\n",
            "Test set: Average loss: 0.0040, Accuracy: 8287/10000 (82.87%)\n",
            "\n",
            "EPOCH: 51\n"
          ]
        },
        {
          "output_type": "stream",
          "name": "stderr",
          "text": [
            "Loss=0.48306703567504883 Batch_id=390 LR=0.01191 Accuracy=77.88: 100%|██████████| 391/391 [00:18<00:00, 21.05it/s]\n"
          ]
        },
        {
          "output_type": "stream",
          "name": "stdout",
          "text": [
            "\n",
            "Test set: Average loss: 0.0040, Accuracy: 8282/10000 (82.82%)\n",
            "\n",
            "EPOCH: 52\n"
          ]
        },
        {
          "output_type": "stream",
          "name": "stderr",
          "text": [
            "Loss=0.5588322877883911 Batch_id=390 LR=0.01163 Accuracy=77.89: 100%|██████████| 391/391 [00:19<00:00, 20.48it/s]\n"
          ]
        },
        {
          "output_type": "stream",
          "name": "stdout",
          "text": [
            "\n",
            "Test set: Average loss: 0.0039, Accuracy: 8312/10000 (83.12%)\n",
            "\n",
            "EPOCH: 53\n"
          ]
        },
        {
          "output_type": "stream",
          "name": "stderr",
          "text": [
            "Loss=0.733584463596344 Batch_id=390 LR=0.01135 Accuracy=78.22: 100%|██████████| 391/391 [00:19<00:00, 20.55it/s]\n"
          ]
        },
        {
          "output_type": "stream",
          "name": "stdout",
          "text": [
            "\n",
            "Test set: Average loss: 0.0037, Accuracy: 8411/10000 (84.11%)\n",
            "\n",
            "EPOCH: 54\n"
          ]
        },
        {
          "output_type": "stream",
          "name": "stderr",
          "text": [
            "Loss=0.614581823348999 Batch_id=390 LR=0.01105 Accuracy=78.27: 100%|██████████| 391/391 [00:19<00:00, 20.39it/s]\n"
          ]
        },
        {
          "output_type": "stream",
          "name": "stdout",
          "text": [
            "\n",
            "Test set: Average loss: 0.0039, Accuracy: 8369/10000 (83.69%)\n",
            "\n",
            "EPOCH: 55\n"
          ]
        },
        {
          "output_type": "stream",
          "name": "stderr",
          "text": [
            "Loss=0.6587942242622375 Batch_id=390 LR=0.01075 Accuracy=78.32: 100%|██████████| 391/391 [00:18<00:00, 20.67it/s]\n"
          ]
        },
        {
          "output_type": "stream",
          "name": "stdout",
          "text": [
            "\n",
            "Test set: Average loss: 0.0040, Accuracy: 8340/10000 (83.40%)\n",
            "\n",
            "EPOCH: 56\n"
          ]
        },
        {
          "output_type": "stream",
          "name": "stderr",
          "text": [
            "Loss=0.5117870569229126 Batch_id=390 LR=0.01045 Accuracy=78.35: 100%|██████████| 391/391 [00:18<00:00, 20.94it/s]\n"
          ]
        },
        {
          "output_type": "stream",
          "name": "stdout",
          "text": [
            "\n",
            "Test set: Average loss: 0.0040, Accuracy: 8304/10000 (83.04%)\n",
            "\n",
            "EPOCH: 57\n"
          ]
        },
        {
          "output_type": "stream",
          "name": "stderr",
          "text": [
            "Loss=0.5890793204307556 Batch_id=390 LR=0.01013 Accuracy=78.93: 100%|██████████| 391/391 [00:19<00:00, 20.13it/s]\n"
          ]
        },
        {
          "output_type": "stream",
          "name": "stdout",
          "text": [
            "\n",
            "Test set: Average loss: 0.0039, Accuracy: 8353/10000 (83.53%)\n",
            "\n",
            "EPOCH: 58\n"
          ]
        },
        {
          "output_type": "stream",
          "name": "stderr",
          "text": [
            "Loss=0.6293784976005554 Batch_id=390 LR=0.00982 Accuracy=78.82: 100%|██████████| 391/391 [00:18<00:00, 20.87it/s]\n"
          ]
        },
        {
          "output_type": "stream",
          "name": "stdout",
          "text": [
            "\n",
            "Test set: Average loss: 0.0036, Accuracy: 8431/10000 (84.31%)\n",
            "\n",
            "EPOCH: 59\n"
          ]
        },
        {
          "output_type": "stream",
          "name": "stderr",
          "text": [
            "Loss=0.6296273469924927 Batch_id=390 LR=0.00949 Accuracy=78.97: 100%|██████████| 391/391 [00:18<00:00, 21.17it/s]\n"
          ]
        },
        {
          "output_type": "stream",
          "name": "stdout",
          "text": [
            "\n",
            "Test set: Average loss: 0.0038, Accuracy: 8386/10000 (83.86%)\n",
            "\n",
            "EPOCH: 60\n"
          ]
        },
        {
          "output_type": "stream",
          "name": "stderr",
          "text": [
            "Loss=0.4825487732887268 Batch_id=390 LR=0.00917 Accuracy=79.20: 100%|██████████| 391/391 [00:18<00:00, 20.71it/s]\n"
          ]
        },
        {
          "output_type": "stream",
          "name": "stdout",
          "text": [
            "\n",
            "Test set: Average loss: 0.0037, Accuracy: 8462/10000 (84.62%)\n",
            "\n",
            "EPOCH: 61\n"
          ]
        },
        {
          "output_type": "stream",
          "name": "stderr",
          "text": [
            "Loss=0.6239640712738037 Batch_id=390 LR=0.00884 Accuracy=79.53: 100%|██████████| 391/391 [00:18<00:00, 20.84it/s]\n"
          ]
        },
        {
          "output_type": "stream",
          "name": "stdout",
          "text": [
            "\n",
            "Test set: Average loss: 0.0037, Accuracy: 8422/10000 (84.22%)\n",
            "\n",
            "EPOCH: 62\n"
          ]
        },
        {
          "output_type": "stream",
          "name": "stderr",
          "text": [
            "Loss=0.6064523458480835 Batch_id=390 LR=0.00851 Accuracy=79.70: 100%|██████████| 391/391 [00:18<00:00, 20.68it/s]\n"
          ]
        },
        {
          "output_type": "stream",
          "name": "stdout",
          "text": [
            "\n",
            "Test set: Average loss: 0.0037, Accuracy: 8434/10000 (84.34%)\n",
            "\n",
            "EPOCH: 63\n"
          ]
        },
        {
          "output_type": "stream",
          "name": "stderr",
          "text": [
            "Loss=0.6282457113265991 Batch_id=390 LR=0.00817 Accuracy=79.59: 100%|██████████| 391/391 [00:19<00:00, 20.21it/s]\n"
          ]
        },
        {
          "output_type": "stream",
          "name": "stdout",
          "text": [
            "\n",
            "Test set: Average loss: 0.0036, Accuracy: 8417/10000 (84.17%)\n",
            "\n",
            "EPOCH: 64\n"
          ]
        },
        {
          "output_type": "stream",
          "name": "stderr",
          "text": [
            "Loss=0.5318664312362671 Batch_id=390 LR=0.00784 Accuracy=80.17: 100%|██████████| 391/391 [00:18<00:00, 20.62it/s]\n"
          ]
        },
        {
          "output_type": "stream",
          "name": "stdout",
          "text": [
            "\n",
            "Test set: Average loss: 0.0036, Accuracy: 8525/10000 (85.25%)\n",
            "\n",
            "EPOCH: 65\n"
          ]
        },
        {
          "output_type": "stream",
          "name": "stderr",
          "text": [
            "Loss=0.40967902541160583 Batch_id=390 LR=0.00750 Accuracy=80.56: 100%|██████████| 391/391 [00:19<00:00, 20.06it/s]\n"
          ]
        },
        {
          "output_type": "stream",
          "name": "stdout",
          "text": [
            "\n",
            "Test set: Average loss: 0.0034, Accuracy: 8549/10000 (85.49%)\n",
            "\n",
            "EPOCH: 66\n"
          ]
        },
        {
          "output_type": "stream",
          "name": "stderr",
          "text": [
            "Loss=0.7277706265449524 Batch_id=390 LR=0.00716 Accuracy=80.32: 100%|██████████| 391/391 [00:19<00:00, 20.08it/s]\n"
          ]
        },
        {
          "output_type": "stream",
          "name": "stdout",
          "text": [
            "\n",
            "Test set: Average loss: 0.0036, Accuracy: 8441/10000 (84.41%)\n",
            "\n",
            "EPOCH: 67\n"
          ]
        },
        {
          "output_type": "stream",
          "name": "stderr",
          "text": [
            "Loss=0.7031477689743042 Batch_id=390 LR=0.00683 Accuracy=80.73: 100%|██████████| 391/391 [00:19<00:00, 19.99it/s]\n"
          ]
        },
        {
          "output_type": "stream",
          "name": "stdout",
          "text": [
            "\n",
            "Test set: Average loss: 0.0034, Accuracy: 8575/10000 (85.75%)\n",
            "\n",
            "EPOCH: 68\n"
          ]
        },
        {
          "output_type": "stream",
          "name": "stderr",
          "text": [
            "Loss=0.6567966341972351 Batch_id=390 LR=0.00649 Accuracy=80.67: 100%|██████████| 391/391 [00:19<00:00, 20.45it/s]\n"
          ]
        },
        {
          "output_type": "stream",
          "name": "stdout",
          "text": [
            "\n",
            "Test set: Average loss: 0.0033, Accuracy: 8608/10000 (86.08%)\n",
            "\n",
            "EPOCH: 69\n"
          ]
        },
        {
          "output_type": "stream",
          "name": "stderr",
          "text": [
            "Loss=0.7784817218780518 Batch_id=390 LR=0.00616 Accuracy=81.07: 100%|██████████| 391/391 [00:19<00:00, 20.09it/s]\n"
          ]
        },
        {
          "output_type": "stream",
          "name": "stdout",
          "text": [
            "\n",
            "Test set: Average loss: 0.0036, Accuracy: 8517/10000 (85.17%)\n",
            "\n",
            "EPOCH: 70\n"
          ]
        },
        {
          "output_type": "stream",
          "name": "stderr",
          "text": [
            "Loss=0.42977434396743774 Batch_id=390 LR=0.00583 Accuracy=81.08: 100%|██████████| 391/391 [00:19<00:00, 20.21it/s]\n"
          ]
        },
        {
          "output_type": "stream",
          "name": "stdout",
          "text": [
            "\n",
            "Test set: Average loss: 0.0033, Accuracy: 8610/10000 (86.10%)\n",
            "\n",
            "EPOCH: 71\n"
          ]
        },
        {
          "output_type": "stream",
          "name": "stderr",
          "text": [
            "Loss=0.5161954164505005 Batch_id=390 LR=0.00550 Accuracy=81.68: 100%|██████████| 391/391 [00:19<00:00, 20.56it/s]\n"
          ]
        },
        {
          "output_type": "stream",
          "name": "stdout",
          "text": [
            "\n",
            "Test set: Average loss: 0.0032, Accuracy: 8643/10000 (86.43%)\n",
            "\n",
            "EPOCH: 72\n"
          ]
        },
        {
          "output_type": "stream",
          "name": "stderr",
          "text": [
            "Loss=0.5050129294395447 Batch_id=390 LR=0.00518 Accuracy=81.91: 100%|██████████| 391/391 [00:18<00:00, 20.60it/s]\n"
          ]
        },
        {
          "output_type": "stream",
          "name": "stdout",
          "text": [
            "\n",
            "Test set: Average loss: 0.0033, Accuracy: 8624/10000 (86.24%)\n",
            "\n",
            "EPOCH: 73\n"
          ]
        },
        {
          "output_type": "stream",
          "name": "stderr",
          "text": [
            "Loss=0.5460246801376343 Batch_id=390 LR=0.00486 Accuracy=81.63: 100%|██████████| 391/391 [00:19<00:00, 19.94it/s]\n"
          ]
        },
        {
          "output_type": "stream",
          "name": "stdout",
          "text": [
            "\n",
            "Test set: Average loss: 0.0031, Accuracy: 8655/10000 (86.55%)\n",
            "\n",
            "EPOCH: 74\n"
          ]
        },
        {
          "output_type": "stream",
          "name": "stderr",
          "text": [
            "Loss=0.8026372194290161 Batch_id=390 LR=0.00455 Accuracy=82.09: 100%|██████████| 391/391 [00:19<00:00, 20.31it/s]\n"
          ]
        },
        {
          "output_type": "stream",
          "name": "stdout",
          "text": [
            "\n",
            "Test set: Average loss: 0.0032, Accuracy: 8666/10000 (86.66%)\n",
            "\n",
            "EPOCH: 75\n"
          ]
        },
        {
          "output_type": "stream",
          "name": "stderr",
          "text": [
            "Loss=0.41641077399253845 Batch_id=390 LR=0.00425 Accuracy=82.27: 100%|██████████| 391/391 [00:19<00:00, 19.77it/s]\n"
          ]
        },
        {
          "output_type": "stream",
          "name": "stdout",
          "text": [
            "\n",
            "Test set: Average loss: 0.0032, Accuracy: 8633/10000 (86.33%)\n",
            "\n",
            "EPOCH: 76\n"
          ]
        },
        {
          "output_type": "stream",
          "name": "stderr",
          "text": [
            "Loss=0.5792156457901001 Batch_id=390 LR=0.00395 Accuracy=82.66: 100%|██████████| 391/391 [00:19<00:00, 20.26it/s]\n"
          ]
        },
        {
          "output_type": "stream",
          "name": "stdout",
          "text": [
            "\n",
            "Test set: Average loss: 0.0031, Accuracy: 8673/10000 (86.73%)\n",
            "\n",
            "EPOCH: 77\n"
          ]
        },
        {
          "output_type": "stream",
          "name": "stderr",
          "text": [
            "Loss=0.33898428082466125 Batch_id=390 LR=0.00365 Accuracy=82.76: 100%|██████████| 391/391 [00:19<00:00, 20.10it/s]\n"
          ]
        },
        {
          "output_type": "stream",
          "name": "stdout",
          "text": [
            "\n",
            "Test set: Average loss: 0.0031, Accuracy: 8681/10000 (86.81%)\n",
            "\n",
            "EPOCH: 78\n"
          ]
        },
        {
          "output_type": "stream",
          "name": "stderr",
          "text": [
            "Loss=0.35825517773628235 Batch_id=390 LR=0.00337 Accuracy=83.14: 100%|██████████| 391/391 [00:19<00:00, 19.91it/s]\n"
          ]
        },
        {
          "output_type": "stream",
          "name": "stdout",
          "text": [
            "\n",
            "Test set: Average loss: 0.0031, Accuracy: 8680/10000 (86.80%)\n",
            "\n",
            "EPOCH: 79\n"
          ]
        },
        {
          "output_type": "stream",
          "name": "stderr",
          "text": [
            "Loss=0.2175864428281784 Batch_id=390 LR=0.00309 Accuracy=83.33: 100%|██████████| 391/391 [00:19<00:00, 20.09it/s]\n"
          ]
        },
        {
          "output_type": "stream",
          "name": "stdout",
          "text": [
            "\n",
            "Test set: Average loss: 0.0030, Accuracy: 8694/10000 (86.94%)\n",
            "\n",
            "EPOCH: 80\n"
          ]
        },
        {
          "output_type": "stream",
          "name": "stderr",
          "text": [
            "Loss=0.3976614475250244 Batch_id=390 LR=0.00282 Accuracy=83.43: 100%|██████████| 391/391 [00:19<00:00, 20.05it/s]\n"
          ]
        },
        {
          "output_type": "stream",
          "name": "stdout",
          "text": [
            "\n",
            "Test set: Average loss: 0.0030, Accuracy: 8746/10000 (87.46%)\n",
            "\n",
            "EPOCH: 81\n"
          ]
        },
        {
          "output_type": "stream",
          "name": "stderr",
          "text": [
            "Loss=0.41995078325271606 Batch_id=390 LR=0.00256 Accuracy=83.73: 100%|██████████| 391/391 [00:19<00:00, 20.29it/s]\n"
          ]
        },
        {
          "output_type": "stream",
          "name": "stdout",
          "text": [
            "\n",
            "Test set: Average loss: 0.0029, Accuracy: 8737/10000 (87.37%)\n",
            "\n",
            "EPOCH: 82\n"
          ]
        },
        {
          "output_type": "stream",
          "name": "stderr",
          "text": [
            "Loss=0.3538838028907776 Batch_id=390 LR=0.00232 Accuracy=84.13: 100%|██████████| 391/391 [00:19<00:00, 20.22it/s]\n"
          ]
        },
        {
          "output_type": "stream",
          "name": "stdout",
          "text": [
            "\n",
            "Test set: Average loss: 0.0029, Accuracy: 8739/10000 (87.39%)\n",
            "\n",
            "EPOCH: 83\n"
          ]
        },
        {
          "output_type": "stream",
          "name": "stderr",
          "text": [
            "Loss=0.5046326518058777 Batch_id=390 LR=0.00208 Accuracy=84.27: 100%|██████████| 391/391 [00:20<00:00, 19.43it/s]\n"
          ]
        },
        {
          "output_type": "stream",
          "name": "stdout",
          "text": [
            "\n",
            "Test set: Average loss: 0.0029, Accuracy: 8742/10000 (87.42%)\n",
            "\n",
            "EPOCH: 84\n"
          ]
        },
        {
          "output_type": "stream",
          "name": "stderr",
          "text": [
            "Loss=0.5104542970657349 Batch_id=390 LR=0.00185 Accuracy=84.16: 100%|██████████| 391/391 [00:19<00:00, 20.25it/s]\n"
          ]
        },
        {
          "output_type": "stream",
          "name": "stdout",
          "text": [
            "\n",
            "Test set: Average loss: 0.0030, Accuracy: 8741/10000 (87.41%)\n",
            "\n",
            "EPOCH: 85\n"
          ]
        },
        {
          "output_type": "stream",
          "name": "stderr",
          "text": [
            "Loss=0.6564285755157471 Batch_id=390 LR=0.00164 Accuracy=84.58: 100%|██████████| 391/391 [00:19<00:00, 20.20it/s]\n"
          ]
        },
        {
          "output_type": "stream",
          "name": "stdout",
          "text": [
            "\n",
            "Test set: Average loss: 0.0029, Accuracy: 8727/10000 (87.27%)\n",
            "\n",
            "EPOCH: 86\n"
          ]
        },
        {
          "output_type": "stream",
          "name": "stderr",
          "text": [
            "Loss=0.5006800293922424 Batch_id=390 LR=0.00143 Accuracy=84.84: 100%|██████████| 391/391 [00:19<00:00, 19.69it/s]\n"
          ]
        },
        {
          "output_type": "stream",
          "name": "stdout",
          "text": [
            "\n",
            "Test set: Average loss: 0.0028, Accuracy: 8773/10000 (87.73%)\n",
            "\n",
            "EPOCH: 87\n"
          ]
        },
        {
          "output_type": "stream",
          "name": "stderr",
          "text": [
            "Loss=0.38668665289878845 Batch_id=390 LR=0.00124 Accuracy=85.11: 100%|██████████| 391/391 [00:19<00:00, 19.71it/s]\n"
          ]
        },
        {
          "output_type": "stream",
          "name": "stdout",
          "text": [
            "\n",
            "Test set: Average loss: 0.0028, Accuracy: 8767/10000 (87.67%)\n",
            "\n",
            "EPOCH: 88\n"
          ]
        },
        {
          "output_type": "stream",
          "name": "stderr",
          "text": [
            "Loss=0.5231178998947144 Batch_id=390 LR=0.00106 Accuracy=85.02: 100%|██████████| 391/391 [00:19<00:00, 19.93it/s]\n"
          ]
        },
        {
          "output_type": "stream",
          "name": "stdout",
          "text": [
            "\n",
            "Test set: Average loss: 0.0028, Accuracy: 8741/10000 (87.41%)\n",
            "\n",
            "EPOCH: 89\n"
          ]
        },
        {
          "output_type": "stream",
          "name": "stderr",
          "text": [
            "Loss=0.48068752884864807 Batch_id=390 LR=0.00090 Accuracy=84.98: 100%|██████████| 391/391 [00:19<00:00, 19.87it/s]\n"
          ]
        },
        {
          "output_type": "stream",
          "name": "stdout",
          "text": [
            "\n",
            "Test set: Average loss: 0.0028, Accuracy: 8760/10000 (87.60%)\n",
            "\n",
            "EPOCH: 90\n"
          ]
        },
        {
          "output_type": "stream",
          "name": "stderr",
          "text": [
            "Loss=0.31475701928138733 Batch_id=390 LR=0.00074 Accuracy=85.46: 100%|██████████| 391/391 [00:19<00:00, 20.33it/s]\n"
          ]
        },
        {
          "output_type": "stream",
          "name": "stdout",
          "text": [
            "\n",
            "Test set: Average loss: 0.0028, Accuracy: 8790/10000 (87.90%)\n",
            "\n",
            "EPOCH: 91\n"
          ]
        },
        {
          "output_type": "stream",
          "name": "stderr",
          "text": [
            "Loss=0.49219632148742676 Batch_id=390 LR=0.00060 Accuracy=85.52: 100%|██████████| 391/391 [00:19<00:00, 19.82it/s]\n"
          ]
        },
        {
          "output_type": "stream",
          "name": "stdout",
          "text": [
            "\n",
            "Test set: Average loss: 0.0028, Accuracy: 8800/10000 (88.00%)\n",
            "\n",
            "EPOCH: 92\n"
          ]
        },
        {
          "output_type": "stream",
          "name": "stderr",
          "text": [
            "Loss=0.30438873171806335 Batch_id=390 LR=0.00048 Accuracy=85.93: 100%|██████████| 391/391 [00:19<00:00, 19.74it/s]\n"
          ]
        },
        {
          "output_type": "stream",
          "name": "stdout",
          "text": [
            "\n",
            "Test set: Average loss: 0.0028, Accuracy: 8797/10000 (87.97%)\n",
            "\n",
            "EPOCH: 93\n"
          ]
        },
        {
          "output_type": "stream",
          "name": "stderr",
          "text": [
            "Loss=0.4577693045139313 Batch_id=390 LR=0.00037 Accuracy=85.96: 100%|██████████| 391/391 [00:19<00:00, 19.62it/s]\n"
          ]
        },
        {
          "output_type": "stream",
          "name": "stdout",
          "text": [
            "\n",
            "Test set: Average loss: 0.0028, Accuracy: 8799/10000 (87.99%)\n",
            "\n",
            "EPOCH: 94\n"
          ]
        },
        {
          "output_type": "stream",
          "name": "stderr",
          "text": [
            "Loss=0.2789251208305359 Batch_id=390 LR=0.00027 Accuracy=86.10: 100%|██████████| 391/391 [00:19<00:00, 19.78it/s]\n"
          ]
        },
        {
          "output_type": "stream",
          "name": "stdout",
          "text": [
            "\n",
            "Test set: Average loss: 0.0028, Accuracy: 8781/10000 (87.81%)\n",
            "\n",
            "EPOCH: 95\n"
          ]
        },
        {
          "output_type": "stream",
          "name": "stderr",
          "text": [
            "Loss=0.4740542471408844 Batch_id=390 LR=0.00019 Accuracy=85.88: 100%|██████████| 391/391 [00:19<00:00, 19.98it/s]\n"
          ]
        },
        {
          "output_type": "stream",
          "name": "stdout",
          "text": [
            "\n",
            "Test set: Average loss: 0.0028, Accuracy: 8795/10000 (87.95%)\n",
            "\n",
            "EPOCH: 96\n"
          ]
        },
        {
          "output_type": "stream",
          "name": "stderr",
          "text": [
            "Loss=0.5158120393753052 Batch_id=390 LR=0.00012 Accuracy=85.95: 100%|██████████| 391/391 [00:20<00:00, 19.43it/s]\n"
          ]
        },
        {
          "output_type": "stream",
          "name": "stdout",
          "text": [
            "\n",
            "Test set: Average loss: 0.0028, Accuracy: 8787/10000 (87.87%)\n",
            "\n",
            "EPOCH: 97\n"
          ]
        },
        {
          "output_type": "stream",
          "name": "stderr",
          "text": [
            "Loss=0.6675776839256287 Batch_id=390 LR=0.00007 Accuracy=86.13: 100%|██████████| 391/391 [00:19<00:00, 19.79it/s]\n"
          ]
        },
        {
          "output_type": "stream",
          "name": "stdout",
          "text": [
            "\n",
            "Test set: Average loss: 0.0029, Accuracy: 8802/10000 (88.02%)\n",
            "\n",
            "EPOCH: 98\n"
          ]
        },
        {
          "output_type": "stream",
          "name": "stderr",
          "text": [
            "Loss=0.43800240755081177 Batch_id=390 LR=0.00003 Accuracy=86.19: 100%|██████████| 391/391 [00:19<00:00, 19.93it/s]\n"
          ]
        },
        {
          "output_type": "stream",
          "name": "stdout",
          "text": [
            "\n",
            "Test set: Average loss: 0.0028, Accuracy: 8793/10000 (87.93%)\n",
            "\n",
            "EPOCH: 99\n"
          ]
        },
        {
          "output_type": "stream",
          "name": "stderr",
          "text": [
            "Loss=0.6631356477737427 Batch_id=390 LR=0.00001 Accuracy=86.13: 100%|██████████| 391/391 [00:19<00:00, 19.80it/s]\n"
          ]
        },
        {
          "output_type": "stream",
          "name": "stdout",
          "text": [
            "\n",
            "Test set: Average loss: 0.0027, Accuracy: 8819/10000 (88.19%)\n",
            "\n",
            "EPOCH: 100\n"
          ]
        },
        {
          "output_type": "stream",
          "name": "stderr",
          "text": [
            "Loss=0.3944089114665985 Batch_id=390 LR=0.00000 Accuracy=86.08: 100%|██████████| 391/391 [00:19<00:00, 19.89it/s]\n"
          ]
        },
        {
          "output_type": "stream",
          "name": "stdout",
          "text": [
            "\n",
            "Test set: Average loss: 0.0027, Accuracy: 8803/10000 (88.03%)\n",
            "\n"
          ]
        }
      ]
    },
    {
      "cell_type": "markdown",
      "metadata": {
        "id": "95d1e2a5"
      },
      "source": [
        "## Plot Loss & Accuracy Graphs"
      ],
      "id": "95d1e2a5"
    },
    {
      "cell_type": "code",
      "metadata": {
        "colab": {
          "base_uri": "https://localhost:8080/",
          "height": 624
        },
        "id": "37b27b7d",
        "outputId": "ac1f7a7b-84e7-4b57-fe22-6f9db99b5b9d"
      },
      "source": [
        "fig, axs = plt.subplots(2,2,figsize=(15,10))\n",
        "axs[0, 0].plot(train_losses)\n",
        "axs[0, 0].set_title(\"Training Loss\")\n",
        "axs[1, 0].plot(train_acc[4000:])\n",
        "axs[1, 0].set_title(\"Training Accuracy\")\n",
        "axs[0, 1].plot(test_losses)\n",
        "axs[0, 1].set_title(\"Test Loss\")\n",
        "axs[1, 1].plot(test_acc)\n",
        "axs[1, 1].set_title(\"Test Accuracy\")"
      ],
      "id": "37b27b7d",
      "execution_count": 8,
      "outputs": [
        {
          "output_type": "execute_result",
          "data": {
            "text/plain": [
              "Text(0.5, 1.0, 'Test Accuracy')"
            ]
          },
          "metadata": {},
          "execution_count": 8
        },
        {
          "output_type": "display_data",
          "data": {
            "image/png": "[encoded data removed]",
            "text/plain": [
              "<Figure size 1080x720 with 4 Axes>"
            ]
          },
          "metadata": {
            "needs_background": "light"
          }
        }
      ]
    },
    {
      "cell_type": "markdown",
      "metadata": {
        "id": "MEHOC8lCjP0Y"
      },
      "source": [
        "## Accuracy per class"
      ],
      "id": "MEHOC8lCjP0Y"
    },
    {
      "cell_type": "code",
      "metadata": {
        "colab": {
          "base_uri": "https://localhost:8080/"
        },
        "id": "Hp0d-2yjjQHv",
        "outputId": "ca76290a-3a37-41c3-bf7e-b795fc5b6beb"
      },
      "source": [
        "class_correct = list(0. for i in range(10))\n",
        "class_total = list(0. for i in range(10))\n",
        "with torch.no_grad():\n",
        "    for data in testloader:\n",
        "        images, labels = data\n",
        "        images, labels = images.to(device), labels.to(device)\n",
        "        outputs = model(images)\n",
        "        _, predicted = torch.max(outputs, 1)\n",
        "        c = (predicted == labels).squeeze()\n",
        "        for i in range(4):\n",
        "            label = labels[i]\n",
        "            class_correct[label] += c[i].item()\n",
        "            class_total[label] += 1\n",
        "\n",
        "\n",
        "for i in range(10):\n",
        "    print('Accuracy of %5s : %2d %%' % (\n",
        "        classes[i], 100 * class_correct[i] / class_total[i]))"
      ],
      "id": "Hp0d-2yjjQHv",
      "execution_count": 9,
      "outputs": [
        {
          "output_type": "stream",
          "name": "stderr",
          "text": [
            "/usr/local/lib/python3.7/dist-packages/torch/utils/data/dataloader.py:481: UserWarning: This DataLoader will create 4 worker processes in total. Our suggested max number of worker in current system is 2, which is smaller than what this DataLoader is going to create. Please be aware that excessive worker creation might get DataLoader running slow or even freeze, lower the worker number to avoid potential slowness/freeze if necessary.\n",
            "  cpuset_checked))\n"
          ]
        },
        {
          "output_type": "stream",
          "name": "stdout",
          "text": [
            "Accuracy of plane : 76 %\n",
            "Accuracy of   car : 92 %\n",
            "Accuracy of  bird : 74 %\n",
            "Accuracy of   cat : 60 %\n",
            "Accuracy of  deer : 90 %\n",
            "Accuracy of   dog : 85 %\n",
            "Accuracy of  frog : 96 %\n",
            "Accuracy of horse : 92 %\n",
            "Accuracy of  ship : 93 %\n",
            "Accuracy of truck : 100 %\n"
          ]
        }
      ]
    },
    {
      "cell_type": "code",
      "metadata": {
        "id": "CB2u4Kz9j8Fy"
      },
      "source": [
        ""
      ],
      "id": "CB2u4Kz9j8Fy",
      "execution_count": 9,
      "outputs": []
    }
  ]
}