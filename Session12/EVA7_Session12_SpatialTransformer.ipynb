{
  "nbformat": 4,
  "nbformat_minor": 0,
  "metadata": {
    "colab": {
      "name": "EVA7_Session12_SpatialTransformer.ipynb",
      "provenance": [],
      "collapsed_sections": [],
      "authorship_tag": "ABX9TyMVDJ70FfTCSdkgB4wMAbaU",
      "include_colab_link": true
    },
    "kernelspec": {
      "name": "python3",
      "display_name": "Python 3"
    },
    "language_info": {
      "name": "python"
    },
    "accelerator": "GPU",
    "widgets": {
      "application/vnd.jupyter.widget-state+json": {
        "267ab1bec9c24923828af0615b555de2": {
          "model_module": "@jupyter-widgets/controls",
          "model_name": "HBoxModel",
          "model_module_version": "1.5.0",
          "state": {
            "_view_name": "HBoxView",
            "_dom_classes": [],
            "_model_name": "HBoxModel",
            "_view_module": "@jupyter-widgets/controls",
            "_model_module_version": "1.5.0",
            "_view_count": null,
            "_view_module_version": "1.5.0",
            "box_style": "",
            "layout": "IPY_MODEL_3ce36b54303649b0bd965caf05a265ee",
            "_model_module": "@jupyter-widgets/controls",
            "children": [
              "IPY_MODEL_6408f8488c7a499888c276693bc49424",
              "IPY_MODEL_6f44ac2fc5604246869dd76f74c9209e",
              "IPY_MODEL_2b876bf509f84054a07c5a2dbb2a2e27"
            ]
          }
        },
        "3ce36b54303649b0bd965caf05a265ee": {
          "model_module": "@jupyter-widgets/base",
          "model_name": "LayoutModel",
          "model_module_version": "1.2.0",
          "state": {
            "_view_name": "LayoutView",
            "grid_template_rows": null,
            "right": null,
            "justify_content": null,
            "_view_module": "@jupyter-widgets/base",
            "overflow": null,
            "_model_module_version": "1.2.0",
            "_view_count": null,
            "flex_flow": null,
            "width": null,
            "min_width": null,
            "border": null,
            "align_items": null,
            "bottom": null,
            "_model_module": "@jupyter-widgets/base",
            "top": null,
            "grid_column": null,
            "overflow_y": null,
            "overflow_x": null,
            "grid_auto_flow": null,
            "grid_area": null,
            "grid_template_columns": null,
            "flex": null,
            "_model_name": "LayoutModel",
            "justify_items": null,
            "grid_row": null,
            "max_height": null,
            "align_content": null,
            "visibility": null,
            "align_self": null,
            "height": null,
            "min_height": null,
            "padding": null,
            "grid_auto_rows": null,
            "grid_gap": null,
            "max_width": null,
            "order": null,
            "_view_module_version": "1.2.0",
            "grid_template_areas": null,
            "object_position": null,
            "object_fit": null,
            "grid_auto_columns": null,
            "margin": null,
            "display": null,
            "left": null
          }
        },
        "6408f8488c7a499888c276693bc49424": {
          "model_module": "@jupyter-widgets/controls",
          "model_name": "HTMLModel",
          "model_module_version": "1.5.0",
          "state": {
            "_view_name": "HTMLView",
            "style": "IPY_MODEL_dab21c4116f44cbdb39c3dc95b64be94",
            "_dom_classes": [],
            "description": "",
            "_model_name": "HTMLModel",
            "placeholder": "​",
            "_view_module": "@jupyter-widgets/controls",
            "_model_module_version": "1.5.0",
            "value": "",
            "_view_count": null,
            "_view_module_version": "1.5.0",
            "description_tooltip": null,
            "_model_module": "@jupyter-widgets/controls",
            "layout": "IPY_MODEL_ac009f15192e4a6ca855f0f1955fa509"
          }
        },
        "6f44ac2fc5604246869dd76f74c9209e": {
          "model_module": "@jupyter-widgets/controls",
          "model_name": "FloatProgressModel",
          "model_module_version": "1.5.0",
          "state": {
            "_view_name": "ProgressView",
            "style": "IPY_MODEL_5f68670c097e42ad81f70a88b305eb97",
            "_dom_classes": [],
            "description": "",
            "_model_name": "FloatProgressModel",
            "bar_style": "success",
            "max": 170498071,
            "_view_module": "@jupyter-widgets/controls",
            "_model_module_version": "1.5.0",
            "value": 170498071,
            "_view_count": null,
            "_view_module_version": "1.5.0",
            "orientation": "horizontal",
            "min": 0,
            "description_tooltip": null,
            "_model_module": "@jupyter-widgets/controls",
            "layout": "IPY_MODEL_99b4b9f59d44447caddaca3d98946230"
          }
        },
        "2b876bf509f84054a07c5a2dbb2a2e27": {
          "model_module": "@jupyter-widgets/controls",
          "model_name": "HTMLModel",
          "model_module_version": "1.5.0",
          "state": {
            "_view_name": "HTMLView",
            "style": "IPY_MODEL_f76c1dbe8e3d4d7998bfaa0490833df7",
            "_dom_classes": [],
            "description": "",
            "_model_name": "HTMLModel",
            "placeholder": "​",
            "_view_module": "@jupyter-widgets/controls",
            "_model_module_version": "1.5.0",
            "value": " 170499072/? [00:03&lt;00:00, 52685655.95it/s]",
            "_view_count": null,
            "_view_module_version": "1.5.0",
            "description_tooltip": null,
            "_model_module": "@jupyter-widgets/controls",
            "layout": "IPY_MODEL_31afe1169eef4c29ad8be6995af6f383"
          }
        },
        "dab21c4116f44cbdb39c3dc95b64be94": {
          "model_module": "@jupyter-widgets/controls",
          "model_name": "DescriptionStyleModel",
          "model_module_version": "1.5.0",
          "state": {
            "_view_name": "StyleView",
            "_model_name": "DescriptionStyleModel",
            "description_width": "",
            "_view_module": "@jupyter-widgets/base",
            "_model_module_version": "1.5.0",
            "_view_count": null,
            "_view_module_version": "1.2.0",
            "_model_module": "@jupyter-widgets/controls"
          }
        },
        "ac009f15192e4a6ca855f0f1955fa509": {
          "model_module": "@jupyter-widgets/base",
          "model_name": "LayoutModel",
          "model_module_version": "1.2.0",
          "state": {
            "_view_name": "LayoutView",
            "grid_template_rows": null,
            "right": null,
            "justify_content": null,
            "_view_module": "@jupyter-widgets/base",
            "overflow": null,
            "_model_module_version": "1.2.0",
            "_view_count": null,
            "flex_flow": null,
            "width": null,
            "min_width": null,
            "border": null,
            "align_items": null,
            "bottom": null,
            "_model_module": "@jupyter-widgets/base",
            "top": null,
            "grid_column": null,
            "overflow_y": null,
            "overflow_x": null,
            "grid_auto_flow": null,
            "grid_area": null,
            "grid_template_columns": null,
            "flex": null,
            "_model_name": "LayoutModel",
            "justify_items": null,
            "grid_row": null,
            "max_height": null,
            "align_content": null,
            "visibility": null,
            "align_self": null,
            "height": null,
            "min_height": null,
            "padding": null,
            "grid_auto_rows": null,
            "grid_gap": null,
            "max_width": null,
            "order": null,
            "_view_module_version": "1.2.0",
            "grid_template_areas": null,
            "object_position": null,
            "object_fit": null,
            "grid_auto_columns": null,
            "margin": null,
            "display": null,
            "left": null
          }
        },
        "5f68670c097e42ad81f70a88b305eb97": {
          "model_module": "@jupyter-widgets/controls",
          "model_name": "ProgressStyleModel",
          "model_module_version": "1.5.0",
          "state": {
            "_view_name": "StyleView",
            "_model_name": "ProgressStyleModel",
            "description_width": "",
            "_view_module": "@jupyter-widgets/base",
            "_model_module_version": "1.5.0",
            "_view_count": null,
            "_view_module_version": "1.2.0",
            "bar_color": null,
            "_model_module": "@jupyter-widgets/controls"
          }
        },
        "99b4b9f59d44447caddaca3d98946230": {
          "model_module": "@jupyter-widgets/base",
          "model_name": "LayoutModel",
          "model_module_version": "1.2.0",
          "state": {
            "_view_name": "LayoutView",
            "grid_template_rows": null,
            "right": null,
            "justify_content": null,
            "_view_module": "@jupyter-widgets/base",
            "overflow": null,
            "_model_module_version": "1.2.0",
            "_view_count": null,
            "flex_flow": null,
            "width": null,
            "min_width": null,
            "border": null,
            "align_items": null,
            "bottom": null,
            "_model_module": "@jupyter-widgets/base",
            "top": null,
            "grid_column": null,
            "overflow_y": null,
            "overflow_x": null,
            "grid_auto_flow": null,
            "grid_area": null,
            "grid_template_columns": null,
            "flex": null,
            "_model_name": "LayoutModel",
            "justify_items": null,
            "grid_row": null,
            "max_height": null,
            "align_content": null,
            "visibility": null,
            "align_self": null,
            "height": null,
            "min_height": null,
            "padding": null,
            "grid_auto_rows": null,
            "grid_gap": null,
            "max_width": null,
            "order": null,
            "_view_module_version": "1.2.0",
            "grid_template_areas": null,
            "object_position": null,
            "object_fit": null,
            "grid_auto_columns": null,
            "margin": null,
            "display": null,
            "left": null
          }
        },
        "f76c1dbe8e3d4d7998bfaa0490833df7": {
          "model_module": "@jupyter-widgets/controls",
          "model_name": "DescriptionStyleModel",
          "model_module_version": "1.5.0",
          "state": {
            "_view_name": "StyleView",
            "_model_name": "DescriptionStyleModel",
            "description_width": "",
            "_view_module": "@jupyter-widgets/base",
            "_model_module_version": "1.5.0",
            "_view_count": null,
            "_view_module_version": "1.2.0",
            "_model_module": "@jupyter-widgets/controls"
          }
        },
        "31afe1169eef4c29ad8be6995af6f383": {
          "model_module": "@jupyter-widgets/base",
          "model_name": "LayoutModel",
          "model_module_version": "1.2.0",
          "state": {
            "_view_name": "LayoutView",
            "grid_template_rows": null,
            "right": null,
            "justify_content": null,
            "_view_module": "@jupyter-widgets/base",
            "overflow": null,
            "_model_module_version": "1.2.0",
            "_view_count": null,
            "flex_flow": null,
            "width": null,
            "min_width": null,
            "border": null,
            "align_items": null,
            "bottom": null,
            "_model_module": "@jupyter-widgets/base",
            "top": null,
            "grid_column": null,
            "overflow_y": null,
            "overflow_x": null,
            "grid_auto_flow": null,
            "grid_area": null,
            "grid_template_columns": null,
            "flex": null,
            "_model_name": "LayoutModel",
            "justify_items": null,
            "grid_row": null,
            "max_height": null,
            "align_content": null,
            "visibility": null,
            "align_self": null,
            "height": null,
            "min_height": null,
            "padding": null,
            "grid_auto_rows": null,
            "grid_gap": null,
            "max_width": null,
            "order": null,
            "_view_module_version": "1.2.0",
            "grid_template_areas": null,
            "object_position": null,
            "object_fit": null,
            "grid_auto_columns": null,
            "margin": null,
            "display": null,
            "left": null
          }
        }
      }
    }
  },
  "cells": [
    {
      "cell_type": "markdown",
      "metadata": {
        "id": "view-in-github",
        "colab_type": "text"
      },
      "source": [
        "<a href=\"https://colab.research.google.com/github/a-pujahari/EVA7/blob/main/Session12/EVA7_Session12_SpatialTransformer.ipynb\" target=\"_parent\"><img src=\"https://colab.research.google.com/assets/colab-badge.svg\" alt=\"Open In Colab\"/></a>"
      ]
    },
    {
      "cell_type": "markdown",
      "source": [
        "#EVA7 - Spatial Transformer on CIFAR10 Dataset\n",
        "## Submission by Abhinav Pujahari (abhinavpujahari@gmail.com)\n",
        "\n"
      ],
      "metadata": {
        "id": "kuuBvU5GNzBI"
      }
    },
    {
      "cell_type": "markdown",
      "source": [
        "## Import Dependencies"
      ],
      "metadata": {
        "id": "RzCFEmfTN8Vc"
      }
    },
    {
      "cell_type": "code",
      "source": [
        "from __future__ import print_function\n",
        "import torch\n",
        "import torch.nn as nn\n",
        "import torch.nn.functional as F\n",
        "import torch.optim as optim\n",
        "import torchvision\n",
        "from torchvision import datasets, transforms\n",
        "import matplotlib.pyplot as plt\n",
        "import numpy as np"
      ],
      "metadata": {
        "id": "uxWmD-NRN55N"
      },
      "execution_count": 1,
      "outputs": []
    },
    {
      "cell_type": "code",
      "source": [
        "!pip install torchsummary"
      ],
      "metadata": {
        "colab": {
          "base_uri": "https://localhost:8080/"
        },
        "id": "DG5l7184RNtK",
        "outputId": "33796517-6076-4b34-a170-f7a4086ad63c"
      },
      "execution_count": 2,
      "outputs": [
        {
          "output_type": "stream",
          "name": "stdout",
          "text": [
            "Requirement already satisfied: torchsummary in /usr/local/lib/python3.7/dist-packages (1.5.1)\n"
          ]
        }
      ]
    },
    {
      "cell_type": "markdown",
      "source": [
        "## Calculate Dataset Statistics"
      ],
      "metadata": {
        "id": "njX0ARBjO2Hx"
      }
    },
    {
      "cell_type": "code",
      "source": [
        "def return_dataset_statistics():\n",
        "    \n",
        "    train_transform = transforms.Compose([transforms.ToTensor()])\n",
        "    train_set = datasets.CIFAR10(root='./data', train = True, download = True, transform = train_transform)\n",
        "    \n",
        "    mean = train_set.data.mean(axis=(0,1,2))/255\n",
        "    std = train_set.data.std(axis=(0,1,2))/255\n",
        "\n",
        "    return mean, std\n",
        "\n",
        "mean, std = return_dataset_statistics()\n",
        "print(mean)\n",
        "print(std)"
      ],
      "metadata": {
        "colab": {
          "base_uri": "https://localhost:8080/",
          "height": 118,
          "referenced_widgets": [
            "267ab1bec9c24923828af0615b555de2",
            "3ce36b54303649b0bd965caf05a265ee",
            "6408f8488c7a499888c276693bc49424",
            "6f44ac2fc5604246869dd76f74c9209e",
            "2b876bf509f84054a07c5a2dbb2a2e27",
            "dab21c4116f44cbdb39c3dc95b64be94",
            "ac009f15192e4a6ca855f0f1955fa509",
            "5f68670c097e42ad81f70a88b305eb97",
            "99b4b9f59d44447caddaca3d98946230",
            "f76c1dbe8e3d4d7998bfaa0490833df7",
            "31afe1169eef4c29ad8be6995af6f383"
          ]
        },
        "id": "EsIeSEvWO1KW",
        "outputId": "9eb4b2a2-5ccc-41da-d616-98222681c1ce"
      },
      "execution_count": 3,
      "outputs": [
        {
          "output_type": "stream",
          "name": "stdout",
          "text": [
            "Downloading https://www.cs.toronto.edu/~kriz/cifar-10-python.tar.gz to ./data/cifar-10-python.tar.gz\n"
          ]
        },
        {
          "output_type": "display_data",
          "data": {
            "application/vnd.jupyter.widget-view+json": {
              "model_id": "267ab1bec9c24923828af0615b555de2",
              "version_minor": 0,
              "version_major": 2
            },
            "text/plain": [
              "  0%|          | 0/170498071 [00:00<?, ?it/s]"
            ]
          },
          "metadata": {}
        },
        {
          "output_type": "stream",
          "name": "stdout",
          "text": [
            "Extracting ./data/cifar-10-python.tar.gz to ./data\n",
            "[0.49139968 0.48215841 0.44653091]\n",
            "[0.24703223 0.24348513 0.26158784]\n"
          ]
        }
      ]
    },
    {
      "cell_type": "markdown",
      "source": [
        "## Define Dataloaders"
      ],
      "metadata": {
        "id": "DmHq-nVeOGKU"
      }
    },
    {
      "cell_type": "code",
      "source": [
        "from torch.cuda import set_device\n",
        "device = torch.device(\"cuda\" if torch.cuda.is_available() else \"cpu\")\n",
        "\n",
        "# Training dataset\n",
        "train_loader = torch.utils.data.DataLoader(\n",
        "    datasets.CIFAR10(root='./data', train=True, download=True,\n",
        "                   transform=transforms.Compose([\n",
        "                       transforms.ToTensor(),\n",
        "                       transforms.Normalize(mean = mean, std = std)\n",
        "                   ])), batch_size=64, shuffle=True, num_workers=4)\n",
        "# Test dataset\n",
        "test_loader = torch.utils.data.DataLoader(\n",
        "    datasets.CIFAR10(root='./data', train=False, transform=transforms.Compose([\n",
        "        transforms.ToTensor(),\n",
        "        transforms.Normalize(mean = mean, std = std)\n",
        "    ])), batch_size=64, shuffle=True, num_workers=4)"
      ],
      "metadata": {
        "colab": {
          "base_uri": "https://localhost:8080/"
        },
        "id": "2RENsiEJOAJk",
        "outputId": "8bcd6e08-d42e-4406-c292-38dd25ea47a2"
      },
      "execution_count": 4,
      "outputs": [
        {
          "output_type": "stream",
          "name": "stdout",
          "text": [
            "Files already downloaded and verified\n"
          ]
        },
        {
          "output_type": "stream",
          "name": "stderr",
          "text": [
            "/usr/local/lib/python3.7/dist-packages/torch/utils/data/dataloader.py:481: UserWarning: This DataLoader will create 4 worker processes in total. Our suggested max number of worker in current system is 2, which is smaller than what this DataLoader is going to create. Please be aware that excessive worker creation might get DataLoader running slow or even freeze, lower the worker number to avoid potential slowness/freeze if necessary.\n",
            "  cpuset_checked))\n"
          ]
        }
      ]
    },
    {
      "cell_type": "markdown",
      "source": [
        "## Define Model"
      ],
      "metadata": {
        "id": "R3or7dg6Q0sN"
      }
    },
    {
      "cell_type": "code",
      "source": [
        "class Net(nn.Module):\n",
        "    def __init__(self):\n",
        "        super(Net, self).__init__()\n",
        "        self.conv1 = nn.Conv2d(3, 16, kernel_size=5)\n",
        "        self.conv2 = nn.Conv2d(16, 32, kernel_size=5)\n",
        "        self.conv2_drop = nn.Dropout2d()\n",
        "        self.fc1 = nn.Linear(32*5*5, 1024)\n",
        "        self.fc2 = nn.Linear(1024, 10)\n",
        "\n",
        "        # Spatial transformer localization-network\n",
        "        self.localization = nn.Sequential(\n",
        "            nn.Conv2d(3, 64, kernel_size=7),\n",
        "            nn.MaxPool2d(2, stride=2),\n",
        "            nn.ReLU(True),\n",
        "            nn.Conv2d(64, 128, kernel_size=5),\n",
        "            nn.MaxPool2d(2, stride=2),\n",
        "            nn.ReLU(True)\n",
        "        )\n",
        "\n",
        "        # Regressor for the 3 * 2 affine matrix\n",
        "        self.fc_loc = nn.Sequential(\n",
        "            nn.Linear(128 * 4 * 4, 256),\n",
        "            nn.ReLU(True),\n",
        "            nn.Linear(256, 3 * 2)\n",
        "        )\n",
        "\n",
        "        # Initialize the weights/bias with identity transformation\n",
        "        self.fc_loc[2].weight.data.zero_()\n",
        "        self.fc_loc[2].bias.data.copy_(torch.tensor([1, 0, 0, 0, 1, 0], dtype=torch.float))\n",
        "\n",
        "    # Spatial transformer network forward function\n",
        "    def stn(self, x):\n",
        "        xs = self.localization(x)\n",
        "        xs = xs.view(-1, xs.size(1) * xs.size(2) * xs.size(3))\n",
        "        theta = self.fc_loc(xs)\n",
        "        theta = theta.view(-1, 2, 3)\n",
        "\n",
        "        grid = F.affine_grid(theta, x.size())\n",
        "        x = F.grid_sample(x, grid)\n",
        "\n",
        "        return x\n",
        "\n",
        "    def forward(self, x):\n",
        "        # transform the input\n",
        "        x = self.stn(x)\n",
        "\n",
        "        # Perform the usual forward pass\n",
        "        x = F.relu(F.max_pool2d(self.conv1(x), 2))\n",
        "        x = F.relu(F.max_pool2d(self.conv2_drop(self.conv2(x)), 2))\n",
        "        x = x.view(-1, 32*5*5)\n",
        "        x = F.relu(self.fc1(x))\n",
        "        x = F.dropout(x, training=self.training)\n",
        "        x = self.fc2(x)\n",
        "        return F.log_softmax(x, dim=1)\n",
        "\n",
        "\n"
      ],
      "metadata": {
        "id": "3kEfgVMkQ2H4"
      },
      "execution_count": 5,
      "outputs": []
    },
    {
      "cell_type": "markdown",
      "source": [
        "## Model Summary"
      ],
      "metadata": {
        "id": "r8n0GOLAQ_yZ"
      }
    },
    {
      "cell_type": "code",
      "source": [
        "from torchsummary import summary\n",
        "\n",
        "print(device)\n",
        "model = Net().to(device)\n",
        "summary(model, input_size=(3, 32, 32))"
      ],
      "metadata": {
        "colab": {
          "base_uri": "https://localhost:8080/"
        },
        "id": "CwTGKdfYRA1-",
        "outputId": "00df7daf-b370-4e54-e500-f2c51141f307"
      },
      "execution_count": 6,
      "outputs": [
        {
          "output_type": "stream",
          "name": "stdout",
          "text": [
            "cuda\n",
            "----------------------------------------------------------------\n",
            "        Layer (type)               Output Shape         Param #\n",
            "================================================================\n",
            "            Conv2d-1           [-1, 64, 26, 26]           9,472\n",
            "         MaxPool2d-2           [-1, 64, 13, 13]               0\n",
            "              ReLU-3           [-1, 64, 13, 13]               0\n",
            "            Conv2d-4            [-1, 128, 9, 9]         204,928\n",
            "         MaxPool2d-5            [-1, 128, 4, 4]               0\n",
            "              ReLU-6            [-1, 128, 4, 4]               0\n",
            "            Linear-7                  [-1, 256]         524,544\n",
            "              ReLU-8                  [-1, 256]               0\n",
            "            Linear-9                    [-1, 6]           1,542\n",
            "           Conv2d-10           [-1, 16, 28, 28]           1,216\n",
            "           Conv2d-11           [-1, 32, 10, 10]          12,832\n",
            "        Dropout2d-12           [-1, 32, 10, 10]               0\n",
            "           Linear-13                 [-1, 1024]         820,224\n",
            "           Linear-14                   [-1, 10]          10,250\n",
            "================================================================\n",
            "Total params: 1,585,008\n",
            "Trainable params: 1,585,008\n",
            "Non-trainable params: 0\n",
            "----------------------------------------------------------------\n",
            "Input size (MB): 0.01\n",
            "Forward/backward pass size (MB): 0.76\n",
            "Params size (MB): 6.05\n",
            "Estimated Total Size (MB): 6.82\n",
            "----------------------------------------------------------------\n"
          ]
        },
        {
          "output_type": "stream",
          "name": "stderr",
          "text": [
            "/usr/local/lib/python3.7/dist-packages/torch/nn/functional.py:4066: UserWarning: Default grid_sample and affine_grid behavior has changed to align_corners=False since 1.3.0. Please specify align_corners=True if the old behavior is desired. See the documentation of grid_sample for details.\n",
            "  \"Default grid_sample and affine_grid behavior has changed \"\n",
            "/usr/local/lib/python3.7/dist-packages/torch/nn/functional.py:4004: UserWarning: Default grid_sample and affine_grid behavior has changed to align_corners=False since 1.3.0. Please specify align_corners=True if the old behavior is desired. See the documentation of grid_sample for details.\n",
            "  \"Default grid_sample and affine_grid behavior has changed \"\n"
          ]
        }
      ]
    },
    {
      "cell_type": "markdown",
      "source": [
        "## Train & Test Functions"
      ],
      "metadata": {
        "id": "-9VxBx6pRjA8"
      }
    },
    {
      "cell_type": "code",
      "source": [
        "optimizer = optim.SGD(model.parameters(), lr=0.01)\n",
        "\n",
        "\n",
        "def train(epoch):\n",
        "    model.train()\n",
        "    for batch_idx, (data, target) in enumerate(train_loader):\n",
        "        data, target = data.to(device), target.to(device)\n",
        "\n",
        "        optimizer.zero_grad()\n",
        "        output = model(data)\n",
        "        loss = F.nll_loss(output, target)\n",
        "        loss.backward()\n",
        "        optimizer.step()\n",
        "        if batch_idx % 500 == 0:\n",
        "            print('Train Epoch: {} [{}/{} ({:.0f}%)]\\tLoss: {:.6f}'.format(\n",
        "                epoch, batch_idx * len(data), len(train_loader.dataset),\n",
        "                100. * batch_idx / len(train_loader), loss.item()))\n",
        "\n",
        "\n",
        "# A simple test procedure to measure STN the performances on MNIST.\n",
        "def test():\n",
        "    with torch.no_grad():\n",
        "        model.eval()\n",
        "        test_loss = 0\n",
        "        correct = 0\n",
        "        for data, target in test_loader:\n",
        "            data, target = data.to(device), target.to(device)\n",
        "            output = model(data)\n",
        "\n",
        "            # sum up batch loss\n",
        "            test_loss += F.nll_loss(output, target, size_average=False).item()\n",
        "            # get the index of the max log-probability\n",
        "            pred = output.max(1, keepdim=True)[1]\n",
        "            correct += pred.eq(target.view_as(pred)).sum().item()\n",
        "\n",
        "        test_loss /= len(test_loader.dataset)\n",
        "        print('\\nTest set: Average loss: {:.4f}, Accuracy: {}/{} ({:.0f}%)\\n'\n",
        "              .format(test_loss, correct, len(test_loader.dataset),\n",
        "                      100. * correct / len(test_loader.dataset)))"
      ],
      "metadata": {
        "id": "cSunBhZXRkUu"
      },
      "execution_count": 7,
      "outputs": []
    },
    {
      "cell_type": "markdown",
      "source": [
        "## Train Model"
      ],
      "metadata": {
        "id": "NV62xKzIR2sp"
      }
    },
    {
      "cell_type": "code",
      "source": [
        "for epoch in range(1, 51):\n",
        "    train(epoch)\n",
        "    test()"
      ],
      "metadata": {
        "colab": {
          "base_uri": "https://localhost:8080/"
        },
        "id": "Qn9VnxA1R3pw",
        "outputId": "4394fb4d-300c-4890-9293-55c4a82ce6c0"
      },
      "execution_count": 8,
      "outputs": [
        {
          "output_type": "stream",
          "name": "stderr",
          "text": [
            "/usr/local/lib/python3.7/dist-packages/torch/utils/data/dataloader.py:481: UserWarning: This DataLoader will create 4 worker processes in total. Our suggested max number of worker in current system is 2, which is smaller than what this DataLoader is going to create. Please be aware that excessive worker creation might get DataLoader running slow or even freeze, lower the worker number to avoid potential slowness/freeze if necessary.\n",
            "  cpuset_checked))\n",
            "/usr/local/lib/python3.7/dist-packages/torch/nn/functional.py:4066: UserWarning: Default grid_sample and affine_grid behavior has changed to align_corners=False since 1.3.0. Please specify align_corners=True if the old behavior is desired. See the documentation of grid_sample for details.\n",
            "  \"Default grid_sample and affine_grid behavior has changed \"\n",
            "/usr/local/lib/python3.7/dist-packages/torch/nn/functional.py:4004: UserWarning: Default grid_sample and affine_grid behavior has changed to align_corners=False since 1.3.0. Please specify align_corners=True if the old behavior is desired. See the documentation of grid_sample for details.\n",
            "  \"Default grid_sample and affine_grid behavior has changed \"\n"
          ]
        },
        {
          "output_type": "stream",
          "name": "stdout",
          "text": [
            "Train Epoch: 1 [0/50000 (0%)]\tLoss: 2.301728\n",
            "Train Epoch: 1 [32000/50000 (64%)]\tLoss: 1.981925\n"
          ]
        },
        {
          "output_type": "stream",
          "name": "stderr",
          "text": [
            "/usr/local/lib/python3.7/dist-packages/torch/nn/_reduction.py:42: UserWarning: size_average and reduce args will be deprecated, please use reduction='sum' instead.\n",
            "  warnings.warn(warning.format(ret))\n"
          ]
        },
        {
          "output_type": "stream",
          "name": "stdout",
          "text": [
            "\n",
            "Test set: Average loss: 1.8304, Accuracy: 3431/10000 (34%)\n",
            "\n",
            "Train Epoch: 2 [0/50000 (0%)]\tLoss: 2.004818\n",
            "Train Epoch: 2 [32000/50000 (64%)]\tLoss: 1.682925\n",
            "\n",
            "Test set: Average loss: 1.6111, Accuracy: 4202/10000 (42%)\n",
            "\n",
            "Train Epoch: 3 [0/50000 (0%)]\tLoss: 1.792376\n",
            "Train Epoch: 3 [32000/50000 (64%)]\tLoss: 1.718828\n",
            "\n",
            "Test set: Average loss: 1.5415, Accuracy: 4474/10000 (45%)\n",
            "\n",
            "Train Epoch: 4 [0/50000 (0%)]\tLoss: 1.819720\n",
            "Train Epoch: 4 [32000/50000 (64%)]\tLoss: 1.573076\n",
            "\n",
            "Test set: Average loss: 1.4425, Accuracy: 4832/10000 (48%)\n",
            "\n",
            "Train Epoch: 5 [0/50000 (0%)]\tLoss: 1.329195\n",
            "Train Epoch: 5 [32000/50000 (64%)]\tLoss: 1.455489\n",
            "\n",
            "Test set: Average loss: 1.4184, Accuracy: 4880/10000 (49%)\n",
            "\n",
            "Train Epoch: 6 [0/50000 (0%)]\tLoss: 1.430230\n",
            "Train Epoch: 6 [32000/50000 (64%)]\tLoss: 1.434268\n",
            "\n",
            "Test set: Average loss: 1.3516, Accuracy: 5149/10000 (51%)\n",
            "\n",
            "Train Epoch: 7 [0/50000 (0%)]\tLoss: 1.355284\n",
            "Train Epoch: 7 [32000/50000 (64%)]\tLoss: 1.534765\n",
            "\n",
            "Test set: Average loss: 1.3464, Accuracy: 5206/10000 (52%)\n",
            "\n",
            "Train Epoch: 8 [0/50000 (0%)]\tLoss: 1.295988\n",
            "Train Epoch: 8 [32000/50000 (64%)]\tLoss: 1.210028\n",
            "\n",
            "Test set: Average loss: 1.3852, Accuracy: 5143/10000 (51%)\n",
            "\n",
            "Train Epoch: 9 [0/50000 (0%)]\tLoss: 1.701890\n",
            "Train Epoch: 9 [32000/50000 (64%)]\tLoss: 1.127555\n",
            "\n",
            "Test set: Average loss: 1.2415, Accuracy: 5662/10000 (57%)\n",
            "\n",
            "Train Epoch: 10 [0/50000 (0%)]\tLoss: 1.455071\n",
            "Train Epoch: 10 [32000/50000 (64%)]\tLoss: 1.424353\n",
            "\n",
            "Test set: Average loss: 1.2629, Accuracy: 5607/10000 (56%)\n",
            "\n",
            "Train Epoch: 11 [0/50000 (0%)]\tLoss: 1.313301\n",
            "Train Epoch: 11 [32000/50000 (64%)]\tLoss: 1.253022\n",
            "\n",
            "Test set: Average loss: 1.3660, Accuracy: 5196/10000 (52%)\n",
            "\n",
            "Train Epoch: 12 [0/50000 (0%)]\tLoss: 1.547763\n",
            "Train Epoch: 12 [32000/50000 (64%)]\tLoss: 1.254721\n",
            "\n",
            "Test set: Average loss: 1.2152, Accuracy: 5667/10000 (57%)\n",
            "\n",
            "Train Epoch: 13 [0/50000 (0%)]\tLoss: 1.406668\n",
            "Train Epoch: 13 [32000/50000 (64%)]\tLoss: 1.206839\n",
            "\n",
            "Test set: Average loss: 1.1735, Accuracy: 5889/10000 (59%)\n",
            "\n",
            "Train Epoch: 14 [0/50000 (0%)]\tLoss: 1.023594\n",
            "Train Epoch: 14 [32000/50000 (64%)]\tLoss: 1.364591\n",
            "\n",
            "Test set: Average loss: 1.2183, Accuracy: 5730/10000 (57%)\n",
            "\n",
            "Train Epoch: 15 [0/50000 (0%)]\tLoss: 1.132396\n",
            "Train Epoch: 15 [32000/50000 (64%)]\tLoss: 1.291381\n",
            "\n",
            "Test set: Average loss: 1.1585, Accuracy: 5945/10000 (59%)\n",
            "\n",
            "Train Epoch: 16 [0/50000 (0%)]\tLoss: 1.095431\n",
            "Train Epoch: 16 [32000/50000 (64%)]\tLoss: 1.049565\n",
            "\n",
            "Test set: Average loss: 1.1647, Accuracy: 5936/10000 (59%)\n",
            "\n",
            "Train Epoch: 17 [0/50000 (0%)]\tLoss: 1.356097\n",
            "Train Epoch: 17 [32000/50000 (64%)]\tLoss: 1.146808\n",
            "\n",
            "Test set: Average loss: 1.0946, Accuracy: 6251/10000 (63%)\n",
            "\n",
            "Train Epoch: 18 [0/50000 (0%)]\tLoss: 1.068451\n",
            "Train Epoch: 18 [32000/50000 (64%)]\tLoss: 0.824458\n",
            "\n",
            "Test set: Average loss: 1.1344, Accuracy: 6031/10000 (60%)\n",
            "\n",
            "Train Epoch: 19 [0/50000 (0%)]\tLoss: 1.050137\n",
            "Train Epoch: 19 [32000/50000 (64%)]\tLoss: 1.109381\n",
            "\n",
            "Test set: Average loss: 1.1586, Accuracy: 5943/10000 (59%)\n",
            "\n",
            "Train Epoch: 20 [0/50000 (0%)]\tLoss: 1.256548\n",
            "Train Epoch: 20 [32000/50000 (64%)]\tLoss: 1.160666\n",
            "\n",
            "Test set: Average loss: 1.1424, Accuracy: 6089/10000 (61%)\n",
            "\n",
            "Train Epoch: 21 [0/50000 (0%)]\tLoss: 1.329542\n",
            "Train Epoch: 21 [32000/50000 (64%)]\tLoss: 1.022500\n",
            "\n",
            "Test set: Average loss: 1.0775, Accuracy: 6256/10000 (63%)\n",
            "\n",
            "Train Epoch: 22 [0/50000 (0%)]\tLoss: 1.363867\n",
            "Train Epoch: 22 [32000/50000 (64%)]\tLoss: 1.311817\n",
            "\n",
            "Test set: Average loss: 1.0805, Accuracy: 6307/10000 (63%)\n",
            "\n",
            "Train Epoch: 23 [0/50000 (0%)]\tLoss: 1.097380\n",
            "Train Epoch: 23 [32000/50000 (64%)]\tLoss: 1.017828\n",
            "\n",
            "Test set: Average loss: 1.0743, Accuracy: 6342/10000 (63%)\n",
            "\n",
            "Train Epoch: 24 [0/50000 (0%)]\tLoss: 1.037147\n",
            "Train Epoch: 24 [32000/50000 (64%)]\tLoss: 0.875904\n",
            "\n",
            "Test set: Average loss: 1.0463, Accuracy: 6489/10000 (65%)\n",
            "\n",
            "Train Epoch: 25 [0/50000 (0%)]\tLoss: 1.146446\n",
            "Train Epoch: 25 [32000/50000 (64%)]\tLoss: 1.082771\n",
            "\n",
            "Test set: Average loss: 1.0540, Accuracy: 6359/10000 (64%)\n",
            "\n",
            "Train Epoch: 26 [0/50000 (0%)]\tLoss: 1.043418\n",
            "Train Epoch: 26 [32000/50000 (64%)]\tLoss: 1.103940\n",
            "\n",
            "Test set: Average loss: 1.0386, Accuracy: 6462/10000 (65%)\n",
            "\n",
            "Train Epoch: 27 [0/50000 (0%)]\tLoss: 1.088127\n",
            "Train Epoch: 27 [32000/50000 (64%)]\tLoss: 1.241538\n",
            "\n",
            "Test set: Average loss: 1.0240, Accuracy: 6537/10000 (65%)\n",
            "\n",
            "Train Epoch: 28 [0/50000 (0%)]\tLoss: 0.966950\n",
            "Train Epoch: 28 [32000/50000 (64%)]\tLoss: 0.880452\n",
            "\n",
            "Test set: Average loss: 1.0225, Accuracy: 6571/10000 (66%)\n",
            "\n",
            "Train Epoch: 29 [0/50000 (0%)]\tLoss: 0.983755\n",
            "Train Epoch: 29 [32000/50000 (64%)]\tLoss: 1.143795\n",
            "\n",
            "Test set: Average loss: 1.0662, Accuracy: 6301/10000 (63%)\n",
            "\n",
            "Train Epoch: 30 [0/50000 (0%)]\tLoss: 0.918912\n",
            "Train Epoch: 30 [32000/50000 (64%)]\tLoss: 0.964199\n",
            "\n",
            "Test set: Average loss: 1.0152, Accuracy: 6534/10000 (65%)\n",
            "\n",
            "Train Epoch: 31 [0/50000 (0%)]\tLoss: 1.220566\n",
            "Train Epoch: 31 [32000/50000 (64%)]\tLoss: 0.833259\n",
            "\n",
            "Test set: Average loss: 1.0154, Accuracy: 6510/10000 (65%)\n",
            "\n",
            "Train Epoch: 32 [0/50000 (0%)]\tLoss: 1.029564\n",
            "Train Epoch: 32 [32000/50000 (64%)]\tLoss: 0.801605\n",
            "\n",
            "Test set: Average loss: 1.0323, Accuracy: 6484/10000 (65%)\n",
            "\n",
            "Train Epoch: 33 [0/50000 (0%)]\tLoss: 1.037148\n",
            "Train Epoch: 33 [32000/50000 (64%)]\tLoss: 0.903843\n",
            "\n",
            "Test set: Average loss: 1.0335, Accuracy: 6434/10000 (64%)\n",
            "\n",
            "Train Epoch: 34 [0/50000 (0%)]\tLoss: 1.126167\n",
            "Train Epoch: 34 [32000/50000 (64%)]\tLoss: 0.968298\n",
            "\n",
            "Test set: Average loss: 1.0561, Accuracy: 6400/10000 (64%)\n",
            "\n",
            "Train Epoch: 35 [0/50000 (0%)]\tLoss: 0.633604\n",
            "Train Epoch: 35 [32000/50000 (64%)]\tLoss: 0.724081\n",
            "\n",
            "Test set: Average loss: 1.0165, Accuracy: 6604/10000 (66%)\n",
            "\n",
            "Train Epoch: 36 [0/50000 (0%)]\tLoss: 0.971604\n",
            "Train Epoch: 36 [32000/50000 (64%)]\tLoss: 0.732642\n",
            "\n",
            "Test set: Average loss: 1.0204, Accuracy: 6569/10000 (66%)\n",
            "\n",
            "Train Epoch: 37 [0/50000 (0%)]\tLoss: 0.777975\n",
            "Train Epoch: 37 [32000/50000 (64%)]\tLoss: 0.557565\n",
            "\n",
            "Test set: Average loss: 1.0126, Accuracy: 6608/10000 (66%)\n",
            "\n",
            "Train Epoch: 38 [0/50000 (0%)]\tLoss: 0.770925\n",
            "Train Epoch: 38 [32000/50000 (64%)]\tLoss: 1.110042\n",
            "\n",
            "Test set: Average loss: 1.0463, Accuracy: 6457/10000 (65%)\n",
            "\n",
            "Train Epoch: 39 [0/50000 (0%)]\tLoss: 0.701298\n",
            "Train Epoch: 39 [32000/50000 (64%)]\tLoss: 0.889331\n",
            "\n",
            "Test set: Average loss: 1.0015, Accuracy: 6628/10000 (66%)\n",
            "\n",
            "Train Epoch: 40 [0/50000 (0%)]\tLoss: 0.951702\n",
            "Train Epoch: 40 [32000/50000 (64%)]\tLoss: 0.847342\n",
            "\n",
            "Test set: Average loss: 0.9926, Accuracy: 6654/10000 (67%)\n",
            "\n",
            "Train Epoch: 41 [0/50000 (0%)]\tLoss: 0.728503\n",
            "Train Epoch: 41 [32000/50000 (64%)]\tLoss: 0.817686\n",
            "\n",
            "Test set: Average loss: 1.0943, Accuracy: 6257/10000 (63%)\n",
            "\n",
            "Train Epoch: 42 [0/50000 (0%)]\tLoss: 0.763408\n",
            "Train Epoch: 42 [32000/50000 (64%)]\tLoss: 0.575945\n",
            "\n",
            "Test set: Average loss: 1.0573, Accuracy: 6449/10000 (64%)\n",
            "\n",
            "Train Epoch: 43 [0/50000 (0%)]\tLoss: 0.778861\n",
            "Train Epoch: 43 [32000/50000 (64%)]\tLoss: 0.699535\n",
            "\n",
            "Test set: Average loss: 1.1882, Accuracy: 6193/10000 (62%)\n",
            "\n",
            "Train Epoch: 44 [0/50000 (0%)]\tLoss: 1.209074\n",
            "Train Epoch: 44 [32000/50000 (64%)]\tLoss: 0.707676\n",
            "\n",
            "Test set: Average loss: 1.1008, Accuracy: 6268/10000 (63%)\n",
            "\n",
            "Train Epoch: 45 [0/50000 (0%)]\tLoss: 0.759709\n",
            "Train Epoch: 45 [32000/50000 (64%)]\tLoss: 0.581050\n",
            "\n",
            "Test set: Average loss: 0.9905, Accuracy: 6699/10000 (67%)\n",
            "\n",
            "Train Epoch: 46 [0/50000 (0%)]\tLoss: 0.795403\n",
            "Train Epoch: 46 [32000/50000 (64%)]\tLoss: 0.782734\n",
            "\n",
            "Test set: Average loss: 1.0043, Accuracy: 6655/10000 (67%)\n",
            "\n",
            "Train Epoch: 47 [0/50000 (0%)]\tLoss: 0.666026\n",
            "Train Epoch: 47 [32000/50000 (64%)]\tLoss: 0.740014\n",
            "\n",
            "Test set: Average loss: 1.0910, Accuracy: 6370/10000 (64%)\n",
            "\n",
            "Train Epoch: 48 [0/50000 (0%)]\tLoss: 0.579505\n",
            "Train Epoch: 48 [32000/50000 (64%)]\tLoss: 0.697954\n",
            "\n",
            "Test set: Average loss: 1.1973, Accuracy: 6095/10000 (61%)\n",
            "\n",
            "Train Epoch: 49 [0/50000 (0%)]\tLoss: 0.873521\n",
            "Train Epoch: 49 [32000/50000 (64%)]\tLoss: 0.565028\n",
            "\n",
            "Test set: Average loss: 1.0591, Accuracy: 6469/10000 (65%)\n",
            "\n",
            "Train Epoch: 50 [0/50000 (0%)]\tLoss: 0.605282\n",
            "Train Epoch: 50 [32000/50000 (64%)]\tLoss: 0.644525\n",
            "\n",
            "Test set: Average loss: 1.0898, Accuracy: 6415/10000 (64%)\n",
            "\n"
          ]
        }
      ]
    },
    {
      "cell_type": "markdown",
      "source": [
        "## Visualize Results"
      ],
      "metadata": {
        "id": "i0xnFq9cR7Pu"
      }
    },
    {
      "cell_type": "code",
      "source": [
        "def convert_image_np(inp):\n",
        "    \"\"\"Convert a Tensor to numpy image.\"\"\"\n",
        "    inp = inp.numpy().transpose((1, 2, 0))\n",
        "    mean = np.array([0.485, 0.456, 0.406])\n",
        "    std = np.array([0.229, 0.224, 0.225])\n",
        "    inp = std * inp + mean\n",
        "    inp = np.clip(inp, 0, 1)\n",
        "    return inp\n",
        "\n",
        "def visualize_stn():\n",
        "    with torch.no_grad():\n",
        "        # Get a batch of training data\n",
        "        data = next(iter(test_loader))[0].to(device)\n",
        "\n",
        "        input_tensor = data.cpu()\n",
        "        transformed_input_tensor = model.stn(data).cpu()\n",
        "\n",
        "        in_grid = convert_image_np(\n",
        "            torchvision.utils.make_grid(input_tensor))\n",
        "\n",
        "        out_grid = convert_image_np(\n",
        "            torchvision.utils.make_grid(transformed_input_tensor))\n",
        "\n",
        "        # Plot the results side-by-side\n",
        "        f, axarr = plt.subplots(1, 2)\n",
        "        axarr[0].imshow(in_grid)\n",
        "        axarr[0].set_title('Dataset Images')\n",
        "\n",
        "        axarr[1].imshow(out_grid)\n",
        "        axarr[1].set_title('Transformed Images')"
      ],
      "metadata": {
        "id": "gZOuU1NzR8fm"
      },
      "execution_count": 9,
      "outputs": []
    },
    {
      "cell_type": "code",
      "source": [
        "visualize_stn()\n",
        "\n",
        "plt.ioff()\n",
        "plt.show()"
      ],
      "metadata": {
        "colab": {
          "base_uri": "https://localhost:8080/",
          "height": 340
        },
        "id": "bDVX_VabSCt2",
        "outputId": "41759742-84d9-4823-b319-e2cdfc4d82df"
      },
      "execution_count": 10,
      "outputs": [
        {
          "output_type": "stream",
          "name": "stderr",
          "text": [
            "/usr/local/lib/python3.7/dist-packages/torch/utils/data/dataloader.py:481: UserWarning: This DataLoader will create 4 worker processes in total. Our suggested max number of worker in current system is 2, which is smaller than what this DataLoader is going to create. Please be aware that excessive worker creation might get DataLoader running slow or even freeze, lower the worker number to avoid potential slowness/freeze if necessary.\n",
            "  cpuset_checked))\n",
            "/usr/local/lib/python3.7/dist-packages/torch/nn/functional.py:4066: UserWarning: Default grid_sample and affine_grid behavior has changed to align_corners=False since 1.3.0. Please specify align_corners=True if the old behavior is desired. See the documentation of grid_sample for details.\n",
            "  \"Default grid_sample and affine_grid behavior has changed \"\n",
            "/usr/local/lib/python3.7/dist-packages/torch/nn/functional.py:4004: UserWarning: Default grid_sample and affine_grid behavior has changed to align_corners=False since 1.3.0. Please specify align_corners=True if the old behavior is desired. See the documentation of grid_sample for details.\n",
            "  \"Default grid_sample and affine_grid behavior has changed \"\n"
          ]
        },
        {
          "output_type": "display_data",
          "data": {
            "image/png": "[encoded data removed]",
            "text/plain": [
              "<Figure size 432x288 with 2 Axes>"
            ]
          },
          "metadata": {
            "needs_background": "light"
          }
        }
      ]
    }
  ]
}